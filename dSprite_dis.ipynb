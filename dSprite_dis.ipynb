{
 "cells": [
  {
   "cell_type": "code",
   "execution_count": 1,
   "id": "d8305a7e",
   "metadata": {},
   "outputs": [],
   "source": [
    "import matplotlib.pyplot as plt\n",
    "import numpy as np\n",
    "import random\n",
    "import torch\n",
    "import torch.nn as nn\n",
    "import torch.optim as optim\n",
    "import torch.utils.data as data_utils\n",
    "from sklearn import tree\n",
    "from sklearn.metrics import accuracy_score, mutual_info_score\n",
    "from sklearn.model_selection import cross_val_score\n",
    "from sklearn.preprocessing import minmax_scale\n",
    "from torch.utils.data import Dataset, DataLoader\n",
    "from termcolor import colored\n",
    "from tqdm import tqdm"
   ]
  },
  {
   "cell_type": "code",
   "execution_count": 2,
   "id": "59a0e676",
   "metadata": {},
   "outputs": [
    {
     "name": "stdout",
     "output_type": "stream",
     "text": [
      "Keys in the dataset: ['metadata', 'imgs', 'latents_classes', 'latents_values']\n",
      "\n",
      "Metadata: \n",
      " {'date': 'April 2017', 'description': 'Disentanglement test Sprites dataset.Procedurally generated 2D shapes, from 6 disentangled latent factors.This dataset uses 6 latents, controlling the color, shape, scale, rotation and position of a sprite. All possible variations of the latents are present. Ordering along dimension 1 is fixed and can be mapped back to the exact latent values that generated that image.We made sure that the pixel outputs are different. No noise added.', 'version': 1, 'latents_names': ('color', 'shape', 'scale', 'orientation', 'posX', 'posY'), 'latents_possible_values': {'orientation': array([0.        , 0.16110732, 0.32221463, 0.48332195, 0.64442926,\n",
      "       0.80553658, 0.96664389, 1.12775121, 1.28885852, 1.44996584,\n",
      "       1.61107316, 1.77218047, 1.93328779, 2.0943951 , 2.25550242,\n",
      "       2.41660973, 2.57771705, 2.73882436, 2.89993168, 3.061039  ,\n",
      "       3.22214631, 3.38325363, 3.54436094, 3.70546826, 3.86657557,\n",
      "       4.02768289, 4.1887902 , 4.34989752, 4.51100484, 4.67211215,\n",
      "       4.83321947, 4.99432678, 5.1554341 , 5.31654141, 5.47764873,\n",
      "       5.63875604, 5.79986336, 5.96097068, 6.12207799, 6.28318531]), 'posX': array([0.        , 0.03225806, 0.06451613, 0.09677419, 0.12903226,\n",
      "       0.16129032, 0.19354839, 0.22580645, 0.25806452, 0.29032258,\n",
      "       0.32258065, 0.35483871, 0.38709677, 0.41935484, 0.4516129 ,\n",
      "       0.48387097, 0.51612903, 0.5483871 , 0.58064516, 0.61290323,\n",
      "       0.64516129, 0.67741935, 0.70967742, 0.74193548, 0.77419355,\n",
      "       0.80645161, 0.83870968, 0.87096774, 0.90322581, 0.93548387,\n",
      "       0.96774194, 1.        ]), 'posY': array([0.        , 0.03225806, 0.06451613, 0.09677419, 0.12903226,\n",
      "       0.16129032, 0.19354839, 0.22580645, 0.25806452, 0.29032258,\n",
      "       0.32258065, 0.35483871, 0.38709677, 0.41935484, 0.4516129 ,\n",
      "       0.48387097, 0.51612903, 0.5483871 , 0.58064516, 0.61290323,\n",
      "       0.64516129, 0.67741935, 0.70967742, 0.74193548, 0.77419355,\n",
      "       0.80645161, 0.83870968, 0.87096774, 0.90322581, 0.93548387,\n",
      "       0.96774194, 1.        ]), 'scale': array([0.5, 0.6, 0.7, 0.8, 0.9, 1. ]), 'shape': array([1., 2., 3.]), 'color': array([1.])}, 'latents_sizes': array([ 1,  3,  6, 40, 32, 32], dtype=int64), 'author': 'lmatthey@google.com', 'title': 'dSprites dataset'}\n"
     ]
    }
   ],
   "source": [
    "# Load dataset\n",
    "dataset_zip = np.load('C:/Users/Minh Vu/Downloads/dsprites_ndarray_co1sh3sc6or40x32y32_64x64.npz', \n",
    "                      encoding='latin1', allow_pickle=True)\n",
    "\n",
    "# Get the keys as a list\n",
    "keys_list = list(dataset_zip.keys())\n",
    "print(\"Keys in the dataset:\", keys_list)\n",
    "\n",
    "# Extract data\n",
    "imgs = dataset_zip['imgs']\n",
    "latents_values = dataset_zip['latents_values']\n",
    "latents_classes = dataset_zip['latents_classes']\n",
    "\n",
    "# Load metadata\n",
    "metadata = dataset_zip['metadata'].item()\n",
    "print('\\nMetadata: \\n', metadata)"
   ]
  },
  {
   "cell_type": "code",
   "execution_count": 3,
   "id": "16e67463",
   "metadata": {
    "scrolled": true
   },
   "outputs": [
    {
     "data": {
      "image/png": "[encoded data removed]",
      "text/plain": [
       "<Figure size 1500x1500 with 25 Axes>"
      ]
     },
     "metadata": {},
     "output_type": "display_data"
    }
   ],
   "source": [
    "# Define number of values per latents and functions to convert to indices\n",
    "latents_sizes = metadata['latents_sizes']\n",
    "latents_bases = np.concatenate((latents_sizes[::-1].cumprod()[::-1][1:], np.array([1,])))\n",
    "\n",
    "def latent_to_index(latents):\n",
    "    return np.dot(latents, latents_bases).astype(int)\n",
    "\n",
    "def sample_latent(size):\n",
    "    samples = np.zeros((size, latents_sizes.size))\n",
    "    for lat_i, lat_size in enumerate(latents_sizes):\n",
    "        samples[:, lat_i] = np.random.randint(lat_size, size=size)\n",
    "\n",
    "    return samples\n",
    "\n",
    "# Display images function\n",
    "def show_images_grid(imgs_, num_images):\n",
    "    ncols = int(np.ceil(num_images**0.5))\n",
    "    nrows = int(np.ceil(num_images / ncols))\n",
    "    _, axes = plt.subplots(ncols, nrows, figsize=(nrows * 3, ncols * 3))\n",
    "    axes = axes.flatten()\n",
    "\n",
    "    for ax_i, ax in enumerate(axes):\n",
    "        if ax_i < num_images:\n",
    "            ax.imshow(imgs_[ax_i], cmap='Greys_r',  interpolation='nearest')\n",
    "            ax.set_xticks([])\n",
    "            ax.set_yticks([])\n",
    "        else:\n",
    "            ax.axis('off')\n",
    "    \n",
    "# Randomly sampling 5000 images from the dataset\n",
    "factors_sampled = sample_latent(5000)\n",
    "\n",
    "# Select images\n",
    "indices_sampled = latent_to_index(factors_sampled)\n",
    "imgs_sampled = imgs[indices_sampled]\n",
    "\n",
    "# Show 25 images\n",
    "show_images_grid(imgs_sampled, 25)"
   ]
  },
  {
   "cell_type": "code",
   "execution_count": 4,
   "id": "57f1e45e-d707-49ed-801d-7ec88bc55e40",
   "metadata": {},
   "outputs": [],
   "source": [
    "# Custom dataset class for dSprites\n",
    "class DspritesDataset(Dataset):\n",
    "    def __init__(self, npz_file):\n",
    "        self.data = np.load(npz_file)\n",
    "        self.images = np.expand_dims(self.data['imgs'], axis=1)\n",
    "        self.latent_values = self.data['latents_values']\n",
    "        self.latent_classes = self.data['latents_classes']\n",
    "\n",
    "    def __len__(self):\n",
    "        return len(self.images)\n",
    "\n",
    "    def __getitem__(self, idx):\n",
    "        image = torch.tensor(self.images[idx], dtype=torch.float32)\n",
    "        latent_values = torch.tensor(self.latent_values[idx], dtype=torch.float32)\n",
    "        latent_classes = torch.tensor(self.latent_classes[idx], dtype=torch.int)\n",
    "        return image, latent_values, latent_classes\n",
    "\n",
    "# VAE Encoder\n",
    "class Encoder(nn.Module):\n",
    "    def __init__(self, input_dim, output_dim, latent_dim):\n",
    "        super(Encoder, self).__init__()\n",
    "        self.fc = nn.Sequential(\n",
    "            nn.Linear(input_dim, 1200),\n",
    "            nn.ReLU(),\n",
    "            nn.Linear(1200, 1200),\n",
    "            nn.ReLU(),\n",
    "            nn.Linear(1200, output_dim)\n",
    "        )\n",
    "        self.fc_mu = nn.Linear(output_dim, latent_dim)\n",
    "        self.fc_logvar = nn.Linear(output_dim, latent_dim)\n",
    "\n",
    "    def forward(self, x):\n",
    "        h = x.view(-1, 64 * 64)\n",
    "        h = self.fc(h)\n",
    "        mu = self.fc_mu(h)\n",
    "        logvar = self.fc_logvar(h)\n",
    "        return mu, logvar\n",
    "\n",
    "# VAE Decoder\n",
    "class Decoder(nn.Module):\n",
    "    def __init__(self, input_dim, output_dim):\n",
    "        super(Decoder, self).__init__()\n",
    "        self.net = nn.Sequential(\n",
    "            nn.Linear(input_dim, 1200),\n",
    "            nn.ReLU(),\n",
    "            nn.Linear(1200, 1200),\n",
    "            nn.ReLU(),\n",
    "            nn.Linear(1200, 1200),\n",
    "            nn.ReLU(),\n",
    "            nn.Linear(1200, output_dim),\n",
    "            nn.Sigmoid()\n",
    "        )\n",
    "\n",
    "    def forward(self, z):\n",
    "        h = self.net(z)\n",
    "        mu_img = h.view(z.size(0), 1, 64, 64)\n",
    "        return mu_img\n",
    "\n",
    "# VAE model\n",
    "class VAE(nn.Module):\n",
    "    def __init__(self, input_dim, encoder_output_dim, latent_dim):\n",
    "        super(VAE, self).__init__()\n",
    "        self.encoder = Encoder(input_dim, encoder_output_dim, latent_dim)\n",
    "        self.decoder = Decoder(latent_dim, input_dim)\n",
    "\n",
    "    def reparameterize(self, mu, logvar):\n",
    "        std = torch.exp(0.5 * logvar)\n",
    "        eps = torch.randn_like(std)\n",
    "        return mu + eps * std\n",
    "\n",
    "    def forward(self, x):\n",
    "        mu, logvar = self.encoder(x)\n",
    "        z = self.reparameterize(mu, logvar)\n",
    "        recon_x = self.decoder(z)\n",
    "        return recon_x, mu, logvar\n",
    "\n",
    "# Loss function\n",
    "def loss_function(recon_x, x, mu, logvar, beta):\n",
    "    # Apply binary cross-entropy loss\n",
    "    BCE = nn.functional.binary_cross_entropy(recon_x, x, reduction='sum')\n",
    "    \n",
    "    # Compute the Kullback-Leibler divergence (KLD) term\n",
    "    KLD = -0.5 * torch.sum(1 + logvar - mu.pow(2) - logvar.exp())\n",
    "\n",
    "    # Compute ELBO loss\n",
    "    ELBO = BCE + beta * KLD\n",
    "    \n",
    "    return BCE, KLD, ELBO\n",
    "\n",
    "# Training function\n",
    "def train_vae(model, data_loader, optimizer, criterion, beta):\n",
    "    model.train()\n",
    "    prev_loss = float('inf')\n",
    "\n",
    "    for epoch in range(NUM_EPOCHS):\n",
    "        running_recon_loss = 0.0\n",
    "        running_kl_loss = 0.0\n",
    "        for image, latent_values, latent_classes in tqdm(data_loader, desc=f'Epoch {epoch+1}/{NUM_EPOCHS}', unit='batch'):\n",
    "            image = image.to(DEVICE)\n",
    "            optimizer.zero_grad()\n",
    "            recon_batch, mu, logvar = model(image)\n",
    "            recon_loss, kl_loss, elbo = criterion(recon_batch, image, mu, logvar, beta)\n",
    "            elbo.backward()\n",
    "            optimizer.step()\n",
    "            running_recon_loss += recon_loss.item()\n",
    "            running_kl_loss += kl_loss.item()\n",
    "        \n",
    "        # Compute average losses for the epoch\n",
    "        avg_recon_loss = running_recon_loss / len(data_loader.dataset)\n",
    "        avg_kl_loss = running_kl_loss / len(data_loader.dataset)\n",
    "        avg_elbo_loss = round(avg_recon_loss + beta * avg_kl_loss, 4)\n",
    "        print(f\"Epoch [{epoch+1}/{NUM_EPOCHS}], Recon: {avg_recon_loss:.4f}, KL: {avg_kl_loss:.4f}, ELBO: {avg_elbo_loss}\")\n",
    "\n",
    "        # Check for early convergence\n",
    "        if abs(avg_elbo_loss - prev_loss) < 1e-3:\n",
    "            break\n",
    "        \n",
    "        prev_loss = avg_elbo_loss\n",
    "    \n",
    "    return avg_recon_loss, avg_kl_loss, avg_elbo_loss\n",
    "\n",
    "# Visualization function\n",
    "def visualize_reconstructions(model, data_loader, num_samples):\n",
    "    model.eval()\n",
    "    num_cols = num_samples\n",
    "    fig, axes = plt.subplots(2, num_cols, figsize=(15, 6))\n",
    "    \n",
    "    with torch.no_grad():\n",
    "        for i, (image, _, _) in enumerate(data_loader):\n",
    "            if i >= num_samples:\n",
    "                break\n",
    "            \n",
    "            image = image.to(DEVICE)\n",
    "            recon_batch, _, _ = model(image)\n",
    "            original_img = image.cpu().numpy().squeeze()\n",
    "            reconstructed_img = recon_batch.cpu().numpy().squeeze()\n",
    "            \n",
    "            # Plot original images\n",
    "            for j in range(num_cols):\n",
    "                axes[0, j].imshow(original_img[j], cmap='gray')\n",
    "                axes[0, j].axis('off')\n",
    "            \n",
    "            # Plot reconstructed images\n",
    "            for j in range(num_cols):\n",
    "                axes[1, j].imshow(reconstructed_img[j], cmap='gray')\n",
    "                axes[1, j].axis('off')\n",
    "            \n",
    "            plt.show()\n",
    "            break"
   ]
  },
  {
   "cell_type": "code",
   "execution_count": 5,
   "id": "7b321da3-9903-4ded-9785-65f34ef2fbcf",
   "metadata": {},
   "outputs": [],
   "source": [
    "def concat_matrix(matrices, num_batches):\n",
    "    concatenated_matrix = []\n",
    "    for  i in range(num_batches):\n",
    "        matrix = matrices[i]\n",
    "        if i == 0:\n",
    "            concatenated_matrix = matrix\n",
    "        else:\n",
    "            concatenated_matrix = np.concatenate((concatenated_matrix, matrix), axis=0)\n",
    "\n",
    "    return concatenated_matrix\n",
    "\n",
    "# Sampling function\n",
    "def get_factors_latents(model, data_loader):\n",
    "    model.eval()\n",
    "    with torch.no_grad():\n",
    "        all_factor_values = []\n",
    "        all_factor_classes = []\n",
    "        all_mu = []\n",
    "        for image, factor_values, factor_classes in tqdm(data_loader, desc=\"Extracting Factors and Latents\"):\n",
    "            all_factor_values.append(factor_values)\n",
    "            all_factor_classes.append(factor_classes)\n",
    "            image = image.to(DEVICE)\n",
    "            mu, logvar = model.encoder(image.view(image.size(0), -1))\n",
    "            all_mu.append(mu.squeeze().cpu().numpy())\n",
    "\n",
    "    concatenated_factor_values = torch.cat(all_factor_values, dim=0).numpy()\n",
    "    concatenated_factor_classes = torch.cat(all_factor_classes, dim=0).numpy()\n",
    "    num_batches = int(DATA_SIZE / BATCH_SIZE)\n",
    "    concatenated_mu = concat_matrix(np.array(all_mu), num_batches)\n",
    "    \n",
    "    return concatenated_factor_values, concatenated_factor_classes, concatenated_mu"
   ]
  },
  {
   "cell_type": "code",
   "execution_count": 6,
   "id": "a0be647e-f0cc-41e6-8c99-6946e16a7743",
   "metadata": {},
   "outputs": [],
   "source": [
    "def get_bin_index(x, nb_bins):\n",
    "    # get bins limits\n",
    "    bins = np.linspace(0, 1, nb_bins + 1)\n",
    "\n",
    "    # discretize input variable\n",
    "    return np.digitize(x, bins[:-1], right=False).astype(int)\n",
    "\n",
    "# MIG score\n",
    "def mig(factors, latents, nb_bins):\n",
    "    # count the number of factors and latents\n",
    "    nb_factors = factors.shape[1]\n",
    "    nb_latents = latents.shape[1]\n",
    "    \n",
    "    # quantize latents\n",
    "    latents = np.apply_along_axis(minmax_scale, axis=0, arr=latents)  \n",
    "    latents = get_bin_index(latents, nb_bins)\n",
    "\n",
    "    # compute mutual information matrix\n",
    "    mi_matrix = np.zeros((nb_factors, nb_latents))\n",
    "    for f in range(nb_factors):\n",
    "        for l in range(nb_latents):\n",
    "            mi_matrix[f, l] = mutual_info_score(factors[:, f], latents[:, l])\n",
    "    \n",
    "    # compute the mean gap for all factors\n",
    "    sum_gap = 0\n",
    "    for f in range(nb_factors):\n",
    "        mi_f = np.sort(mi_matrix[f, :])\n",
    "        # get diff between highest and second highest term and add it to total gap\n",
    "        sum_gap += mi_f[-1] - mi_f[-2]\n",
    "    \n",
    "    # compute the mean gap\n",
    "    mig_score = round(sum_gap / nb_factors, 4)\n",
    "\n",
    "    return mig_score, np.round(mi_matrix, 4)\n",
    "\n",
    "# SAP score\n",
    "def sap(factors, latents):\n",
    "    # count the number of factors and latent codes\n",
    "    nb_factors = factors.shape[1]\n",
    "    nb_latents = latents.shape[1]\n",
    "    \n",
    "    # normalize in [0, 1] to each latent\n",
    "    latents = np.apply_along_axis(minmax_scale, axis=0, arr=latents)\n",
    "    \n",
    "    # compute score using classification algorithms\n",
    "    # compute accuracy matrix\n",
    "    s_matrix = np.zeros((nb_factors, nb_latents))\n",
    "    for f in range(nb_factors):\n",
    "        for l in range(nb_latents):\n",
    "            # find the optimal number of splits\n",
    "            best_score, best_sp = 0, 0\n",
    "            for sp in range(1, 10):\n",
    "                # perform cross validation on the tree classifiers\n",
    "                clf = tree.DecisionTreeClassifier(max_depth=sp)\n",
    "                scores = cross_val_score(clf, latents[:, l].reshape(-1, 1), factors[:, f].reshape(-1, 1), cv=10)\n",
    "                scores = scores.mean()\n",
    "                \n",
    "                if scores > best_score:\n",
    "                    best_score = scores\n",
    "                    best_sp = sp\n",
    "            \n",
    "            # train the model using the best performing parameter\n",
    "            clf = tree.DecisionTreeClassifier(max_depth=best_sp)\n",
    "            clf.fit(latents[:, l].reshape(-1, 1), factors[:, f].reshape(-1, 1))\n",
    "\n",
    "            # make predictions using the testing set\n",
    "            y_pred = clf.predict(latents[:, l].reshape(-1, 1))\n",
    "\n",
    "            # compute accuracy\n",
    "            s_matrix[f, l] = accuracy_score(y_pred, factors[:, f])\n",
    "\n",
    "    # compute the mean gap for all factors\n",
    "    sum_gap = 0\n",
    "    for f in range(nb_factors):\n",
    "        # get diff between highest and second highest term and add it to total gap\n",
    "        s_f = np.sort(s_matrix[f, :])\n",
    "        sum_gap += s_f[-1] - s_f[-2]\n",
    "    \n",
    "    # compute the mean gap \n",
    "    sap_score = round(sum_gap / nb_factors, 4)\n",
    "    \n",
    "    return sap_score\n",
    "\n",
    "# Compute MIG and SAP scores\n",
    "def compute_disentangelement_scores(factors, latents):\n",
    "    factors = factors + 1\n",
    "    indices = random.sample(range(len(factors)), NUM_SAMPLES)\n",
    "    sampled_factors = factors[indices]\n",
    "    sampled_latents = latents[indices]\n",
    "    \n",
    "    mig_score, mi_matrix = mig(sampled_factors, sampled_latents, NUM_BINS)\n",
    "    sap_score = sap(sampled_factors, sampled_latents)\n",
    "    print('MIG score: {}'.format(mig_score))\n",
    "    print('SAP score: {}\\n'.format(sap_score))\n",
    "\n",
    "    return mig_score, sap_score, mi_matrix"
   ]
  },
  {
   "cell_type": "code",
   "execution_count": 7,
   "id": "7796e8a9-2327-44e0-8897-7b2ef2ce6c38",
   "metadata": {},
   "outputs": [],
   "source": [
    "# Constants\n",
    "beta_values = [1, 2, 4, 6, 8]\n",
    "LATENT_DIM = 10\n",
    "DATA_SIZE = 737280\n",
    "BATCH_SIZE = 64\n",
    "LEARNING_RATE = 1e-4\n",
    "NUM_EPOCHS = 80\n",
    "NUM_BINS = 20\n",
    "NUM_SAMPLES = 100000\n",
    "NUM_ITERS = 10\n",
    "DEVICE = torch.device(\"cuda\" if torch.cuda.is_available() else \"cpu\")\n",
    "NPZ_FILE = \"C:/Users/Minh Vu/Downloads/dsprites_ndarray_co1sh3sc6or40x32y32_64x64.npz\"\n",
    "\n",
    "# Create dataset\n",
    "dsprites_dataset = DspritesDataset(NPZ_FILE)\n",
    "\n",
    "# Create data loader\n",
    "data_loader = DataLoader(dsprites_dataset, batch_size=BATCH_SIZE, shuffle=True)\n",
    "\n",
    "# Initialize the VAE model\n",
    "model = VAE(input_dim=4096, encoder_output_dim=1200, latent_dim=LATENT_DIM).to(DEVICE)\n",
    "\n",
    "# Define loss function and optimizer\n",
    "optimizer = optim.Adam(model.parameters(), lr=LEARNING_RATE)\n",
    "criterion = loss_function"
   ]
  },
  {
   "cell_type": "code",
   "execution_count": 8,
   "id": "94979373-36d7-4448-81d7-1664dc58d69e",
   "metadata": {},
   "outputs": [
    {
     "name": "stdout",
     "output_type": "stream",
     "text": [
      "\u001b[1m\u001b[31m\n",
      "Training with beta = 1:\u001b[0m\n"
     ]
    },
    {
     "name": "stderr",
     "output_type": "stream",
     "text": [
      "Epoch 1/80: 100%|█████████████████████████████████████████████████████████████| 11520/11520 [01:56<00:00, 98.89batch/s]\n"
     ]
    },
    {
     "name": "stdout",
     "output_type": "stream",
     "text": [
      "Epoch [1/80], Recon: 121.4964, KL: 15.1397, ELBO: 136.6361\n"
     ]
    },
    {
     "name": "stderr",
     "output_type": "stream",
     "text": [
      "Epoch 2/80: 100%|█████████████████████████████████████████████████████████████| 11520/11520 [01:56<00:00, 99.14batch/s]\n"
     ]
    },
    {
     "name": "stdout",
     "output_type": "stream",
     "text": [
      "Epoch [2/80], Recon: 74.3461, KL: 15.8201, ELBO: 90.1662\n"
     ]
    },
    {
     "name": "stderr",
     "output_type": "stream",
     "text": [
      "Epoch 3/80: 100%|█████████████████████████████████████████████████████████████| 11520/11520 [02:06<00:00, 90.79batch/s]\n"
     ]
    },
    {
     "name": "stdout",
     "output_type": "stream",
     "text": [
      "Epoch [3/80], Recon: 68.4296, KL: 16.1134, ELBO: 84.543\n"
     ]
    },
    {
     "name": "stderr",
     "output_type": "stream",
     "text": [
      "Epoch 4/80: 100%|█████████████████████████████████████████████████████████████| 11520/11520 [01:55<00:00, 99.39batch/s]\n"
     ]
    },
    {
     "name": "stdout",
     "output_type": "stream",
     "text": [
      "Epoch [4/80], Recon: 61.9288, KL: 16.5442, ELBO: 78.473\n"
     ]
    },
    {
     "name": "stderr",
     "output_type": "stream",
     "text": [
      "Epoch 5/80: 100%|█████████████████████████████████████████████████████████████| 11520/11520 [01:56<00:00, 98.50batch/s]\n"
     ]
    },
    {
     "name": "stdout",
     "output_type": "stream",
     "text": [
      "Epoch [5/80], Recon: 56.4530, KL: 16.9212, ELBO: 73.3742\n"
     ]
    },
    {
     "name": "stderr",
     "output_type": "stream",
     "text": [
      "Epoch 6/80: 100%|█████████████████████████████████████████████████████████████| 11520/11520 [01:57<00:00, 97.89batch/s]\n"
     ]
    },
    {
     "name": "stdout",
     "output_type": "stream",
     "text": [
      "Epoch [6/80], Recon: 52.9489, KL: 17.1429, ELBO: 70.0919\n"
     ]
    },
    {
     "name": "stderr",
     "output_type": "stream",
     "text": [
      "Epoch 7/80: 100%|████████████████████████████████████████████████████████████| 11520/11520 [01:54<00:00, 100.54batch/s]\n"
     ]
    },
    {
     "name": "stdout",
     "output_type": "stream",
     "text": [
      "Epoch [7/80], Recon: 50.3948, KL: 17.3228, ELBO: 67.7175\n"
     ]
    },
    {
     "name": "stderr",
     "output_type": "stream",
     "text": [
      "Epoch 8/80: 100%|█████████████████████████████████████████████████████████████| 11520/11520 [02:00<00:00, 95.95batch/s]\n"
     ]
    },
    {
     "name": "stdout",
     "output_type": "stream",
     "text": [
      "Epoch [8/80], Recon: 48.1256, KL: 17.5684, ELBO: 65.6941\n"
     ]
    },
    {
     "name": "stderr",
     "output_type": "stream",
     "text": [
      "Epoch 9/80: 100%|████████████████████████████████████████████████████████████| 11520/11520 [01:54<00:00, 100.46batch/s]\n"
     ]
    },
    {
     "name": "stdout",
     "output_type": "stream",
     "text": [
      "Epoch [9/80], Recon: 44.2935, KL: 18.3197, ELBO: 62.6132\n"
     ]
    },
    {
     "name": "stderr",
     "output_type": "stream",
     "text": [
      "Epoch 10/80: 100%|████████████████████████████████████████████████████████████| 11520/11520 [01:57<00:00, 97.78batch/s]\n"
     ]
    },
    {
     "name": "stdout",
     "output_type": "stream",
     "text": [
      "Epoch [10/80], Recon: 41.0926, KL: 18.7688, ELBO: 59.8613\n"
     ]
    },
    {
     "name": "stderr",
     "output_type": "stream",
     "text": [
      "Epoch 11/80: 100%|████████████████████████████████████████████████████████████| 11520/11520 [01:57<00:00, 98.04batch/s]\n"
     ]
    },
    {
     "name": "stdout",
     "output_type": "stream",
     "text": [
      "Epoch [11/80], Recon: 39.0038, KL: 19.0006, ELBO: 58.0044\n"
     ]
    },
    {
     "name": "stderr",
     "output_type": "stream",
     "text": [
      "Epoch 12/80: 100%|███████████████████████████████████████████████████████████| 11520/11520 [01:54<00:00, 100.77batch/s]\n"
     ]
    },
    {
     "name": "stdout",
     "output_type": "stream",
     "text": [
      "Epoch [12/80], Recon: 37.3839, KL: 19.1662, ELBO: 56.5501\n"
     ]
    },
    {
     "name": "stderr",
     "output_type": "stream",
     "text": [
      "Epoch 13/80: 100%|████████████████████████████████████████████████████████████| 11520/11520 [01:59<00:00, 96.37batch/s]\n"
     ]
    },
    {
     "name": "stdout",
     "output_type": "stream",
     "text": [
      "Epoch [13/80], Recon: 36.0273, KL: 19.2964, ELBO: 55.3237\n"
     ]
    },
    {
     "name": "stderr",
     "output_type": "stream",
     "text": [
      "Epoch 14/80: 100%|███████████████████████████████████████████████████████████| 11520/11520 [01:54<00:00, 100.51batch/s]\n"
     ]
    },
    {
     "name": "stdout",
     "output_type": "stream",
     "text": [
      "Epoch [14/80], Recon: 34.8460, KL: 19.4184, ELBO: 54.2643\n"
     ]
    },
    {
     "name": "stderr",
     "output_type": "stream",
     "text": [
      "Epoch 15/80: 100%|███████████████████████████████████████████████████████████| 11520/11520 [01:54<00:00, 100.66batch/s]\n"
     ]
    },
    {
     "name": "stdout",
     "output_type": "stream",
     "text": [
      "Epoch [15/80], Recon: 33.7955, KL: 19.5174, ELBO: 53.3129\n"
     ]
    },
    {
     "name": "stderr",
     "output_type": "stream",
     "text": [
      "Epoch 16/80: 100%|████████████████████████████████████████████████████████████| 11520/11520 [01:59<00:00, 96.18batch/s]\n"
     ]
    },
    {
     "name": "stdout",
     "output_type": "stream",
     "text": [
      "Epoch [16/80], Recon: 32.8849, KL: 19.6069, ELBO: 52.4918\n"
     ]
    },
    {
     "name": "stderr",
     "output_type": "stream",
     "text": [
      "Epoch 17/80: 100%|███████████████████████████████████████████████████████████| 11520/11520 [01:54<00:00, 100.24batch/s]\n"
     ]
    },
    {
     "name": "stdout",
     "output_type": "stream",
     "text": [
      "Epoch [17/80], Recon: 32.0348, KL: 19.6830, ELBO: 51.7178\n"
     ]
    },
    {
     "name": "stderr",
     "output_type": "stream",
     "text": [
      "Epoch 18/80: 100%|████████████████████████████████████████████████████████████| 11520/11520 [02:01<00:00, 95.15batch/s]\n"
     ]
    },
    {
     "name": "stdout",
     "output_type": "stream",
     "text": [
      "Epoch [18/80], Recon: 31.2998, KL: 19.7475, ELBO: 51.0472\n"
     ]
    },
    {
     "name": "stderr",
     "output_type": "stream",
     "text": [
      "Epoch 19/80: 100%|████████████████████████████████████████████████████████████| 11520/11520 [01:58<00:00, 96.94batch/s]\n"
     ]
    },
    {
     "name": "stdout",
     "output_type": "stream",
     "text": [
      "Epoch [19/80], Recon: 30.5919, KL: 19.8161, ELBO: 50.408\n"
     ]
    },
    {
     "name": "stderr",
     "output_type": "stream",
     "text": [
      "Epoch 20/80: 100%|████████████████████████████████████████████████████████████| 11520/11520 [01:56<00:00, 98.88batch/s]\n"
     ]
    },
    {
     "name": "stdout",
     "output_type": "stream",
     "text": [
      "Epoch [20/80], Recon: 29.9461, KL: 19.8786, ELBO: 49.8247\n"
     ]
    },
    {
     "name": "stderr",
     "output_type": "stream",
     "text": [
      "Epoch 21/80: 100%|████████████████████████████████████████████████████████████| 11520/11520 [01:58<00:00, 97.40batch/s]\n"
     ]
    },
    {
     "name": "stdout",
     "output_type": "stream",
     "text": [
      "Epoch [21/80], Recon: 29.3639, KL: 19.9293, ELBO: 49.2932\n"
     ]
    },
    {
     "name": "stderr",
     "output_type": "stream",
     "text": [
      "Epoch 22/80: 100%|███████████████████████████████████████████████████████████| 11520/11520 [01:54<00:00, 100.49batch/s]\n"
     ]
    },
    {
     "name": "stdout",
     "output_type": "stream",
     "text": [
      "Epoch [22/80], Recon: 28.8073, KL: 19.9813, ELBO: 48.7886\n"
     ]
    },
    {
     "name": "stderr",
     "output_type": "stream",
     "text": [
      "Epoch 23/80: 100%|████████████████████████████████████████████████████████████| 11520/11520 [01:58<00:00, 96.86batch/s]\n"
     ]
    },
    {
     "name": "stdout",
     "output_type": "stream",
     "text": [
      "Epoch [23/80], Recon: 28.3064, KL: 20.0339, ELBO: 48.3403\n"
     ]
    },
    {
     "name": "stderr",
     "output_type": "stream",
     "text": [
      "Epoch 24/80: 100%|████████████████████████████████████████████████████████████| 11520/11520 [01:55<00:00, 99.61batch/s]\n"
     ]
    },
    {
     "name": "stdout",
     "output_type": "stream",
     "text": [
      "Epoch [24/80], Recon: 27.8135, KL: 20.0780, ELBO: 47.8915\n"
     ]
    },
    {
     "name": "stderr",
     "output_type": "stream",
     "text": [
      "Epoch 25/80: 100%|███████████████████████████████████████████████████████████| 11520/11520 [01:54<00:00, 100.54batch/s]\n"
     ]
    },
    {
     "name": "stdout",
     "output_type": "stream",
     "text": [
      "Epoch [25/80], Recon: 27.3579, KL: 20.1056, ELBO: 47.4635\n"
     ]
    },
    {
     "name": "stderr",
     "output_type": "stream",
     "text": [
      "Epoch 26/80: 100%|████████████████████████████████████████████████████████████| 11520/11520 [01:59<00:00, 96.01batch/s]\n"
     ]
    },
    {
     "name": "stdout",
     "output_type": "stream",
     "text": [
      "Epoch [26/80], Recon: 26.9397, KL: 20.1580, ELBO: 47.0977\n"
     ]
    },
    {
     "name": "stderr",
     "output_type": "stream",
     "text": [
      "Epoch 27/80: 100%|████████████████████████████████████████████████████████████| 11520/11520 [01:55<00:00, 99.70batch/s]\n"
     ]
    },
    {
     "name": "stdout",
     "output_type": "stream",
     "text": [
      "Epoch [27/80], Recon: 26.5488, KL: 20.1904, ELBO: 46.7392\n"
     ]
    },
    {
     "name": "stderr",
     "output_type": "stream",
     "text": [
      "Epoch 28/80: 100%|████████████████████████████████████████████████████████████| 11520/11520 [01:58<00:00, 97.33batch/s]\n"
     ]
    },
    {
     "name": "stdout",
     "output_type": "stream",
     "text": [
      "Epoch [28/80], Recon: 26.1782, KL: 20.2241, ELBO: 46.4023\n"
     ]
    },
    {
     "name": "stderr",
     "output_type": "stream",
     "text": [
      "Epoch 29/80: 100%|████████████████████████████████████████████████████████████| 11520/11520 [01:56<00:00, 98.68batch/s]\n"
     ]
    },
    {
     "name": "stdout",
     "output_type": "stream",
     "text": [
      "Epoch [29/80], Recon: 25.8267, KL: 20.2559, ELBO: 46.0827\n"
     ]
    },
    {
     "name": "stderr",
     "output_type": "stream",
     "text": [
      "Epoch 30/80: 100%|████████████████████████████████████████████████████████████| 11520/11520 [01:55<00:00, 99.95batch/s]\n"
     ]
    },
    {
     "name": "stdout",
     "output_type": "stream",
     "text": [
      "Epoch [30/80], Recon: 25.4666, KL: 20.2913, ELBO: 45.7579\n"
     ]
    },
    {
     "name": "stderr",
     "output_type": "stream",
     "text": [
      "Epoch 31/80: 100%|████████████████████████████████████████████████████████████| 11520/11520 [02:00<00:00, 95.82batch/s]\n"
     ]
    },
    {
     "name": "stdout",
     "output_type": "stream",
     "text": [
      "Epoch [31/80], Recon: 25.1495, KL: 20.3181, ELBO: 45.4676\n"
     ]
    },
    {
     "name": "stderr",
     "output_type": "stream",
     "text": [
      "Epoch 32/80: 100%|███████████████████████████████████████████████████████████| 11520/11520 [01:54<00:00, 100.21batch/s]\n"
     ]
    },
    {
     "name": "stdout",
     "output_type": "stream",
     "text": [
      "Epoch [32/80], Recon: 24.8545, KL: 20.3422, ELBO: 45.1967\n"
     ]
    },
    {
     "name": "stderr",
     "output_type": "stream",
     "text": [
      "Epoch 33/80: 100%|████████████████████████████████████████████████████████████| 11520/11520 [01:57<00:00, 97.80batch/s]\n"
     ]
    },
    {
     "name": "stdout",
     "output_type": "stream",
     "text": [
      "Epoch [33/80], Recon: 24.5463, KL: 20.3682, ELBO: 44.9146\n"
     ]
    },
    {
     "name": "stderr",
     "output_type": "stream",
     "text": [
      "Epoch 34/80: 100%|████████████████████████████████████████████████████████████| 11520/11520 [02:01<00:00, 94.85batch/s]\n"
     ]
    },
    {
     "name": "stdout",
     "output_type": "stream",
     "text": [
      "Epoch [34/80], Recon: 24.2781, KL: 20.4002, ELBO: 44.6783\n"
     ]
    },
    {
     "name": "stderr",
     "output_type": "stream",
     "text": [
      "Epoch 35/80: 100%|███████████████████████████████████████████████████████████| 11520/11520 [01:55<00:00, 100.03batch/s]\n"
     ]
    },
    {
     "name": "stdout",
     "output_type": "stream",
     "text": [
      "Epoch [35/80], Recon: 24.0210, KL: 20.4184, ELBO: 44.4394\n"
     ]
    },
    {
     "name": "stderr",
     "output_type": "stream",
     "text": [
      "Epoch 36/80: 100%|████████████████████████████████████████████████████████████| 11520/11520 [01:58<00:00, 97.39batch/s]\n"
     ]
    },
    {
     "name": "stdout",
     "output_type": "stream",
     "text": [
      "Epoch [36/80], Recon: 23.7676, KL: 20.4442, ELBO: 44.2119\n"
     ]
    },
    {
     "name": "stderr",
     "output_type": "stream",
     "text": [
      "Epoch 37/80: 100%|████████████████████████████████████████████████████████████| 11520/11520 [01:56<00:00, 98.60batch/s]\n"
     ]
    },
    {
     "name": "stdout",
     "output_type": "stream",
     "text": [
      "Epoch [37/80], Recon: 23.5223, KL: 20.4628, ELBO: 43.9851\n"
     ]
    },
    {
     "name": "stderr",
     "output_type": "stream",
     "text": [
      "Epoch 38/80: 100%|████████████████████████████████████████████████████████████| 11520/11520 [01:57<00:00, 98.28batch/s]\n"
     ]
    },
    {
     "name": "stdout",
     "output_type": "stream",
     "text": [
      "Epoch [38/80], Recon: 23.2873, KL: 20.4824, ELBO: 43.7697\n"
     ]
    },
    {
     "name": "stderr",
     "output_type": "stream",
     "text": [
      "Epoch 39/80: 100%|████████████████████████████████████████████████████████████| 11520/11520 [01:58<00:00, 97.62batch/s]\n"
     ]
    },
    {
     "name": "stdout",
     "output_type": "stream",
     "text": [
      "Epoch [39/80], Recon: 23.0833, KL: 20.5064, ELBO: 43.5897\n"
     ]
    },
    {
     "name": "stderr",
     "output_type": "stream",
     "text": [
      "Epoch 40/80: 100%|███████████████████████████████████████████████████████████| 11520/11520 [01:54<00:00, 100.32batch/s]\n"
     ]
    },
    {
     "name": "stdout",
     "output_type": "stream",
     "text": [
      "Epoch [40/80], Recon: 22.8634, KL: 20.5203, ELBO: 43.3837\n"
     ]
    },
    {
     "name": "stderr",
     "output_type": "stream",
     "text": [
      "Epoch 41/80: 100%|████████████████████████████████████████████████████████████| 11520/11520 [01:59<00:00, 96.31batch/s]\n"
     ]
    },
    {
     "name": "stdout",
     "output_type": "stream",
     "text": [
      "Epoch [41/80], Recon: 22.6545, KL: 20.5428, ELBO: 43.1973\n"
     ]
    },
    {
     "name": "stderr",
     "output_type": "stream",
     "text": [
      "Epoch 42/80: 100%|████████████████████████████████████████████████████████████| 11520/11520 [01:55<00:00, 99.40batch/s]\n"
     ]
    },
    {
     "name": "stdout",
     "output_type": "stream",
     "text": [
      "Epoch [42/80], Recon: 22.4472, KL: 20.5581, ELBO: 43.0053\n"
     ]
    },
    {
     "name": "stderr",
     "output_type": "stream",
     "text": [
      "Epoch 43/80: 100%|████████████████████████████████████████████████████████████| 11520/11520 [01:56<00:00, 98.90batch/s]\n"
     ]
    },
    {
     "name": "stdout",
     "output_type": "stream",
     "text": [
      "Epoch [43/80], Recon: 22.2536, KL: 20.5813, ELBO: 42.8349\n"
     ]
    },
    {
     "name": "stderr",
     "output_type": "stream",
     "text": [
      "Epoch 44/80: 100%|████████████████████████████████████████████████████████████| 11520/11520 [01:58<00:00, 96.92batch/s]\n"
     ]
    },
    {
     "name": "stdout",
     "output_type": "stream",
     "text": [
      "Epoch [44/80], Recon: 22.0708, KL: 20.5909, ELBO: 42.6617\n"
     ]
    },
    {
     "name": "stderr",
     "output_type": "stream",
     "text": [
      "Epoch 45/80: 100%|███████████████████████████████████████████████████████████| 11520/11520 [01:55<00:00, 100.15batch/s]\n"
     ]
    },
    {
     "name": "stdout",
     "output_type": "stream",
     "text": [
      "Epoch [45/80], Recon: 21.8823, KL: 20.6107, ELBO: 42.493\n"
     ]
    },
    {
     "name": "stderr",
     "output_type": "stream",
     "text": [
      "Epoch 46/80: 100%|████████████████████████████████████████████████████████████| 11520/11520 [01:56<00:00, 98.83batch/s]\n"
     ]
    },
    {
     "name": "stdout",
     "output_type": "stream",
     "text": [
      "Epoch [46/80], Recon: 21.7083, KL: 20.6261, ELBO: 42.3344\n"
     ]
    },
    {
     "name": "stderr",
     "output_type": "stream",
     "text": [
      "Epoch 47/80: 100%|████████████████████████████████████████████████████████████| 11520/11520 [01:58<00:00, 97.00batch/s]\n"
     ]
    },
    {
     "name": "stdout",
     "output_type": "stream",
     "text": [
      "Epoch [47/80], Recon: 21.5674, KL: 20.6360, ELBO: 42.2034\n"
     ]
    },
    {
     "name": "stderr",
     "output_type": "stream",
     "text": [
      "Epoch 48/80: 100%|████████████████████████████████████████████████████████████| 11520/11520 [02:00<00:00, 95.88batch/s]\n"
     ]
    },
    {
     "name": "stdout",
     "output_type": "stream",
     "text": [
      "Epoch [48/80], Recon: 21.3921, KL: 20.6527, ELBO: 42.0448\n"
     ]
    },
    {
     "name": "stderr",
     "output_type": "stream",
     "text": [
      "Epoch 49/80: 100%|████████████████████████████████████████████████████████████| 11520/11520 [02:03<00:00, 93.34batch/s]\n"
     ]
    },
    {
     "name": "stdout",
     "output_type": "stream",
     "text": [
      "Epoch [49/80], Recon: 21.2281, KL: 20.6642, ELBO: 41.8923\n"
     ]
    },
    {
     "name": "stderr",
     "output_type": "stream",
     "text": [
      "Epoch 50/80: 100%|████████████████████████████████████████████████████████████| 11520/11520 [01:57<00:00, 98.07batch/s]\n"
     ]
    },
    {
     "name": "stdout",
     "output_type": "stream",
     "text": [
      "Epoch [50/80], Recon: 21.0830, KL: 20.6790, ELBO: 41.762\n"
     ]
    },
    {
     "name": "stderr",
     "output_type": "stream",
     "text": [
      "Epoch 51/80: 100%|████████████████████████████████████████████████████████████| 11520/11520 [01:59<00:00, 96.70batch/s]\n"
     ]
    },
    {
     "name": "stdout",
     "output_type": "stream",
     "text": [
      "Epoch [51/80], Recon: 20.9425, KL: 20.6938, ELBO: 41.6362\n"
     ]
    },
    {
     "name": "stderr",
     "output_type": "stream",
     "text": [
      "Epoch 52/80: 100%|████████████████████████████████████████████████████████████| 11520/11520 [01:56<00:00, 98.78batch/s]\n"
     ]
    },
    {
     "name": "stdout",
     "output_type": "stream",
     "text": [
      "Epoch [52/80], Recon: 20.7983, KL: 20.7053, ELBO: 41.5035\n"
     ]
    },
    {
     "name": "stderr",
     "output_type": "stream",
     "text": [
      "Epoch 53/80: 100%|███████████████████████████████████████████████████████████| 11520/11520 [01:54<00:00, 100.39batch/s]\n"
     ]
    },
    {
     "name": "stdout",
     "output_type": "stream",
     "text": [
      "Epoch [53/80], Recon: 20.6592, KL: 20.7129, ELBO: 41.3721\n"
     ]
    },
    {
     "name": "stderr",
     "output_type": "stream",
     "text": [
      "Epoch 54/80: 100%|████████████████████████████████████████████████████████████| 11520/11520 [02:00<00:00, 95.90batch/s]\n"
     ]
    },
    {
     "name": "stdout",
     "output_type": "stream",
     "text": [
      "Epoch [54/80], Recon: 20.5336, KL: 20.7283, ELBO: 41.2619\n"
     ]
    },
    {
     "name": "stderr",
     "output_type": "stream",
     "text": [
      "Epoch 55/80: 100%|███████████████████████████████████████████████████████████| 11520/11520 [01:54<00:00, 100.20batch/s]\n"
     ]
    },
    {
     "name": "stdout",
     "output_type": "stream",
     "text": [
      "Epoch [55/80], Recon: 20.4003, KL: 20.7324, ELBO: 41.1327\n"
     ]
    },
    {
     "name": "stderr",
     "output_type": "stream",
     "text": [
      "Epoch 56/80: 100%|███████████████████████████████████████████████████████████| 11520/11520 [01:54<00:00, 100.29batch/s]\n"
     ]
    },
    {
     "name": "stdout",
     "output_type": "stream",
     "text": [
      "Epoch [56/80], Recon: 20.2790, KL: 20.7468, ELBO: 41.0258\n"
     ]
    },
    {
     "name": "stderr",
     "output_type": "stream",
     "text": [
      "Epoch 57/80: 100%|████████████████████████████████████████████████████████████| 11520/11520 [02:00<00:00, 95.69batch/s]\n"
     ]
    },
    {
     "name": "stdout",
     "output_type": "stream",
     "text": [
      "Epoch [57/80], Recon: 20.1351, KL: 20.7615, ELBO: 40.8965\n"
     ]
    },
    {
     "name": "stderr",
     "output_type": "stream",
     "text": [
      "Epoch 58/80: 100%|███████████████████████████████████████████████████████████| 11520/11520 [01:55<00:00, 100.13batch/s]\n"
     ]
    },
    {
     "name": "stdout",
     "output_type": "stream",
     "text": [
      "Epoch [58/80], Recon: 20.0275, KL: 20.7654, ELBO: 40.7929\n"
     ]
    },
    {
     "name": "stderr",
     "output_type": "stream",
     "text": [
      "Epoch 59/80: 100%|████████████████████████████████████████████████████████████| 11520/11520 [02:00<00:00, 95.82batch/s]\n"
     ]
    },
    {
     "name": "stdout",
     "output_type": "stream",
     "text": [
      "Epoch [59/80], Recon: 19.9152, KL: 20.7802, ELBO: 40.6954\n"
     ]
    },
    {
     "name": "stderr",
     "output_type": "stream",
     "text": [
      "Epoch 60/80: 100%|████████████████████████████████████████████████████████████| 11520/11520 [01:55<00:00, 99.96batch/s]\n"
     ]
    },
    {
     "name": "stdout",
     "output_type": "stream",
     "text": [
      "Epoch [60/80], Recon: 19.7849, KL: 20.7863, ELBO: 40.5711\n"
     ]
    },
    {
     "name": "stderr",
     "output_type": "stream",
     "text": [
      "Epoch 61/80: 100%|████████████████████████████████████████████████████████████| 11520/11520 [01:57<00:00, 97.65batch/s]\n"
     ]
    },
    {
     "name": "stdout",
     "output_type": "stream",
     "text": [
      "Epoch [61/80], Recon: 19.6794, KL: 20.7938, ELBO: 40.4733\n"
     ]
    },
    {
     "name": "stderr",
     "output_type": "stream",
     "text": [
      "Epoch 62/80: 100%|████████████████████████████████████████████████████████████| 11520/11520 [01:57<00:00, 97.83batch/s]\n"
     ]
    },
    {
     "name": "stdout",
     "output_type": "stream",
     "text": [
      "Epoch [62/80], Recon: 19.5686, KL: 20.8044, ELBO: 40.373\n"
     ]
    },
    {
     "name": "stderr",
     "output_type": "stream",
     "text": [
      "Epoch 63/80: 100%|███████████████████████████████████████████████████████████| 11520/11520 [01:54<00:00, 100.32batch/s]\n"
     ]
    },
    {
     "name": "stdout",
     "output_type": "stream",
     "text": [
      "Epoch [63/80], Recon: 19.4639, KL: 20.8116, ELBO: 40.2754\n"
     ]
    },
    {
     "name": "stderr",
     "output_type": "stream",
     "text": [
      "Epoch 64/80: 100%|████████████████████████████████████████████████████████████| 11520/11520 [01:59<00:00, 96.05batch/s]\n"
     ]
    },
    {
     "name": "stdout",
     "output_type": "stream",
     "text": [
      "Epoch [64/80], Recon: 19.3677, KL: 20.8246, ELBO: 40.1923\n"
     ]
    },
    {
     "name": "stderr",
     "output_type": "stream",
     "text": [
      "Epoch 65/80: 100%|████████████████████████████████████████████████████████████| 11520/11520 [02:00<00:00, 95.39batch/s]\n"
     ]
    },
    {
     "name": "stdout",
     "output_type": "stream",
     "text": [
      "Epoch [65/80], Recon: 19.2762, KL: 20.8303, ELBO: 40.1065\n"
     ]
    },
    {
     "name": "stderr",
     "output_type": "stream",
     "text": [
      "Epoch 66/80: 100%|███████████████████████████████████████████████████████████| 11520/11520 [01:54<00:00, 100.45batch/s]\n"
     ]
    },
    {
     "name": "stdout",
     "output_type": "stream",
     "text": [
      "Epoch [66/80], Recon: 19.1794, KL: 20.8354, ELBO: 40.0148\n"
     ]
    },
    {
     "name": "stderr",
     "output_type": "stream",
     "text": [
      "Epoch 67/80: 100%|████████████████████████████████████████████████████████████| 11520/11520 [02:00<00:00, 95.71batch/s]\n"
     ]
    },
    {
     "name": "stdout",
     "output_type": "stream",
     "text": [
      "Epoch [67/80], Recon: 19.0651, KL: 20.8474, ELBO: 39.9125\n"
     ]
    },
    {
     "name": "stderr",
     "output_type": "stream",
     "text": [
      "Epoch 68/80: 100%|████████████████████████████████████████████████████████████| 11520/11520 [01:59<00:00, 96.16batch/s]\n"
     ]
    },
    {
     "name": "stdout",
     "output_type": "stream",
     "text": [
      "Epoch [68/80], Recon: 18.9843, KL: 20.8491, ELBO: 39.8334\n"
     ]
    },
    {
     "name": "stderr",
     "output_type": "stream",
     "text": [
      "Epoch 69/80: 100%|████████████████████████████████████████████████████████████| 11520/11520 [01:59<00:00, 96.23batch/s]\n"
     ]
    },
    {
     "name": "stdout",
     "output_type": "stream",
     "text": [
      "Epoch [69/80], Recon: 18.8874, KL: 20.8557, ELBO: 39.7431\n"
     ]
    },
    {
     "name": "stderr",
     "output_type": "stream",
     "text": [
      "Epoch 70/80: 100%|████████████████████████████████████████████████████████████| 11520/11520 [01:56<00:00, 98.86batch/s]\n"
     ]
    },
    {
     "name": "stdout",
     "output_type": "stream",
     "text": [
      "Epoch [70/80], Recon: 18.8137, KL: 20.8680, ELBO: 39.6817\n"
     ]
    },
    {
     "name": "stderr",
     "output_type": "stream",
     "text": [
      "Epoch 71/80: 100%|████████████████████████████████████████████████████████████| 11520/11520 [02:01<00:00, 94.79batch/s]\n"
     ]
    },
    {
     "name": "stdout",
     "output_type": "stream",
     "text": [
      "Epoch [71/80], Recon: 18.7054, KL: 20.8738, ELBO: 39.5792\n"
     ]
    },
    {
     "name": "stderr",
     "output_type": "stream",
     "text": [
      "Epoch 72/80: 100%|████████████████████████████████████████████████████████████| 11520/11520 [01:58<00:00, 96.98batch/s]\n"
     ]
    },
    {
     "name": "stdout",
     "output_type": "stream",
     "text": [
      "Epoch [72/80], Recon: 18.6268, KL: 20.8847, ELBO: 39.5114\n"
     ]
    },
    {
     "name": "stderr",
     "output_type": "stream",
     "text": [
      "Epoch 73/80: 100%|███████████████████████████████████████████████████████████| 11520/11520 [01:55<00:00, 100.01batch/s]\n"
     ]
    },
    {
     "name": "stdout",
     "output_type": "stream",
     "text": [
      "Epoch [73/80], Recon: 18.5515, KL: 20.8818, ELBO: 39.4333\n"
     ]
    },
    {
     "name": "stderr",
     "output_type": "stream",
     "text": [
      "Epoch 74/80: 100%|████████████████████████████████████████████████████████████| 11520/11520 [01:59<00:00, 96.35batch/s]\n"
     ]
    },
    {
     "name": "stdout",
     "output_type": "stream",
     "text": [
      "Epoch [74/80], Recon: 18.4581, KL: 20.8867, ELBO: 39.3448\n"
     ]
    },
    {
     "name": "stderr",
     "output_type": "stream",
     "text": [
      "Epoch 75/80: 100%|████████████████████████████████████████████████████████████| 11520/11520 [01:56<00:00, 99.22batch/s]\n"
     ]
    },
    {
     "name": "stdout",
     "output_type": "stream",
     "text": [
      "Epoch [75/80], Recon: 18.3856, KL: 20.8896, ELBO: 39.2753\n"
     ]
    },
    {
     "name": "stderr",
     "output_type": "stream",
     "text": [
      "Epoch 76/80: 100%|███████████████████████████████████████████████████████████| 11520/11520 [01:55<00:00, 100.15batch/s]\n"
     ]
    },
    {
     "name": "stdout",
     "output_type": "stream",
     "text": [
      "Epoch [76/80], Recon: 18.2994, KL: 20.9005, ELBO: 39.1998\n"
     ]
    },
    {
     "name": "stderr",
     "output_type": "stream",
     "text": [
      "Epoch 77/80: 100%|████████████████████████████████████████████████████████████| 11520/11520 [01:59<00:00, 96.45batch/s]\n"
     ]
    },
    {
     "name": "stdout",
     "output_type": "stream",
     "text": [
      "Epoch [77/80], Recon: 18.2249, KL: 20.9128, ELBO: 39.1376\n"
     ]
    },
    {
     "name": "stderr",
     "output_type": "stream",
     "text": [
      "Epoch 78/80: 100%|████████████████████████████████████████████████████████████| 11520/11520 [01:56<00:00, 98.89batch/s]\n"
     ]
    },
    {
     "name": "stdout",
     "output_type": "stream",
     "text": [
      "Epoch [78/80], Recon: 18.1571, KL: 20.9112, ELBO: 39.0683\n"
     ]
    },
    {
     "name": "stderr",
     "output_type": "stream",
     "text": [
      "Epoch 79/80: 100%|████████████████████████████████████████████████████████████| 11520/11520 [01:56<00:00, 98.65batch/s]\n"
     ]
    },
    {
     "name": "stdout",
     "output_type": "stream",
     "text": [
      "Epoch [79/80], Recon: 18.0938, KL: 20.9178, ELBO: 39.0116\n"
     ]
    },
    {
     "name": "stderr",
     "output_type": "stream",
     "text": [
      "Epoch 80/80: 100%|████████████████████████████████████████████████████████████| 11520/11520 [02:02<00:00, 93.76batch/s]\n"
     ]
    },
    {
     "name": "stdout",
     "output_type": "stream",
     "text": [
      "Epoch [80/80], Recon: 18.0158, KL: 20.9200, ELBO: 38.9357\n",
      "\u001b[1m\u001b[34m\n",
      "Visualizing reconstructions for beta = 1:\u001b[0m\n"
     ]
    },
    {
     "data": {
      "image/png": "[encoded data removed]",
      "text/plain": [
       "<Figure size 1500x600 with 10 Axes>"
      ]
     },
     "metadata": {},
     "output_type": "display_data"
    },
    {
     "name": "stderr",
     "output_type": "stream",
     "text": [
      "Extracting Factors and Latents: 100%|███████████████████████████████████████████| 11520/11520 [00:56<00:00, 205.57it/s]\n"
     ]
    },
    {
     "name": "stdout",
     "output_type": "stream",
     "text": [
      "\u001b[1m\u001b[34m\n",
      "Computing disentangelement scores for beta = 1:\u001b[0m\n",
      "\u001b[1mIteration 1:\u001b[0m\n",
      "MIG score: 0.1782\n",
      "SAP score: 0.0608\n",
      "\n",
      "\u001b[1mIteration 2:\u001b[0m\n",
      "MIG score: 0.1808\n",
      "SAP score: 0.063\n",
      "\n",
      "\u001b[1mIteration 3:\u001b[0m\n",
      "MIG score: 0.1808\n",
      "SAP score: 0.0602\n",
      "\n",
      "\u001b[1mIteration 4:\u001b[0m\n",
      "MIG score: 0.18\n",
      "SAP score: 0.0608\n",
      "\n",
      "\u001b[1mIteration 5:\u001b[0m\n",
      "MIG score: 0.1791\n",
      "SAP score: 0.0603\n",
      "\n",
      "\u001b[1mIteration 6:\u001b[0m\n",
      "MIG score: 0.1794\n",
      "SAP score: 0.0627\n",
      "\n",
      "\u001b[1mIteration 7:\u001b[0m\n",
      "MIG score: 0.1798\n",
      "SAP score: 0.0622\n",
      "\n",
      "\u001b[1mIteration 8:\u001b[0m\n",
      "MIG score: 0.1785\n",
      "SAP score: 0.0606\n",
      "\n",
      "\u001b[1mIteration 9:\u001b[0m\n",
      "MIG score: 0.1798\n",
      "SAP score: 0.0634\n",
      "\n",
      "\u001b[1mIteration 10:\u001b[0m\n",
      "MIG score: 0.1797\n",
      "SAP score: 0.0631\n",
      "\n",
      "Max MIG score is 0.1808 at iteration 2\n",
      "Max MI matrix:\n",
      "[[0.     0.     0.     0.     0.     0.     0.     0.     0.     0.    ]\n",
      " [0.0318 0.055  0.0235 0.0494 0.0278 0.3223 0.1783 0.0173 0.042  0.167 ]\n",
      " [0.0183 0.0433 0.0228 0.0158 0.0159 0.025  0.7397 0.0155 0.0113 0.0182]\n",
      " [0.0495 0.0129 0.0184 0.0143 0.0368 0.0929 0.0077 0.0198 0.0178 0.0301]\n",
      " [0.2965 0.0225 0.1877 0.3239 0.2183 0.0211 0.0226 0.4845 0.1377 0.0078]\n",
      " [0.3824 0.0614 0.0847 0.036  0.4227 0.0197 0.0282 0.2281 0.1074 0.01  ]]\n",
      "\n",
      "Min MIG score is 0.1782 at iteration 1\n",
      "Min MI matrix:\n",
      "[[0.     0.     0.     0.     0.     0.     0.     0.     0.     0.    ]\n",
      " [0.0327 0.0565 0.0236 0.0497 0.0281 0.317  0.1786 0.0171 0.044  0.1685]\n",
      " [0.0188 0.0443 0.0226 0.0145 0.0159 0.0259 0.7323 0.0159 0.0098 0.0191]\n",
      " [0.0494 0.0128 0.0187 0.0129 0.0368 0.0927 0.0076 0.0195 0.0175 0.0298]\n",
      " [0.2956 0.0227 0.1906 0.3209 0.2212 0.0198 0.0239 0.4813 0.1375 0.0074]\n",
      " [0.3835 0.062  0.0879 0.037  0.4225 0.019  0.0292 0.2274 0.1088 0.0095]]\n",
      "\u001b[1m\u001b[31m\n",
      "Training with beta = 2:\u001b[0m\n"
     ]
    },
    {
     "name": "stderr",
     "output_type": "stream",
     "text": [
      "Epoch 1/80: 100%|█████████████████████████████████████████████████████████████| 11520/11520 [02:46<00:00, 69.17batch/s]\n"
     ]
    },
    {
     "name": "stdout",
     "output_type": "stream",
     "text": [
      "Epoch [1/80], Recon: 21.8247, KL: 18.6900, ELBO: 59.2047\n"
     ]
    },
    {
     "name": "stderr",
     "output_type": "stream",
     "text": [
      "Epoch 2/80: 100%|█████████████████████████████████████████████████████████████| 11520/11520 [02:40<00:00, 71.96batch/s]\n"
     ]
    },
    {
     "name": "stdout",
     "output_type": "stream",
     "text": [
      "Epoch [2/80], Recon: 21.9980, KL: 18.5328, ELBO: 59.0637\n"
     ]
    },
    {
     "name": "stderr",
     "output_type": "stream",
     "text": [
      "Epoch 3/80: 100%|█████████████████████████████████████████████████████████████| 11520/11520 [02:10<00:00, 88.30batch/s]\n"
     ]
    },
    {
     "name": "stdout",
     "output_type": "stream",
     "text": [
      "Epoch [3/80], Recon: 22.0932, KL: 18.4705, ELBO: 59.0341\n"
     ]
    },
    {
     "name": "stderr",
     "output_type": "stream",
     "text": [
      "Epoch 4/80: 100%|█████████████████████████████████████████████████████████████| 11520/11520 [01:58<00:00, 96.90batch/s]\n"
     ]
    },
    {
     "name": "stdout",
     "output_type": "stream",
     "text": [
      "Epoch [4/80], Recon: 22.1123, KL: 18.4270, ELBO: 58.9662\n"
     ]
    },
    {
     "name": "stderr",
     "output_type": "stream",
     "text": [
      "Epoch 5/80: 100%|█████████████████████████████████████████████████████████████| 11520/11520 [01:57<00:00, 98.21batch/s]\n"
     ]
    },
    {
     "name": "stdout",
     "output_type": "stream",
     "text": [
      "Epoch [5/80], Recon: 22.1088, KL: 18.3931, ELBO: 58.895\n"
     ]
    },
    {
     "name": "stderr",
     "output_type": "stream",
     "text": [
      "Epoch 6/80: 100%|█████████████████████████████████████████████████████████████| 11520/11520 [02:00<00:00, 95.75batch/s]\n"
     ]
    },
    {
     "name": "stdout",
     "output_type": "stream",
     "text": [
      "Epoch [6/80], Recon: 22.1211, KL: 18.3674, ELBO: 58.8559\n"
     ]
    },
    {
     "name": "stderr",
     "output_type": "stream",
     "text": [
      "Epoch 7/80: 100%|█████████████████████████████████████████████████████████████| 11520/11520 [02:00<00:00, 95.75batch/s]\n"
     ]
    },
    {
     "name": "stdout",
     "output_type": "stream",
     "text": [
      "Epoch [7/80], Recon: 22.1047, KL: 18.3443, ELBO: 58.7932\n"
     ]
    },
    {
     "name": "stderr",
     "output_type": "stream",
     "text": [
      "Epoch 8/80: 100%|█████████████████████████████████████████████████████████████| 11520/11520 [01:59<00:00, 96.27batch/s]\n"
     ]
    },
    {
     "name": "stdout",
     "output_type": "stream",
     "text": [
      "Epoch [8/80], Recon: 22.0685, KL: 18.3268, ELBO: 58.722\n"
     ]
    },
    {
     "name": "stderr",
     "output_type": "stream",
     "text": [
      "Epoch 9/80: 100%|█████████████████████████████████████████████████████████████| 11520/11520 [01:58<00:00, 96.96batch/s]\n"
     ]
    },
    {
     "name": "stdout",
     "output_type": "stream",
     "text": [
      "Epoch [9/80], Recon: 22.0482, KL: 18.3021, ELBO: 58.6524\n"
     ]
    },
    {
     "name": "stderr",
     "output_type": "stream",
     "text": [
      "Epoch 10/80: 100%|████████████████████████████████████████████████████████████| 11520/11520 [02:02<00:00, 94.42batch/s]\n"
     ]
    },
    {
     "name": "stdout",
     "output_type": "stream",
     "text": [
      "Epoch [10/80], Recon: 22.0279, KL: 18.2909, ELBO: 58.6097\n"
     ]
    },
    {
     "name": "stderr",
     "output_type": "stream",
     "text": [
      "Epoch 11/80: 100%|████████████████████████████████████████████████████████████| 11520/11520 [02:01<00:00, 94.81batch/s]\n"
     ]
    },
    {
     "name": "stdout",
     "output_type": "stream",
     "text": [
      "Epoch [11/80], Recon: 21.9656, KL: 18.2783, ELBO: 58.5222\n"
     ]
    },
    {
     "name": "stderr",
     "output_type": "stream",
     "text": [
      "Epoch 12/80: 100%|████████████████████████████████████████████████████████████| 11520/11520 [01:56<00:00, 98.62batch/s]\n"
     ]
    },
    {
     "name": "stdout",
     "output_type": "stream",
     "text": [
      "Epoch [12/80], Recon: 21.9652, KL: 18.2653, ELBO: 58.4958\n"
     ]
    },
    {
     "name": "stderr",
     "output_type": "stream",
     "text": [
      "Epoch 13/80: 100%|████████████████████████████████████████████████████████████| 11520/11520 [01:57<00:00, 97.68batch/s]\n"
     ]
    },
    {
     "name": "stdout",
     "output_type": "stream",
     "text": [
      "Epoch [13/80], Recon: 21.9605, KL: 18.2499, ELBO: 58.4604\n"
     ]
    },
    {
     "name": "stderr",
     "output_type": "stream",
     "text": [
      "Epoch 14/80: 100%|████████████████████████████████████████████████████████████| 11520/11520 [01:59<00:00, 96.67batch/s]\n"
     ]
    },
    {
     "name": "stdout",
     "output_type": "stream",
     "text": [
      "Epoch [14/80], Recon: 21.8807, KL: 18.2390, ELBO: 58.3587\n"
     ]
    },
    {
     "name": "stderr",
     "output_type": "stream",
     "text": [
      "Epoch 15/80: 100%|████████████████████████████████████████████████████████████| 11520/11520 [01:55<00:00, 99.68batch/s]\n"
     ]
    },
    {
     "name": "stdout",
     "output_type": "stream",
     "text": [
      "Epoch [15/80], Recon: 21.8809, KL: 18.2285, ELBO: 58.3379\n"
     ]
    },
    {
     "name": "stderr",
     "output_type": "stream",
     "text": [
      "Epoch 16/80: 100%|████████████████████████████████████████████████████████████| 11520/11520 [02:00<00:00, 95.49batch/s]\n"
     ]
    },
    {
     "name": "stdout",
     "output_type": "stream",
     "text": [
      "Epoch [16/80], Recon: 21.8092, KL: 18.2196, ELBO: 58.2483\n"
     ]
    },
    {
     "name": "stderr",
     "output_type": "stream",
     "text": [
      "Epoch 17/80: 100%|████████████████████████████████████████████████████████████| 11520/11520 [01:56<00:00, 99.03batch/s]\n"
     ]
    },
    {
     "name": "stdout",
     "output_type": "stream",
     "text": [
      "Epoch [17/80], Recon: 21.7869, KL: 18.2136, ELBO: 58.2142\n"
     ]
    },
    {
     "name": "stderr",
     "output_type": "stream",
     "text": [
      "Epoch 18/80: 100%|████████████████████████████████████████████████████████████| 11520/11520 [01:56<00:00, 98.74batch/s]\n"
     ]
    },
    {
     "name": "stdout",
     "output_type": "stream",
     "text": [
      "Epoch [18/80], Recon: 21.7298, KL: 18.1959, ELBO: 58.1215\n"
     ]
    },
    {
     "name": "stderr",
     "output_type": "stream",
     "text": [
      "Epoch 19/80: 100%|████████████████████████████████████████████████████████████| 11520/11520 [01:59<00:00, 96.00batch/s]\n"
     ]
    },
    {
     "name": "stdout",
     "output_type": "stream",
     "text": [
      "Epoch [19/80], Recon: 21.7156, KL: 18.1923, ELBO: 58.1003\n"
     ]
    },
    {
     "name": "stderr",
     "output_type": "stream",
     "text": [
      "Epoch 20/80: 100%|████████████████████████████████████████████████████████████| 11520/11520 [01:59<00:00, 96.30batch/s]\n"
     ]
    },
    {
     "name": "stdout",
     "output_type": "stream",
     "text": [
      "Epoch [20/80], Recon: 21.6933, KL: 18.1887, ELBO: 58.0708\n"
     ]
    },
    {
     "name": "stderr",
     "output_type": "stream",
     "text": [
      "Epoch 21/80: 100%|████████████████████████████████████████████████████████████| 11520/11520 [02:02<00:00, 93.84batch/s]\n"
     ]
    },
    {
     "name": "stdout",
     "output_type": "stream",
     "text": [
      "Epoch [21/80], Recon: 21.6251, KL: 18.1726, ELBO: 57.9703\n"
     ]
    },
    {
     "name": "stderr",
     "output_type": "stream",
     "text": [
      "Epoch 22/80: 100%|████████████████████████████████████████████████████████████| 11520/11520 [02:01<00:00, 94.56batch/s]\n"
     ]
    },
    {
     "name": "stdout",
     "output_type": "stream",
     "text": [
      "Epoch [22/80], Recon: 21.5982, KL: 18.1685, ELBO: 57.9352\n"
     ]
    },
    {
     "name": "stderr",
     "output_type": "stream",
     "text": [
      "Epoch 23/80: 100%|████████████████████████████████████████████████████████████| 11520/11520 [01:59<00:00, 96.69batch/s]\n"
     ]
    },
    {
     "name": "stdout",
     "output_type": "stream",
     "text": [
      "Epoch [23/80], Recon: 21.5441, KL: 18.1641, ELBO: 57.8724\n"
     ]
    },
    {
     "name": "stderr",
     "output_type": "stream",
     "text": [
      "Epoch 24/80: 100%|████████████████████████████████████████████████████████████| 11520/11520 [02:00<00:00, 95.94batch/s]\n"
     ]
    },
    {
     "name": "stdout",
     "output_type": "stream",
     "text": [
      "Epoch [24/80], Recon: 21.5197, KL: 18.1585, ELBO: 57.8367\n"
     ]
    },
    {
     "name": "stderr",
     "output_type": "stream",
     "text": [
      "Epoch 25/80: 100%|████████████████████████████████████████████████████████████| 11520/11520 [01:55<00:00, 99.53batch/s]\n"
     ]
    },
    {
     "name": "stdout",
     "output_type": "stream",
     "text": [
      "Epoch [25/80], Recon: 21.4606, KL: 18.1524, ELBO: 57.7653\n"
     ]
    },
    {
     "name": "stderr",
     "output_type": "stream",
     "text": [
      "Epoch 26/80: 100%|████████████████████████████████████████████████████████████| 11520/11520 [02:00<00:00, 95.78batch/s]\n"
     ]
    },
    {
     "name": "stdout",
     "output_type": "stream",
     "text": [
      "Epoch [26/80], Recon: 21.4278, KL: 18.1424, ELBO: 57.7126\n"
     ]
    },
    {
     "name": "stderr",
     "output_type": "stream",
     "text": [
      "Epoch 27/80: 100%|████████████████████████████████████████████████████████████| 11520/11520 [01:57<00:00, 98.36batch/s]\n"
     ]
    },
    {
     "name": "stdout",
     "output_type": "stream",
     "text": [
      "Epoch [27/80], Recon: 21.3944, KL: 18.1386, ELBO: 57.6716\n"
     ]
    },
    {
     "name": "stderr",
     "output_type": "stream",
     "text": [
      "Epoch 28/80: 100%|████████████████████████████████████████████████████████████| 11520/11520 [01:55<00:00, 99.64batch/s]\n"
     ]
    },
    {
     "name": "stdout",
     "output_type": "stream",
     "text": [
      "Epoch [28/80], Recon: 21.3401, KL: 18.1230, ELBO: 57.5861\n"
     ]
    },
    {
     "name": "stderr",
     "output_type": "stream",
     "text": [
      "Epoch 29/80: 100%|████████████████████████████████████████████████████████████| 11520/11520 [02:01<00:00, 94.70batch/s]\n"
     ]
    },
    {
     "name": "stdout",
     "output_type": "stream",
     "text": [
      "Epoch [29/80], Recon: 21.2965, KL: 18.1152, ELBO: 57.5269\n"
     ]
    },
    {
     "name": "stderr",
     "output_type": "stream",
     "text": [
      "Epoch 30/80: 100%|████████████████████████████████████████████████████████████| 11520/11520 [01:55<00:00, 99.54batch/s]\n"
     ]
    },
    {
     "name": "stdout",
     "output_type": "stream",
     "text": [
      "Epoch [30/80], Recon: 21.2539, KL: 18.1142, ELBO: 57.4824\n"
     ]
    },
    {
     "name": "stderr",
     "output_type": "stream",
     "text": [
      "Epoch 31/80: 100%|████████████████████████████████████████████████████████████| 11520/11520 [01:59<00:00, 96.47batch/s]\n"
     ]
    },
    {
     "name": "stdout",
     "output_type": "stream",
     "text": [
      "Epoch [31/80], Recon: 21.2144, KL: 18.1103, ELBO: 57.435\n"
     ]
    },
    {
     "name": "stderr",
     "output_type": "stream",
     "text": [
      "Epoch 32/80: 100%|████████████████████████████████████████████████████████████| 11520/11520 [01:59<00:00, 96.52batch/s]\n"
     ]
    },
    {
     "name": "stdout",
     "output_type": "stream",
     "text": [
      "Epoch [32/80], Recon: 21.2016, KL: 18.1074, ELBO: 57.4164\n"
     ]
    },
    {
     "name": "stderr",
     "output_type": "stream",
     "text": [
      "Epoch 33/80: 100%|████████████████████████████████████████████████████████████| 11520/11520 [01:55<00:00, 99.39batch/s]\n"
     ]
    },
    {
     "name": "stdout",
     "output_type": "stream",
     "text": [
      "Epoch [33/80], Recon: 21.1280, KL: 18.0979, ELBO: 57.3237\n"
     ]
    },
    {
     "name": "stderr",
     "output_type": "stream",
     "text": [
      "Epoch 34/80: 100%|████████████████████████████████████████████████████████████| 11520/11520 [02:01<00:00, 94.65batch/s]\n"
     ]
    },
    {
     "name": "stdout",
     "output_type": "stream",
     "text": [
      "Epoch [34/80], Recon: 21.1081, KL: 18.0939, ELBO: 57.2959\n"
     ]
    },
    {
     "name": "stderr",
     "output_type": "stream",
     "text": [
      "Epoch 35/80: 100%|████████████████████████████████████████████████████████████| 11520/11520 [01:55<00:00, 99.53batch/s]\n"
     ]
    },
    {
     "name": "stdout",
     "output_type": "stream",
     "text": [
      "Epoch [35/80], Recon: 21.0483, KL: 18.0916, ELBO: 57.2314\n"
     ]
    },
    {
     "name": "stderr",
     "output_type": "stream",
     "text": [
      "Epoch 36/80: 100%|████████████████████████████████████████████████████████████| 11520/11520 [01:59<00:00, 96.33batch/s]\n"
     ]
    },
    {
     "name": "stdout",
     "output_type": "stream",
     "text": [
      "Epoch [36/80], Recon: 21.0417, KL: 18.0911, ELBO: 57.224\n"
     ]
    },
    {
     "name": "stderr",
     "output_type": "stream",
     "text": [
      "Epoch 37/80: 100%|████████████████████████████████████████████████████████████| 11520/11520 [01:59<00:00, 96.14batch/s]\n"
     ]
    },
    {
     "name": "stdout",
     "output_type": "stream",
     "text": [
      "Epoch [37/80], Recon: 20.9753, KL: 18.0792, ELBO: 57.1337\n"
     ]
    },
    {
     "name": "stderr",
     "output_type": "stream",
     "text": [
      "Epoch 38/80: 100%|████████████████████████████████████████████████████████████| 11520/11520 [01:59<00:00, 96.19batch/s]\n"
     ]
    },
    {
     "name": "stdout",
     "output_type": "stream",
     "text": [
      "Epoch [38/80], Recon: 20.9538, KL: 18.0793, ELBO: 57.1125\n"
     ]
    },
    {
     "name": "stderr",
     "output_type": "stream",
     "text": [
      "Epoch 39/80: 100%|████████████████████████████████████████████████████████████| 11520/11520 [02:01<00:00, 94.82batch/s]\n"
     ]
    },
    {
     "name": "stdout",
     "output_type": "stream",
     "text": [
      "Epoch [39/80], Recon: 20.9078, KL: 18.0756, ELBO: 57.0591\n"
     ]
    },
    {
     "name": "stderr",
     "output_type": "stream",
     "text": [
      "Epoch 40/80: 100%|████████████████████████████████████████████████████████████| 11520/11520 [01:55<00:00, 99.66batch/s]\n"
     ]
    },
    {
     "name": "stdout",
     "output_type": "stream",
     "text": [
      "Epoch [40/80], Recon: 20.8813, KL: 18.0687, ELBO: 57.0186\n"
     ]
    },
    {
     "name": "stderr",
     "output_type": "stream",
     "text": [
      "Epoch 41/80: 100%|████████████████████████████████████████████████████████████| 11520/11520 [01:58<00:00, 97.29batch/s]\n"
     ]
    },
    {
     "name": "stdout",
     "output_type": "stream",
     "text": [
      "Epoch [41/80], Recon: 20.8373, KL: 18.0747, ELBO: 56.9868\n"
     ]
    },
    {
     "name": "stderr",
     "output_type": "stream",
     "text": [
      "Epoch 42/80: 100%|████████████████████████████████████████████████████████████| 11520/11520 [01:58<00:00, 96.94batch/s]\n"
     ]
    },
    {
     "name": "stdout",
     "output_type": "stream",
     "text": [
      "Epoch [42/80], Recon: 20.7771, KL: 18.0599, ELBO: 56.8969\n"
     ]
    },
    {
     "name": "stderr",
     "output_type": "stream",
     "text": [
      "Epoch 43/80: 100%|████████████████████████████████████████████████████████████| 11520/11520 [01:55<00:00, 99.74batch/s]\n"
     ]
    },
    {
     "name": "stdout",
     "output_type": "stream",
     "text": [
      "Epoch [43/80], Recon: 20.7706, KL: 18.0648, ELBO: 56.9002\n"
     ]
    },
    {
     "name": "stderr",
     "output_type": "stream",
     "text": [
      "Epoch 44/80: 100%|████████████████████████████████████████████████████████████| 11520/11520 [02:01<00:00, 95.13batch/s]\n"
     ]
    },
    {
     "name": "stdout",
     "output_type": "stream",
     "text": [
      "Epoch [44/80], Recon: 20.7416, KL: 18.0642, ELBO: 56.87\n"
     ]
    },
    {
     "name": "stderr",
     "output_type": "stream",
     "text": [
      "Epoch 45/80: 100%|████████████████████████████████████████████████████████████| 11520/11520 [01:55<00:00, 99.39batch/s]\n"
     ]
    },
    {
     "name": "stdout",
     "output_type": "stream",
     "text": [
      "Epoch [45/80], Recon: 20.6619, KL: 18.0617, ELBO: 56.7853\n"
     ]
    },
    {
     "name": "stderr",
     "output_type": "stream",
     "text": [
      "Epoch 46/80: 100%|████████████████████████████████████████████████████████████| 11520/11520 [01:58<00:00, 97.15batch/s]\n"
     ]
    },
    {
     "name": "stdout",
     "output_type": "stream",
     "text": [
      "Epoch [46/80], Recon: 20.6541, KL: 18.0597, ELBO: 56.7734\n"
     ]
    },
    {
     "name": "stderr",
     "output_type": "stream",
     "text": [
      "Epoch 47/80: 100%|████████████████████████████████████████████████████████████| 11520/11520 [01:58<00:00, 97.21batch/s]\n"
     ]
    },
    {
     "name": "stdout",
     "output_type": "stream",
     "text": [
      "Epoch [47/80], Recon: 20.6329, KL: 18.0586, ELBO: 56.7501\n"
     ]
    },
    {
     "name": "stderr",
     "output_type": "stream",
     "text": [
      "Epoch 48/80: 100%|████████████████████████████████████████████████████████████| 11520/11520 [01:55<00:00, 99.50batch/s]\n"
     ]
    },
    {
     "name": "stdout",
     "output_type": "stream",
     "text": [
      "Epoch [48/80], Recon: 20.5809, KL: 18.0597, ELBO: 56.7004\n"
     ]
    },
    {
     "name": "stderr",
     "output_type": "stream",
     "text": [
      "Epoch 49/80: 100%|████████████████████████████████████████████████████████████| 11520/11520 [02:00<00:00, 95.37batch/s]\n"
     ]
    },
    {
     "name": "stdout",
     "output_type": "stream",
     "text": [
      "Epoch [49/80], Recon: 20.5286, KL: 18.0506, ELBO: 56.6298\n"
     ]
    },
    {
     "name": "stderr",
     "output_type": "stream",
     "text": [
      "Epoch 50/80: 100%|████████████████████████████████████████████████████████████| 11520/11520 [01:56<00:00, 99.22batch/s]\n"
     ]
    },
    {
     "name": "stdout",
     "output_type": "stream",
     "text": [
      "Epoch [50/80], Recon: 20.5288, KL: 18.0560, ELBO: 56.6408\n"
     ]
    },
    {
     "name": "stderr",
     "output_type": "stream",
     "text": [
      "Epoch 51/80: 100%|████████████████████████████████████████████████████████████| 11520/11520 [01:58<00:00, 97.52batch/s]\n"
     ]
    },
    {
     "name": "stdout",
     "output_type": "stream",
     "text": [
      "Epoch [51/80], Recon: 20.4600, KL: 18.0429, ELBO: 56.5457\n"
     ]
    },
    {
     "name": "stderr",
     "output_type": "stream",
     "text": [
      "Epoch 52/80: 100%|████████████████████████████████████████████████████████████| 11520/11520 [01:59<00:00, 96.47batch/s]\n"
     ]
    },
    {
     "name": "stdout",
     "output_type": "stream",
     "text": [
      "Epoch [52/80], Recon: 20.4291, KL: 18.0528, ELBO: 56.5348\n"
     ]
    },
    {
     "name": "stderr",
     "output_type": "stream",
     "text": [
      "Epoch 53/80: 100%|████████████████████████████████████████████████████████████| 11520/11520 [02:01<00:00, 94.83batch/s]\n"
     ]
    },
    {
     "name": "stdout",
     "output_type": "stream",
     "text": [
      "Epoch [53/80], Recon: 20.3980, KL: 18.0426, ELBO: 56.4833\n"
     ]
    },
    {
     "name": "stderr",
     "output_type": "stream",
     "text": [
      "Epoch 54/80: 100%|████████████████████████████████████████████████████████████| 11520/11520 [02:00<00:00, 95.31batch/s]\n"
     ]
    },
    {
     "name": "stdout",
     "output_type": "stream",
     "text": [
      "Epoch [54/80], Recon: 20.3894, KL: 18.0341, ELBO: 56.4576\n"
     ]
    },
    {
     "name": "stderr",
     "output_type": "stream",
     "text": [
      "Epoch 55/80: 100%|████████████████████████████████████████████████████████████| 11520/11520 [01:56<00:00, 99.00batch/s]\n"
     ]
    },
    {
     "name": "stdout",
     "output_type": "stream",
     "text": [
      "Epoch [55/80], Recon: 20.4140, KL: 18.0423, ELBO: 56.4986\n"
     ]
    },
    {
     "name": "stderr",
     "output_type": "stream",
     "text": [
      "Epoch 56/80: 100%|████████████████████████████████████████████████████████████| 11520/11520 [01:57<00:00, 97.87batch/s]\n"
     ]
    },
    {
     "name": "stdout",
     "output_type": "stream",
     "text": [
      "Epoch [56/80], Recon: 20.2880, KL: 18.0359, ELBO: 56.3597\n"
     ]
    },
    {
     "name": "stderr",
     "output_type": "stream",
     "text": [
      "Epoch 57/80: 100%|████████████████████████████████████████████████████████████| 11520/11520 [01:59<00:00, 96.37batch/s]\n"
     ]
    },
    {
     "name": "stdout",
     "output_type": "stream",
     "text": [
      "Epoch [57/80], Recon: 20.2788, KL: 18.0430, ELBO: 56.3648\n"
     ]
    },
    {
     "name": "stderr",
     "output_type": "stream",
     "text": [
      "Epoch 58/80: 100%|████████████████████████████████████████████████████████████| 11520/11520 [01:55<00:00, 99.59batch/s]\n"
     ]
    },
    {
     "name": "stdout",
     "output_type": "stream",
     "text": [
      "Epoch [58/80], Recon: 20.2410, KL: 18.0362, ELBO: 56.3133\n"
     ]
    },
    {
     "name": "stderr",
     "output_type": "stream",
     "text": [
      "Epoch 59/80: 100%|████████████████████████████████████████████████████████████| 11520/11520 [02:00<00:00, 95.48batch/s]\n"
     ]
    },
    {
     "name": "stdout",
     "output_type": "stream",
     "text": [
      "Epoch [59/80], Recon: 20.1976, KL: 18.0226, ELBO: 56.2429\n"
     ]
    },
    {
     "name": "stderr",
     "output_type": "stream",
     "text": [
      "Epoch 60/80: 100%|████████████████████████████████████████████████████████████| 11520/11520 [01:56<00:00, 98.68batch/s]\n"
     ]
    },
    {
     "name": "stdout",
     "output_type": "stream",
     "text": [
      "Epoch [60/80], Recon: 20.1670, KL: 18.0342, ELBO: 56.2355\n"
     ]
    },
    {
     "name": "stderr",
     "output_type": "stream",
     "text": [
      "Epoch 61/80: 100%|████████████████████████████████████████████████████████████| 11520/11520 [01:55<00:00, 99.59batch/s]\n"
     ]
    },
    {
     "name": "stdout",
     "output_type": "stream",
     "text": [
      "Epoch [61/80], Recon: 20.1438, KL: 18.0370, ELBO: 56.2177\n"
     ]
    },
    {
     "name": "stderr",
     "output_type": "stream",
     "text": [
      "Epoch 62/80: 100%|████████████████████████████████████████████████████████████| 11520/11520 [02:01<00:00, 94.76batch/s]\n"
     ]
    },
    {
     "name": "stdout",
     "output_type": "stream",
     "text": [
      "Epoch [62/80], Recon: 20.0991, KL: 18.0294, ELBO: 56.158\n"
     ]
    },
    {
     "name": "stderr",
     "output_type": "stream",
     "text": [
      "Epoch 63/80: 100%|████████████████████████████████████████████████████████████| 11520/11520 [01:55<00:00, 99.40batch/s]\n"
     ]
    },
    {
     "name": "stdout",
     "output_type": "stream",
     "text": [
      "Epoch [63/80], Recon: 20.0924, KL: 18.0314, ELBO: 56.1551\n"
     ]
    },
    {
     "name": "stderr",
     "output_type": "stream",
     "text": [
      "Epoch 64/80: 100%|████████████████████████████████████████████████████████████| 11520/11520 [02:00<00:00, 95.36batch/s]\n"
     ]
    },
    {
     "name": "stdout",
     "output_type": "stream",
     "text": [
      "Epoch [64/80], Recon: 20.1241, KL: 18.0271, ELBO: 56.1783\n"
     ]
    },
    {
     "name": "stderr",
     "output_type": "stream",
     "text": [
      "Epoch 65/80: 100%|████████████████████████████████████████████████████████████| 11520/11520 [01:57<00:00, 98.03batch/s]\n"
     ]
    },
    {
     "name": "stdout",
     "output_type": "stream",
     "text": [
      "Epoch [65/80], Recon: 19.9805, KL: 18.0304, ELBO: 56.0413\n"
     ]
    },
    {
     "name": "stderr",
     "output_type": "stream",
     "text": [
      "Epoch 66/80: 100%|████████████████████████████████████████████████████████████| 11520/11520 [01:56<00:00, 99.11batch/s]\n"
     ]
    },
    {
     "name": "stdout",
     "output_type": "stream",
     "text": [
      "Epoch [66/80], Recon: 19.9855, KL: 18.0277, ELBO: 56.041\n",
      "\u001b[1m\u001b[34m\n",
      "Visualizing reconstructions for beta = 2:\u001b[0m\n"
     ]
    },
    {
     "data": {
      "image/png": "[encoded data removed]",
      "text/plain": [
       "<Figure size 1500x600 with 10 Axes>"
      ]
     },
     "metadata": {},
     "output_type": "display_data"
    },
    {
     "name": "stderr",
     "output_type": "stream",
     "text": [
      "Extracting Factors and Latents: 100%|███████████████████████████████████████████| 11520/11520 [01:02<00:00, 184.68it/s]\n"
     ]
    },
    {
     "name": "stdout",
     "output_type": "stream",
     "text": [
      "\u001b[1m\u001b[34m\n",
      "Computing disentangelement scores for beta = 2:\u001b[0m\n",
      "\u001b[1mIteration 1:\u001b[0m\n",
      "MIG score: 0.2305\n",
      "SAP score: 0.1031\n",
      "\n",
      "\u001b[1mIteration 2:\u001b[0m\n",
      "MIG score: 0.2288\n",
      "SAP score: 0.1067\n",
      "\n",
      "\u001b[1mIteration 3:\u001b[0m\n",
      "MIG score: 0.2324\n",
      "SAP score: 0.1042\n",
      "\n",
      "\u001b[1mIteration 4:\u001b[0m\n",
      "MIG score: 0.2279\n",
      "SAP score: 0.1041\n",
      "\n",
      "\u001b[1mIteration 5:\u001b[0m\n",
      "MIG score: 0.2254\n",
      "SAP score: 0.1061\n",
      "\n",
      "\u001b[1mIteration 6:\u001b[0m\n",
      "MIG score: 0.2307\n",
      "SAP score: 0.1059\n",
      "\n",
      "\u001b[1mIteration 7:\u001b[0m\n",
      "MIG score: 0.2253\n",
      "SAP score: 0.1048\n",
      "\n",
      "\u001b[1mIteration 8:\u001b[0m\n",
      "MIG score: 0.2292\n",
      "SAP score: 0.1037\n",
      "\n",
      "\u001b[1mIteration 9:\u001b[0m\n",
      "MIG score: 0.2318\n",
      "SAP score: 0.105\n",
      "\n",
      "\u001b[1mIteration 10:\u001b[0m\n",
      "MIG score: 0.2316\n",
      "SAP score: 0.1018\n",
      "\n",
      "Max MIG score is 0.2324 at iteration 3\n",
      "Max MI matrix:\n",
      "[[0.     0.     0.     0.     0.     0.     0.     0.     0.     0.    ]\n",
      " [0.0333 0.0496 0.0609 0.1314 0.0283 0.3511 0.3685 0.0219 0.0661 0.1915]\n",
      " [0.0056 0.0265 0.0171 0.029  0.0046 0.0226 1.1513 0.0041 0.0256 0.018 ]\n",
      " [0.0535 0.014  0.021  0.0118 0.0425 0.0973 0.009  0.0261 0.0191 0.028 ]\n",
      " [0.3013 0.0492 0.0208 0.0253 0.2255 0.0164 0.0137 0.4616 0.0649 0.0083]\n",
      " [0.3718 0.1059 0.0735 0.0762 0.4224 0.0165 0.0216 0.2436 0.0221 0.0107]]\n",
      "\n",
      "Min MIG score is 0.2253 at iteration 7\n",
      "Min MI matrix:\n",
      "[[0.     0.     0.     0.     0.     0.     0.     0.     0.     0.    ]\n",
      " [0.0338 0.0493 0.0627 0.1285 0.0275 0.3498 0.3202 0.0213 0.0646 0.1919]\n",
      " [0.0059 0.0275 0.017  0.0287 0.0041 0.0233 1.1017 0.004  0.025  0.0174]\n",
      " [0.0539 0.0128 0.0212 0.0109 0.0424 0.0983 0.0097 0.0264 0.0192 0.0274]\n",
      " [0.2992 0.048  0.0228 0.0231 0.2276 0.0162 0.0117 0.4593 0.0633 0.0085]\n",
      " [0.3737 0.101  0.0735 0.0715 0.4184 0.0169 0.0206 0.2473 0.0204 0.0113]]\n",
      "\u001b[1m\u001b[31m\n",
      "Training with beta = 4:\u001b[0m\n"
     ]
    },
    {
     "name": "stderr",
     "output_type": "stream",
     "text": [
      "Epoch 1/80: 100%|█████████████████████████████████████████████████████████████| 11520/11520 [02:05<00:00, 91.71batch/s]\n"
     ]
    },
    {
     "name": "stdout",
     "output_type": "stream",
     "text": [
      "Epoch [1/80], Recon: 26.9980, KL: 15.9013, ELBO: 90.6031\n"
     ]
    },
    {
     "name": "stderr",
     "output_type": "stream",
     "text": [
      "Epoch 2/80: 100%|█████████████████████████████████████████████████████████████| 11520/11520 [02:16<00:00, 84.47batch/s]\n"
     ]
    },
    {
     "name": "stdout",
     "output_type": "stream",
     "text": [
      "Epoch [2/80], Recon: 27.6440, KL: 15.6955, ELBO: 90.4261\n"
     ]
    },
    {
     "name": "stderr",
     "output_type": "stream",
     "text": [
      "Epoch 3/80: 100%|█████████████████████████████████████████████████████████████| 11520/11520 [02:15<00:00, 85.20batch/s]\n"
     ]
    },
    {
     "name": "stdout",
     "output_type": "stream",
     "text": [
      "Epoch [3/80], Recon: 27.9336, KL: 15.6110, ELBO: 90.3776\n"
     ]
    },
    {
     "name": "stderr",
     "output_type": "stream",
     "text": [
      "Epoch 4/80: 100%|█████████████████████████████████████████████████████████████| 11520/11520 [02:15<00:00, 84.80batch/s]\n"
     ]
    },
    {
     "name": "stdout",
     "output_type": "stream",
     "text": [
      "Epoch [4/80], Recon: 28.0705, KL: 15.5466, ELBO: 90.2568\n"
     ]
    },
    {
     "name": "stderr",
     "output_type": "stream",
     "text": [
      "Epoch 5/80: 100%|█████████████████████████████████████████████████████████████| 11520/11520 [02:14<00:00, 85.77batch/s]\n"
     ]
    },
    {
     "name": "stdout",
     "output_type": "stream",
     "text": [
      "Epoch [5/80], Recon: 28.2279, KL: 15.5022, ELBO: 90.2366\n"
     ]
    },
    {
     "name": "stderr",
     "output_type": "stream",
     "text": [
      "Epoch 6/80: 100%|█████████████████████████████████████████████████████████████| 11520/11520 [02:14<00:00, 85.47batch/s]\n"
     ]
    },
    {
     "name": "stdout",
     "output_type": "stream",
     "text": [
      "Epoch [6/80], Recon: 28.3169, KL: 15.4776, ELBO: 90.2273\n"
     ]
    },
    {
     "name": "stderr",
     "output_type": "stream",
     "text": [
      "Epoch 7/80: 100%|█████████████████████████████████████████████████████████████| 11520/11520 [02:18<00:00, 83.35batch/s]\n"
     ]
    },
    {
     "name": "stdout",
     "output_type": "stream",
     "text": [
      "Epoch [7/80], Recon: 28.3830, KL: 15.4431, ELBO: 90.1552\n"
     ]
    },
    {
     "name": "stderr",
     "output_type": "stream",
     "text": [
      "Epoch 8/80: 100%|█████████████████████████████████████████████████████████████| 11520/11520 [02:20<00:00, 81.93batch/s]\n"
     ]
    },
    {
     "name": "stdout",
     "output_type": "stream",
     "text": [
      "Epoch [8/80], Recon: 28.4695, KL: 15.4239, ELBO: 90.165\n"
     ]
    },
    {
     "name": "stderr",
     "output_type": "stream",
     "text": [
      "Epoch 9/80: 100%|█████████████████████████████████████████████████████████████| 11520/11520 [02:18<00:00, 83.47batch/s]\n"
     ]
    },
    {
     "name": "stdout",
     "output_type": "stream",
     "text": [
      "Epoch [9/80], Recon: 28.4437, KL: 15.4014, ELBO: 90.0494\n"
     ]
    },
    {
     "name": "stderr",
     "output_type": "stream",
     "text": [
      "Epoch 10/80: 100%|████████████████████████████████████████████████████████████| 11520/11520 [02:22<00:00, 81.01batch/s]\n"
     ]
    },
    {
     "name": "stdout",
     "output_type": "stream",
     "text": [
      "Epoch [10/80], Recon: 28.5331, KL: 15.3946, ELBO: 90.1114\n"
     ]
    },
    {
     "name": "stderr",
     "output_type": "stream",
     "text": [
      "Epoch 11/80: 100%|████████████████████████████████████████████████████████████| 11520/11520 [02:21<00:00, 81.36batch/s]\n"
     ]
    },
    {
     "name": "stdout",
     "output_type": "stream",
     "text": [
      "Epoch [11/80], Recon: 28.5027, KL: 15.3723, ELBO: 89.992\n"
     ]
    },
    {
     "name": "stderr",
     "output_type": "stream",
     "text": [
      "Epoch 12/80: 100%|████████████████████████████████████████████████████████████| 11520/11520 [02:23<00:00, 80.23batch/s]\n"
     ]
    },
    {
     "name": "stdout",
     "output_type": "stream",
     "text": [
      "Epoch [12/80], Recon: 28.5441, KL: 15.3647, ELBO: 90.003\n"
     ]
    },
    {
     "name": "stderr",
     "output_type": "stream",
     "text": [
      "Epoch 13/80: 100%|████████████████████████████████████████████████████████████| 11520/11520 [02:22<00:00, 81.12batch/s]\n"
     ]
    },
    {
     "name": "stdout",
     "output_type": "stream",
     "text": [
      "Epoch [13/80], Recon: 28.5521, KL: 15.3518, ELBO: 89.9592\n"
     ]
    },
    {
     "name": "stderr",
     "output_type": "stream",
     "text": [
      "Epoch 14/80: 100%|████████████████████████████████████████████████████████████| 11520/11520 [02:24<00:00, 79.59batch/s]\n"
     ]
    },
    {
     "name": "stdout",
     "output_type": "stream",
     "text": [
      "Epoch [14/80], Recon: 28.6031, KL: 15.3550, ELBO: 90.0231\n"
     ]
    },
    {
     "name": "stderr",
     "output_type": "stream",
     "text": [
      "Epoch 15/80: 100%|████████████████████████████████████████████████████████████| 11520/11520 [02:23<00:00, 80.51batch/s]\n"
     ]
    },
    {
     "name": "stdout",
     "output_type": "stream",
     "text": [
      "Epoch [15/80], Recon: 28.5865, KL: 15.3259, ELBO: 89.8901\n"
     ]
    },
    {
     "name": "stderr",
     "output_type": "stream",
     "text": [
      "Epoch 16/80: 100%|████████████████████████████████████████████████████████████| 11520/11520 [02:22<00:00, 80.83batch/s]\n"
     ]
    },
    {
     "name": "stdout",
     "output_type": "stream",
     "text": [
      "Epoch [16/80], Recon: 28.5658, KL: 15.3270, ELBO: 89.8739\n"
     ]
    },
    {
     "name": "stderr",
     "output_type": "stream",
     "text": [
      "Epoch 17/80: 100%|████████████████████████████████████████████████████████████| 11520/11520 [02:21<00:00, 81.44batch/s]\n"
     ]
    },
    {
     "name": "stdout",
     "output_type": "stream",
     "text": [
      "Epoch [17/80], Recon: 28.5690, KL: 15.3222, ELBO: 89.8577\n"
     ]
    },
    {
     "name": "stderr",
     "output_type": "stream",
     "text": [
      "Epoch 18/80: 100%|████████████████████████████████████████████████████████████| 11520/11520 [02:23<00:00, 80.22batch/s]\n"
     ]
    },
    {
     "name": "stdout",
     "output_type": "stream",
     "text": [
      "Epoch [18/80], Recon: 28.5466, KL: 15.3066, ELBO: 89.7732\n"
     ]
    },
    {
     "name": "stderr",
     "output_type": "stream",
     "text": [
      "Epoch 19/80: 100%|████████████████████████████████████████████████████████████| 11520/11520 [02:22<00:00, 80.64batch/s]\n"
     ]
    },
    {
     "name": "stdout",
     "output_type": "stream",
     "text": [
      "Epoch [19/80], Recon: 28.5418, KL: 15.3030, ELBO: 89.7537\n"
     ]
    },
    {
     "name": "stderr",
     "output_type": "stream",
     "text": [
      "Epoch 20/80: 100%|████████████████████████████████████████████████████████████| 11520/11520 [02:23<00:00, 80.05batch/s]\n"
     ]
    },
    {
     "name": "stdout",
     "output_type": "stream",
     "text": [
      "Epoch [20/80], Recon: 28.5058, KL: 15.3005, ELBO: 89.7077\n"
     ]
    },
    {
     "name": "stderr",
     "output_type": "stream",
     "text": [
      "Epoch 21/80: 100%|████████████████████████████████████████████████████████████| 11520/11520 [02:11<00:00, 87.85batch/s]\n"
     ]
    },
    {
     "name": "stdout",
     "output_type": "stream",
     "text": [
      "Epoch [21/80], Recon: 28.6169, KL: 15.2873, ELBO: 89.766\n"
     ]
    },
    {
     "name": "stderr",
     "output_type": "stream",
     "text": [
      "Epoch 22/80: 100%|████████████████████████████████████████████████████████████| 11520/11520 [02:01<00:00, 94.67batch/s]\n"
     ]
    },
    {
     "name": "stdout",
     "output_type": "stream",
     "text": [
      "Epoch [22/80], Recon: 28.5524, KL: 15.2863, ELBO: 89.6976\n"
     ]
    },
    {
     "name": "stderr",
     "output_type": "stream",
     "text": [
      "Epoch 23/80: 100%|████████████████████████████████████████████████████████████| 11520/11520 [02:03<00:00, 93.40batch/s]\n"
     ]
    },
    {
     "name": "stdout",
     "output_type": "stream",
     "text": [
      "Epoch [23/80], Recon: 28.5579, KL: 15.2873, ELBO: 89.707\n"
     ]
    },
    {
     "name": "stderr",
     "output_type": "stream",
     "text": [
      "Epoch 24/80: 100%|████████████████████████████████████████████████████████████| 11520/11520 [01:57<00:00, 98.00batch/s]\n"
     ]
    },
    {
     "name": "stdout",
     "output_type": "stream",
     "text": [
      "Epoch [24/80], Recon: 28.5369, KL: 15.2772, ELBO: 89.6458\n"
     ]
    },
    {
     "name": "stderr",
     "output_type": "stream",
     "text": [
      "Epoch 25/80: 100%|████████████████████████████████████████████████████████████| 11520/11520 [02:00<00:00, 95.90batch/s]\n"
     ]
    },
    {
     "name": "stdout",
     "output_type": "stream",
     "text": [
      "Epoch [25/80], Recon: 28.5287, KL: 15.2749, ELBO: 89.6283\n"
     ]
    },
    {
     "name": "stderr",
     "output_type": "stream",
     "text": [
      "Epoch 26/80: 100%|████████████████████████████████████████████████████████████| 11520/11520 [02:00<00:00, 95.66batch/s]\n"
     ]
    },
    {
     "name": "stdout",
     "output_type": "stream",
     "text": [
      "Epoch [26/80], Recon: 28.4920, KL: 15.2703, ELBO: 89.5732\n"
     ]
    },
    {
     "name": "stderr",
     "output_type": "stream",
     "text": [
      "Epoch 27/80: 100%|████████████████████████████████████████████████████████████| 11520/11520 [01:57<00:00, 98.27batch/s]\n"
     ]
    },
    {
     "name": "stdout",
     "output_type": "stream",
     "text": [
      "Epoch [27/80], Recon: 28.4446, KL: 15.2663, ELBO: 89.5099\n"
     ]
    },
    {
     "name": "stderr",
     "output_type": "stream",
     "text": [
      "Epoch 28/80: 100%|████████████████████████████████████████████████████████████| 11520/11520 [02:01<00:00, 94.94batch/s]\n"
     ]
    },
    {
     "name": "stdout",
     "output_type": "stream",
     "text": [
      "Epoch [28/80], Recon: 28.4586, KL: 15.2640, ELBO: 89.5147\n"
     ]
    },
    {
     "name": "stderr",
     "output_type": "stream",
     "text": [
      "Epoch 29/80: 100%|████████████████████████████████████████████████████████████| 11520/11520 [01:58<00:00, 97.45batch/s]\n"
     ]
    },
    {
     "name": "stdout",
     "output_type": "stream",
     "text": [
      "Epoch [29/80], Recon: 28.4613, KL: 15.2575, ELBO: 89.4913\n"
     ]
    },
    {
     "name": "stderr",
     "output_type": "stream",
     "text": [
      "Epoch 30/80: 100%|████████████████████████████████████████████████████████████| 11520/11520 [01:59<00:00, 96.59batch/s]\n"
     ]
    },
    {
     "name": "stdout",
     "output_type": "stream",
     "text": [
      "Epoch [30/80], Recon: 28.4221, KL: 15.2628, ELBO: 89.4734\n"
     ]
    },
    {
     "name": "stderr",
     "output_type": "stream",
     "text": [
      "Epoch 31/80: 100%|████████████████████████████████████████████████████████████| 11520/11520 [02:00<00:00, 95.86batch/s]\n"
     ]
    },
    {
     "name": "stdout",
     "output_type": "stream",
     "text": [
      "Epoch [31/80], Recon: 28.3965, KL: 15.2536, ELBO: 89.4107\n"
     ]
    },
    {
     "name": "stderr",
     "output_type": "stream",
     "text": [
      "Epoch 32/80: 100%|████████████████████████████████████████████████████████████| 11520/11520 [01:59<00:00, 96.20batch/s]\n"
     ]
    },
    {
     "name": "stdout",
     "output_type": "stream",
     "text": [
      "Epoch [32/80], Recon: 28.4097, KL: 15.2522, ELBO: 89.4184\n"
     ]
    },
    {
     "name": "stderr",
     "output_type": "stream",
     "text": [
      "Epoch 33/80: 100%|████████████████████████████████████████████████████████████| 11520/11520 [02:03<00:00, 93.20batch/s]\n"
     ]
    },
    {
     "name": "stdout",
     "output_type": "stream",
     "text": [
      "Epoch [33/80], Recon: 28.3624, KL: 15.2511, ELBO: 89.3668\n"
     ]
    },
    {
     "name": "stderr",
     "output_type": "stream",
     "text": [
      "Epoch 34/80: 100%|████████████████████████████████████████████████████████████| 11520/11520 [01:58<00:00, 97.53batch/s]\n"
     ]
    },
    {
     "name": "stdout",
     "output_type": "stream",
     "text": [
      "Epoch [34/80], Recon: 28.3357, KL: 15.2461, ELBO: 89.3201\n"
     ]
    },
    {
     "name": "stderr",
     "output_type": "stream",
     "text": [
      "Epoch 35/80: 100%|████████████████████████████████████████████████████████████| 11520/11520 [01:59<00:00, 96.48batch/s]\n"
     ]
    },
    {
     "name": "stdout",
     "output_type": "stream",
     "text": [
      "Epoch [35/80], Recon: 28.3218, KL: 15.2482, ELBO: 89.3146\n"
     ]
    },
    {
     "name": "stderr",
     "output_type": "stream",
     "text": [
      "Epoch 36/80: 100%|████████████████████████████████████████████████████████████| 11520/11520 [01:59<00:00, 96.27batch/s]\n"
     ]
    },
    {
     "name": "stdout",
     "output_type": "stream",
     "text": [
      "Epoch [36/80], Recon: 28.3447, KL: 15.2447, ELBO: 89.3234\n"
     ]
    },
    {
     "name": "stderr",
     "output_type": "stream",
     "text": [
      "Epoch 37/80: 100%|████████████████████████████████████████████████████████████| 11520/11520 [02:01<00:00, 95.03batch/s]\n"
     ]
    },
    {
     "name": "stdout",
     "output_type": "stream",
     "text": [
      "Epoch [37/80], Recon: 28.3309, KL: 15.2423, ELBO: 89.3002\n"
     ]
    },
    {
     "name": "stderr",
     "output_type": "stream",
     "text": [
      "Epoch 38/80: 100%|████████████████████████████████████████████████████████████| 11520/11520 [02:02<00:00, 93.89batch/s]\n"
     ]
    },
    {
     "name": "stdout",
     "output_type": "stream",
     "text": [
      "Epoch [38/80], Recon: 28.2274, KL: 15.2446, ELBO: 89.2056\n"
     ]
    },
    {
     "name": "stderr",
     "output_type": "stream",
     "text": [
      "Epoch 39/80: 100%|████████████████████████████████████████████████████████████| 11520/11520 [01:57<00:00, 97.66batch/s]\n"
     ]
    },
    {
     "name": "stdout",
     "output_type": "stream",
     "text": [
      "Epoch [39/80], Recon: 28.3038, KL: 15.2462, ELBO: 89.2885\n"
     ]
    },
    {
     "name": "stderr",
     "output_type": "stream",
     "text": [
      "Epoch 40/80: 100%|████████████████████████████████████████████████████████████| 11520/11520 [02:00<00:00, 95.39batch/s]\n"
     ]
    },
    {
     "name": "stdout",
     "output_type": "stream",
     "text": [
      "Epoch [40/80], Recon: 28.2968, KL: 15.2438, ELBO: 89.272\n"
     ]
    },
    {
     "name": "stderr",
     "output_type": "stream",
     "text": [
      "Epoch 41/80: 100%|████████████████████████████████████████████████████████████| 11520/11520 [02:00<00:00, 95.85batch/s]\n"
     ]
    },
    {
     "name": "stdout",
     "output_type": "stream",
     "text": [
      "Epoch [41/80], Recon: 28.2449, KL: 15.2440, ELBO: 89.2211\n"
     ]
    },
    {
     "name": "stderr",
     "output_type": "stream",
     "text": [
      "Epoch 42/80: 100%|████████████████████████████████████████████████████████████| 11520/11520 [01:57<00:00, 98.24batch/s]\n"
     ]
    },
    {
     "name": "stdout",
     "output_type": "stream",
     "text": [
      "Epoch [42/80], Recon: 28.2484, KL: 15.2312, ELBO: 89.1734\n"
     ]
    },
    {
     "name": "stderr",
     "output_type": "stream",
     "text": [
      "Epoch 43/80: 100%|████████████████████████████████████████████████████████████| 11520/11520 [02:02<00:00, 93.89batch/s]\n"
     ]
    },
    {
     "name": "stdout",
     "output_type": "stream",
     "text": [
      "Epoch [43/80], Recon: 28.2484, KL: 15.2354, ELBO: 89.1902\n"
     ]
    },
    {
     "name": "stderr",
     "output_type": "stream",
     "text": [
      "Epoch 44/80: 100%|████████████████████████████████████████████████████████████| 11520/11520 [01:57<00:00, 97.66batch/s]\n"
     ]
    },
    {
     "name": "stdout",
     "output_type": "stream",
     "text": [
      "Epoch [44/80], Recon: 28.1511, KL: 15.2321, ELBO: 89.0794\n"
     ]
    },
    {
     "name": "stderr",
     "output_type": "stream",
     "text": [
      "Epoch 45/80: 100%|████████████████████████████████████████████████████████████| 11520/11520 [02:00<00:00, 95.79batch/s]\n"
     ]
    },
    {
     "name": "stdout",
     "output_type": "stream",
     "text": [
      "Epoch [45/80], Recon: 28.1419, KL: 15.2348, ELBO: 89.0809\n"
     ]
    },
    {
     "name": "stderr",
     "output_type": "stream",
     "text": [
      "Epoch 46/80: 100%|████████████████████████████████████████████████████████████| 11520/11520 [01:59<00:00, 96.20batch/s]\n"
     ]
    },
    {
     "name": "stdout",
     "output_type": "stream",
     "text": [
      "Epoch [46/80], Recon: 28.0983, KL: 15.2308, ELBO: 89.0214\n"
     ]
    },
    {
     "name": "stderr",
     "output_type": "stream",
     "text": [
      "Epoch 47/80: 100%|████████████████████████████████████████████████████████████| 11520/11520 [01:56<00:00, 98.83batch/s]\n"
     ]
    },
    {
     "name": "stdout",
     "output_type": "stream",
     "text": [
      "Epoch [47/80], Recon: 28.0691, KL: 15.2377, ELBO: 89.0199\n"
     ]
    },
    {
     "name": "stderr",
     "output_type": "stream",
     "text": [
      "Epoch 48/80: 100%|████████████████████████████████████████████████████████████| 11520/11520 [02:02<00:00, 94.26batch/s]\n"
     ]
    },
    {
     "name": "stdout",
     "output_type": "stream",
     "text": [
      "Epoch [48/80], Recon: 28.1511, KL: 15.2355, ELBO: 89.0932\n"
     ]
    },
    {
     "name": "stderr",
     "output_type": "stream",
     "text": [
      "Epoch 49/80: 100%|████████████████████████████████████████████████████████████| 11520/11520 [01:59<00:00, 96.52batch/s]\n"
     ]
    },
    {
     "name": "stdout",
     "output_type": "stream",
     "text": [
      "Epoch [49/80], Recon: 28.0952, KL: 15.2300, ELBO: 89.0153\n"
     ]
    },
    {
     "name": "stderr",
     "output_type": "stream",
     "text": [
      "Epoch 50/80: 100%|████████████████████████████████████████████████████████████| 11520/11520 [02:00<00:00, 95.72batch/s]\n"
     ]
    },
    {
     "name": "stdout",
     "output_type": "stream",
     "text": [
      "Epoch [50/80], Recon: 28.0919, KL: 15.2386, ELBO: 89.0463\n"
     ]
    },
    {
     "name": "stderr",
     "output_type": "stream",
     "text": [
      "Epoch 51/80: 100%|████████████████████████████████████████████████████████████| 11520/11520 [02:01<00:00, 95.05batch/s]\n"
     ]
    },
    {
     "name": "stdout",
     "output_type": "stream",
     "text": [
      "Epoch [51/80], Recon: 28.0353, KL: 15.2292, ELBO: 88.952\n"
     ]
    },
    {
     "name": "stderr",
     "output_type": "stream",
     "text": [
      "Epoch 52/80: 100%|████████████████████████████████████████████████████████████| 11520/11520 [02:01<00:00, 94.81batch/s]\n"
     ]
    },
    {
     "name": "stdout",
     "output_type": "stream",
     "text": [
      "Epoch [52/80], Recon: 28.0540, KL: 15.2233, ELBO: 88.9473\n"
     ]
    },
    {
     "name": "stderr",
     "output_type": "stream",
     "text": [
      "Epoch 53/80: 100%|████████████████████████████████████████████████████████████| 11520/11520 [02:03<00:00, 92.95batch/s]\n"
     ]
    },
    {
     "name": "stdout",
     "output_type": "stream",
     "text": [
      "Epoch [53/80], Recon: 28.0672, KL: 15.2310, ELBO: 88.9913\n"
     ]
    },
    {
     "name": "stderr",
     "output_type": "stream",
     "text": [
      "Epoch 54/80: 100%|████████████████████████████████████████████████████████████| 11520/11520 [01:58<00:00, 97.45batch/s]\n"
     ]
    },
    {
     "name": "stdout",
     "output_type": "stream",
     "text": [
      "Epoch [54/80], Recon: 27.9735, KL: 15.2238, ELBO: 88.8685\n"
     ]
    },
    {
     "name": "stderr",
     "output_type": "stream",
     "text": [
      "Epoch 55/80: 100%|████████████████████████████████████████████████████████████| 11520/11520 [02:01<00:00, 94.70batch/s]\n"
     ]
    },
    {
     "name": "stdout",
     "output_type": "stream",
     "text": [
      "Epoch [55/80], Recon: 27.9247, KL: 15.2224, ELBO: 88.8143\n"
     ]
    },
    {
     "name": "stderr",
     "output_type": "stream",
     "text": [
      "Epoch 56/80: 100%|████████████████████████████████████████████████████████████| 11520/11520 [02:00<00:00, 95.86batch/s]\n"
     ]
    },
    {
     "name": "stdout",
     "output_type": "stream",
     "text": [
      "Epoch [56/80], Recon: 28.0381, KL: 15.2251, ELBO: 88.9385\n"
     ]
    },
    {
     "name": "stderr",
     "output_type": "stream",
     "text": [
      "Epoch 57/80: 100%|████████████████████████████████████████████████████████████| 11520/11520 [01:57<00:00, 98.15batch/s]\n"
     ]
    },
    {
     "name": "stdout",
     "output_type": "stream",
     "text": [
      "Epoch [57/80], Recon: 27.9261, KL: 15.2207, ELBO: 88.8089\n"
     ]
    },
    {
     "name": "stderr",
     "output_type": "stream",
     "text": [
      "Epoch 58/80: 100%|████████████████████████████████████████████████████████████| 11520/11520 [02:01<00:00, 94.45batch/s]\n"
     ]
    },
    {
     "name": "stdout",
     "output_type": "stream",
     "text": [
      "Epoch [58/80], Recon: 27.9347, KL: 15.2228, ELBO: 88.8258\n"
     ]
    },
    {
     "name": "stderr",
     "output_type": "stream",
     "text": [
      "Epoch 59/80: 100%|████████████████████████████████████████████████████████████| 11520/11520 [01:58<00:00, 97.12batch/s]\n"
     ]
    },
    {
     "name": "stdout",
     "output_type": "stream",
     "text": [
      "Epoch [59/80], Recon: 27.8981, KL: 15.2243, ELBO: 88.7954\n"
     ]
    },
    {
     "name": "stderr",
     "output_type": "stream",
     "text": [
      "Epoch 60/80: 100%|████████████████████████████████████████████████████████████| 11520/11520 [02:00<00:00, 95.88batch/s]\n"
     ]
    },
    {
     "name": "stdout",
     "output_type": "stream",
     "text": [
      "Epoch [60/80], Recon: 27.8823, KL: 15.2250, ELBO: 88.7822\n"
     ]
    },
    {
     "name": "stderr",
     "output_type": "stream",
     "text": [
      "Epoch 61/80: 100%|████████████████████████████████████████████████████████████| 11520/11520 [02:00<00:00, 95.70batch/s]\n"
     ]
    },
    {
     "name": "stdout",
     "output_type": "stream",
     "text": [
      "Epoch [61/80], Recon: 27.8713, KL: 15.2307, ELBO: 88.7941\n"
     ]
    },
    {
     "name": "stderr",
     "output_type": "stream",
     "text": [
      "Epoch 62/80: 100%|████████████████████████████████████████████████████████████| 11520/11520 [01:57<00:00, 98.16batch/s]\n"
     ]
    },
    {
     "name": "stdout",
     "output_type": "stream",
     "text": [
      "Epoch [62/80], Recon: 27.9690, KL: 15.2282, ELBO: 88.8819\n"
     ]
    },
    {
     "name": "stderr",
     "output_type": "stream",
     "text": [
      "Epoch 63/80: 100%|████████████████████████████████████████████████████████████| 11520/11520 [02:00<00:00, 95.52batch/s]\n"
     ]
    },
    {
     "name": "stdout",
     "output_type": "stream",
     "text": [
      "Epoch [63/80], Recon: 27.9135, KL: 15.2239, ELBO: 88.8092\n"
     ]
    },
    {
     "name": "stderr",
     "output_type": "stream",
     "text": [
      "Epoch 64/80: 100%|████████████████████████████████████████████████████████████| 11520/11520 [02:00<00:00, 95.85batch/s]\n"
     ]
    },
    {
     "name": "stdout",
     "output_type": "stream",
     "text": [
      "Epoch [64/80], Recon: 27.9280, KL: 15.2271, ELBO: 88.8363\n"
     ]
    },
    {
     "name": "stderr",
     "output_type": "stream",
     "text": [
      "Epoch 65/80: 100%|████████████████████████████████████████████████████████████| 11520/11520 [02:00<00:00, 95.46batch/s]\n"
     ]
    },
    {
     "name": "stdout",
     "output_type": "stream",
     "text": [
      "Epoch [65/80], Recon: 27.8152, KL: 15.2227, ELBO: 88.7061\n"
     ]
    },
    {
     "name": "stderr",
     "output_type": "stream",
     "text": [
      "Epoch 66/80: 100%|████████████████████████████████████████████████████████████| 11520/11520 [02:00<00:00, 95.55batch/s]\n"
     ]
    },
    {
     "name": "stdout",
     "output_type": "stream",
     "text": [
      "Epoch [66/80], Recon: 27.8123, KL: 15.2181, ELBO: 88.6847\n"
     ]
    },
    {
     "name": "stderr",
     "output_type": "stream",
     "text": [
      "Epoch 67/80: 100%|████████████████████████████████████████████████████████████| 11520/11520 [02:00<00:00, 95.26batch/s]\n"
     ]
    },
    {
     "name": "stdout",
     "output_type": "stream",
     "text": [
      "Epoch [67/80], Recon: 27.8031, KL: 15.2244, ELBO: 88.7009\n"
     ]
    },
    {
     "name": "stderr",
     "output_type": "stream",
     "text": [
      "Epoch 68/80: 100%|████████████████████████████████████████████████████████████| 11520/11520 [02:03<00:00, 93.15batch/s]\n"
     ]
    },
    {
     "name": "stdout",
     "output_type": "stream",
     "text": [
      "Epoch [68/80], Recon: 27.7378, KL: 15.2169, ELBO: 88.6055\n"
     ]
    },
    {
     "name": "stderr",
     "output_type": "stream",
     "text": [
      "Epoch 69/80: 100%|████████████████████████████████████████████████████████████| 11520/11520 [01:58<00:00, 97.23batch/s]\n"
     ]
    },
    {
     "name": "stdout",
     "output_type": "stream",
     "text": [
      "Epoch [69/80], Recon: 27.8267, KL: 15.2152, ELBO: 88.6875\n"
     ]
    },
    {
     "name": "stderr",
     "output_type": "stream",
     "text": [
      "Epoch 70/80: 100%|████████████████████████████████████████████████████████████| 11520/11520 [02:00<00:00, 95.61batch/s]\n"
     ]
    },
    {
     "name": "stdout",
     "output_type": "stream",
     "text": [
      "Epoch [70/80], Recon: 27.7551, KL: 15.2256, ELBO: 88.6573\n"
     ]
    },
    {
     "name": "stderr",
     "output_type": "stream",
     "text": [
      "Epoch 71/80: 100%|████████████████████████████████████████████████████████████| 11520/11520 [02:00<00:00, 95.84batch/s]\n"
     ]
    },
    {
     "name": "stdout",
     "output_type": "stream",
     "text": [
      "Epoch [71/80], Recon: 27.7041, KL: 15.2192, ELBO: 88.5809\n"
     ]
    },
    {
     "name": "stderr",
     "output_type": "stream",
     "text": [
      "Epoch 72/80: 100%|████████████████████████████████████████████████████████████| 11520/11520 [01:57<00:00, 98.31batch/s]\n"
     ]
    },
    {
     "name": "stdout",
     "output_type": "stream",
     "text": [
      "Epoch [72/80], Recon: 27.7140, KL: 15.2238, ELBO: 88.6094\n"
     ]
    },
    {
     "name": "stderr",
     "output_type": "stream",
     "text": [
      "Epoch 73/80: 100%|████████████████████████████████████████████████████████████| 11520/11520 [02:02<00:00, 93.79batch/s]\n"
     ]
    },
    {
     "name": "stdout",
     "output_type": "stream",
     "text": [
      "Epoch [73/80], Recon: 27.6958, KL: 15.2221, ELBO: 88.5842\n"
     ]
    },
    {
     "name": "stderr",
     "output_type": "stream",
     "text": [
      "Epoch 74/80: 100%|████████████████████████████████████████████████████████████| 11520/11520 [01:57<00:00, 97.90batch/s]\n"
     ]
    },
    {
     "name": "stdout",
     "output_type": "stream",
     "text": [
      "Epoch [74/80], Recon: 27.8049, KL: 15.2263, ELBO: 88.7099\n"
     ]
    },
    {
     "name": "stderr",
     "output_type": "stream",
     "text": [
      "Epoch 75/80: 100%|████████████████████████████████████████████████████████████| 11520/11520 [02:00<00:00, 95.66batch/s]\n"
     ]
    },
    {
     "name": "stdout",
     "output_type": "stream",
     "text": [
      "Epoch [75/80], Recon: 27.6611, KL: 15.2161, ELBO: 88.5254\n"
     ]
    },
    {
     "name": "stderr",
     "output_type": "stream",
     "text": [
      "Epoch 76/80: 100%|████████████████████████████████████████████████████████████| 11520/11520 [02:00<00:00, 95.59batch/s]\n"
     ]
    },
    {
     "name": "stdout",
     "output_type": "stream",
     "text": [
      "Epoch [76/80], Recon: 27.6631, KL: 15.2079, ELBO: 88.4945\n"
     ]
    },
    {
     "name": "stderr",
     "output_type": "stream",
     "text": [
      "Epoch 77/80: 100%|████████████████████████████████████████████████████████████| 11520/11520 [01:57<00:00, 98.03batch/s]\n"
     ]
    },
    {
     "name": "stdout",
     "output_type": "stream",
     "text": [
      "Epoch [77/80], Recon: 27.7232, KL: 15.2119, ELBO: 88.571\n"
     ]
    },
    {
     "name": "stderr",
     "output_type": "stream",
     "text": [
      "Epoch 78/80: 100%|████████████████████████████████████████████████████████████| 11520/11520 [02:03<00:00, 93.41batch/s]\n"
     ]
    },
    {
     "name": "stdout",
     "output_type": "stream",
     "text": [
      "Epoch [78/80], Recon: 27.5622, KL: 15.2139, ELBO: 88.4178\n"
     ]
    },
    {
     "name": "stderr",
     "output_type": "stream",
     "text": [
      "Epoch 79/80: 100%|████████████████████████████████████████████████████████████| 11520/11520 [01:58<00:00, 96.83batch/s]\n"
     ]
    },
    {
     "name": "stdout",
     "output_type": "stream",
     "text": [
      "Epoch [79/80], Recon: 27.6224, KL: 15.2214, ELBO: 88.508\n"
     ]
    },
    {
     "name": "stderr",
     "output_type": "stream",
     "text": [
      "Epoch 80/80: 100%|████████████████████████████████████████████████████████████| 11520/11520 [02:00<00:00, 95.39batch/s]\n"
     ]
    },
    {
     "name": "stdout",
     "output_type": "stream",
     "text": [
      "Epoch [80/80], Recon: 27.5488, KL: 15.2128, ELBO: 88.4002\n",
      "\u001b[1m\u001b[34m\n",
      "Visualizing reconstructions for beta = 4:\u001b[0m\n"
     ]
    },
    {
     "data": {
      "image/png": "[encoded data removed]",
      "text/plain": [
       "<Figure size 1500x600 with 10 Axes>"
      ]
     },
     "metadata": {},
     "output_type": "display_data"
    },
    {
     "name": "stderr",
     "output_type": "stream",
     "text": [
      "Extracting Factors and Latents: 100%|███████████████████████████████████████████| 11520/11520 [01:00<00:00, 191.89it/s]\n"
     ]
    },
    {
     "name": "stdout",
     "output_type": "stream",
     "text": [
      "\u001b[1m\u001b[34m\n",
      "Computing disentangelement scores for beta = 4:\u001b[0m\n",
      "\u001b[1mIteration 1:\u001b[0m\n",
      "MIG score: 0.2099\n",
      "SAP score: 0.0868\n",
      "\n",
      "\u001b[1mIteration 2:\u001b[0m\n",
      "MIG score: 0.2121\n",
      "SAP score: 0.0878\n",
      "\n",
      "\u001b[1mIteration 3:\u001b[0m\n",
      "MIG score: 0.2108\n",
      "SAP score: 0.0876\n",
      "\n",
      "\u001b[1mIteration 4:\u001b[0m\n",
      "MIG score: 0.2109\n",
      "SAP score: 0.0884\n",
      "\n",
      "\u001b[1mIteration 5:\u001b[0m\n",
      "MIG score: 0.2098\n",
      "SAP score: 0.0894\n",
      "\n",
      "\u001b[1mIteration 6:\u001b[0m\n",
      "MIG score: 0.2113\n",
      "SAP score: 0.0889\n",
      "\n",
      "\u001b[1mIteration 7:\u001b[0m\n",
      "MIG score: 0.211\n",
      "SAP score: 0.0879\n",
      "\n",
      "\u001b[1mIteration 8:\u001b[0m\n",
      "MIG score: 0.2099\n",
      "SAP score: 0.0895\n",
      "\n",
      "\u001b[1mIteration 9:\u001b[0m\n",
      "MIG score: 0.2104\n",
      "SAP score: 0.0872\n",
      "\n",
      "\u001b[1mIteration 10:\u001b[0m\n",
      "MIG score: 0.2095\n",
      "SAP score: 0.088\n",
      "\n",
      "Max MIG score is 0.2121 at iteration 2\n",
      "Max MI matrix:\n",
      "[[0.     0.     0.     0.     0.     0.     0.     0.     0.     0.    ]\n",
      " [0.0353 0.0547 0.0473 0.0417 0.0272 0.3736 0.3072 0.0227 0.0221 0.201 ]\n",
      " [0.0033 0.0937 0.0381 0.0113 0.0028 0.037  1.06   0.0026 0.007  0.0272]\n",
      " [0.0551 0.0105 0.0155 0.01   0.0455 0.0962 0.0094 0.0291 0.0145 0.0238]\n",
      " [0.298  0.1216 0.0298 0.0311 0.2336 0.0099 0.0371 0.4556 0.1073 0.0097]\n",
      " [0.3738 0.0842 0.0357 0.0938 0.4152 0.012  0.0215 0.2534 0.0696 0.0103]]\n",
      "\n",
      "Min MIG score is 0.2095 at iteration 10\n",
      "Min MI matrix:\n",
      "[[0.     0.     0.     0.     0.     0.     0.     0.     0.     0.    ]\n",
      " [0.0361 0.054  0.0479 0.0437 0.0288 0.3683 0.3266 0.023  0.0218 0.2008]\n",
      " [0.0034 0.0921 0.0371 0.0118 0.0024 0.035  1.0712 0.0027 0.0061 0.0275]\n",
      " [0.0586 0.0112 0.0152 0.0097 0.0457 0.0976 0.0087 0.0299 0.0149 0.0237]\n",
      " [0.2942 0.1214 0.0314 0.0326 0.2316 0.0096 0.0317 0.4576 0.1069 0.0095]\n",
      " [0.3767 0.0868 0.0374 0.0987 0.4107 0.012  0.0215 0.2574 0.0698 0.0108]]\n",
      "\u001b[1m\u001b[31m\n",
      "Training with beta = 6:\u001b[0m\n"
     ]
    },
    {
     "name": "stderr",
     "output_type": "stream",
     "text": [
      "Epoch 1/80: 100%|█████████████████████████████████████████████████████████████| 11520/11520 [02:05<00:00, 91.49batch/s]\n"
     ]
    },
    {
     "name": "stdout",
     "output_type": "stream",
     "text": [
      "Epoch [1/80], Recon: 34.6173, KL: 13.9334, ELBO: 118.2178\n"
     ]
    },
    {
     "name": "stderr",
     "output_type": "stream",
     "text": [
      "Epoch 2/80: 100%|█████████████████████████████████████████████████████████████| 11520/11520 [02:03<00:00, 93.29batch/s]\n"
     ]
    },
    {
     "name": "stdout",
     "output_type": "stream",
     "text": [
      "Epoch [2/80], Recon: 35.6016, KL: 13.7765, ELBO: 118.2608\n"
     ]
    },
    {
     "name": "stderr",
     "output_type": "stream",
     "text": [
      "Epoch 3/80: 100%|█████████████████████████████████████████████████████████████| 11520/11520 [01:58<00:00, 96.98batch/s]\n"
     ]
    },
    {
     "name": "stdout",
     "output_type": "stream",
     "text": [
      "Epoch [3/80], Recon: 35.7457, KL: 13.7092, ELBO: 118.0007\n"
     ]
    },
    {
     "name": "stderr",
     "output_type": "stream",
     "text": [
      "Epoch 4/80: 100%|█████████████████████████████████████████████████████████████| 11520/11520 [02:01<00:00, 94.96batch/s]\n"
     ]
    },
    {
     "name": "stdout",
     "output_type": "stream",
     "text": [
      "Epoch [4/80], Recon: 36.0281, KL: 13.6766, ELBO: 118.0879\n"
     ]
    },
    {
     "name": "stderr",
     "output_type": "stream",
     "text": [
      "Epoch 5/80: 100%|█████████████████████████████████████████████████████████████| 11520/11520 [02:01<00:00, 95.06batch/s]\n"
     ]
    },
    {
     "name": "stdout",
     "output_type": "stream",
     "text": [
      "Epoch [5/80], Recon: 36.1330, KL: 13.6523, ELBO: 118.047\n"
     ]
    },
    {
     "name": "stderr",
     "output_type": "stream",
     "text": [
      "Epoch 6/80: 100%|█████████████████████████████████████████████████████████████| 11520/11520 [01:58<00:00, 97.43batch/s]\n"
     ]
    },
    {
     "name": "stdout",
     "output_type": "stream",
     "text": [
      "Epoch [6/80], Recon: 36.3222, KL: 13.6181, ELBO: 118.0307\n"
     ]
    },
    {
     "name": "stderr",
     "output_type": "stream",
     "text": [
      "Epoch 7/80: 100%|█████████████████████████████████████████████████████████████| 11520/11520 [02:03<00:00, 93.17batch/s]\n"
     ]
    },
    {
     "name": "stdout",
     "output_type": "stream",
     "text": [
      "Epoch [7/80], Recon: 36.3532, KL: 13.5897, ELBO: 117.8914\n"
     ]
    },
    {
     "name": "stderr",
     "output_type": "stream",
     "text": [
      "Epoch 8/80: 100%|█████████████████████████████████████████████████████████████| 11520/11520 [02:04<00:00, 92.30batch/s]\n"
     ]
    },
    {
     "name": "stdout",
     "output_type": "stream",
     "text": [
      "Epoch [8/80], Recon: 36.4984, KL: 13.5687, ELBO: 117.9107\n"
     ]
    },
    {
     "name": "stderr",
     "output_type": "stream",
     "text": [
      "Epoch 9/80: 100%|█████████████████████████████████████████████████████████████| 11520/11520 [02:03<00:00, 93.30batch/s]\n"
     ]
    },
    {
     "name": "stdout",
     "output_type": "stream",
     "text": [
      "Epoch [9/80], Recon: 36.5873, KL: 13.5677, ELBO: 117.9933\n"
     ]
    },
    {
     "name": "stderr",
     "output_type": "stream",
     "text": [
      "Epoch 10/80: 100%|████████████████████████████████████████████████████████████| 11520/11520 [02:11<00:00, 87.60batch/s]\n"
     ]
    },
    {
     "name": "stdout",
     "output_type": "stream",
     "text": [
      "Epoch [10/80], Recon: 36.5934, KL: 13.5538, ELBO: 117.9163\n"
     ]
    },
    {
     "name": "stderr",
     "output_type": "stream",
     "text": [
      "Epoch 11/80: 100%|████████████████████████████████████████████████████████████| 11520/11520 [02:01<00:00, 95.08batch/s]\n"
     ]
    },
    {
     "name": "stdout",
     "output_type": "stream",
     "text": [
      "Epoch [11/80], Recon: 36.7058, KL: 13.5473, ELBO: 117.9899\n"
     ]
    },
    {
     "name": "stderr",
     "output_type": "stream",
     "text": [
      "Epoch 12/80: 100%|████████████████████████████████████████████████████████████| 11520/11520 [02:13<00:00, 86.56batch/s]\n"
     ]
    },
    {
     "name": "stdout",
     "output_type": "stream",
     "text": [
      "Epoch [12/80], Recon: 36.7640, KL: 13.5210, ELBO: 117.8901\n"
     ]
    },
    {
     "name": "stderr",
     "output_type": "stream",
     "text": [
      "Epoch 13/80: 100%|████████████████████████████████████████████████████████████| 11520/11520 [02:20<00:00, 81.75batch/s]\n"
     ]
    },
    {
     "name": "stdout",
     "output_type": "stream",
     "text": [
      "Epoch [13/80], Recon: 36.8343, KL: 13.5117, ELBO: 117.9045\n"
     ]
    },
    {
     "name": "stderr",
     "output_type": "stream",
     "text": [
      "Epoch 14/80: 100%|████████████████████████████████████████████████████████████| 11520/11520 [02:12<00:00, 86.97batch/s]\n"
     ]
    },
    {
     "name": "stdout",
     "output_type": "stream",
     "text": [
      "Epoch [14/80], Recon: 36.7901, KL: 13.5128, ELBO: 117.8668\n"
     ]
    },
    {
     "name": "stderr",
     "output_type": "stream",
     "text": [
      "Epoch 15/80: 100%|████████████████████████████████████████████████████████████| 11520/11520 [02:01<00:00, 94.89batch/s]\n"
     ]
    },
    {
     "name": "stdout",
     "output_type": "stream",
     "text": [
      "Epoch [15/80], Recon: 36.8182, KL: 13.4991, ELBO: 117.8128\n"
     ]
    },
    {
     "name": "stderr",
     "output_type": "stream",
     "text": [
      "Epoch 16/80: 100%|████████████████████████████████████████████████████████████| 11520/11520 [02:06<00:00, 91.18batch/s]\n"
     ]
    },
    {
     "name": "stdout",
     "output_type": "stream",
     "text": [
      "Epoch [16/80], Recon: 36.8215, KL: 13.4959, ELBO: 117.7971\n"
     ]
    },
    {
     "name": "stderr",
     "output_type": "stream",
     "text": [
      "Epoch 17/80: 100%|████████████████████████████████████████████████████████████| 11520/11520 [02:01<00:00, 94.81batch/s]\n"
     ]
    },
    {
     "name": "stdout",
     "output_type": "stream",
     "text": [
      "Epoch [17/80], Recon: 36.8162, KL: 13.4846, ELBO: 117.7241\n"
     ]
    },
    {
     "name": "stderr",
     "output_type": "stream",
     "text": [
      "Epoch 18/80: 100%|████████████████████████████████████████████████████████████| 11520/11520 [01:59<00:00, 96.15batch/s]\n"
     ]
    },
    {
     "name": "stdout",
     "output_type": "stream",
     "text": [
      "Epoch [18/80], Recon: 36.9375, KL: 13.4828, ELBO: 117.834\n"
     ]
    },
    {
     "name": "stderr",
     "output_type": "stream",
     "text": [
      "Epoch 19/80: 100%|████████████████████████████████████████████████████████████| 11520/11520 [02:06<00:00, 91.27batch/s]\n"
     ]
    },
    {
     "name": "stdout",
     "output_type": "stream",
     "text": [
      "Epoch [19/80], Recon: 36.9579, KL: 13.4735, ELBO: 117.799\n"
     ]
    },
    {
     "name": "stderr",
     "output_type": "stream",
     "text": [
      "Epoch 20/80: 100%|████████████████████████████████████████████████████████████| 11520/11520 [02:00<00:00, 95.62batch/s]\n"
     ]
    },
    {
     "name": "stdout",
     "output_type": "stream",
     "text": [
      "Epoch [20/80], Recon: 36.9271, KL: 13.4628, ELBO: 117.704\n"
     ]
    },
    {
     "name": "stderr",
     "output_type": "stream",
     "text": [
      "Epoch 21/80: 100%|████████████████████████████████████████████████████████████| 11520/11520 [02:04<00:00, 92.64batch/s]\n"
     ]
    },
    {
     "name": "stdout",
     "output_type": "stream",
     "text": [
      "Epoch [21/80], Recon: 36.9250, KL: 13.4637, ELBO: 117.7069\n"
     ]
    },
    {
     "name": "stderr",
     "output_type": "stream",
     "text": [
      "Epoch 22/80: 100%|████████████████████████████████████████████████████████████| 11520/11520 [02:00<00:00, 95.33batch/s]\n"
     ]
    },
    {
     "name": "stdout",
     "output_type": "stream",
     "text": [
      "Epoch [22/80], Recon: 37.0084, KL: 13.4520, ELBO: 117.7206\n"
     ]
    },
    {
     "name": "stderr",
     "output_type": "stream",
     "text": [
      "Epoch 23/80: 100%|████████████████████████████████████████████████████████████| 11520/11520 [02:04<00:00, 92.18batch/s]\n"
     ]
    },
    {
     "name": "stdout",
     "output_type": "stream",
     "text": [
      "Epoch [23/80], Recon: 36.9966, KL: 13.4577, ELBO: 117.743\n"
     ]
    },
    {
     "name": "stderr",
     "output_type": "stream",
     "text": [
      "Epoch 24/80: 100%|████████████████████████████████████████████████████████████| 11520/11520 [02:11<00:00, 87.41batch/s]\n"
     ]
    },
    {
     "name": "stdout",
     "output_type": "stream",
     "text": [
      "Epoch [24/80], Recon: 37.0271, KL: 13.4484, ELBO: 117.7173\n"
     ]
    },
    {
     "name": "stderr",
     "output_type": "stream",
     "text": [
      "Epoch 25/80: 100%|████████████████████████████████████████████████████████████| 11520/11520 [02:09<00:00, 88.86batch/s]\n"
     ]
    },
    {
     "name": "stdout",
     "output_type": "stream",
     "text": [
      "Epoch [25/80], Recon: 36.9762, KL: 13.4340, ELBO: 117.5799\n"
     ]
    },
    {
     "name": "stderr",
     "output_type": "stream",
     "text": [
      "Epoch 26/80: 100%|████████████████████████████████████████████████████████████| 11520/11520 [02:08<00:00, 89.46batch/s]\n"
     ]
    },
    {
     "name": "stdout",
     "output_type": "stream",
     "text": [
      "Epoch [26/80], Recon: 37.1133, KL: 13.4385, ELBO: 117.7445\n"
     ]
    },
    {
     "name": "stderr",
     "output_type": "stream",
     "text": [
      "Epoch 27/80: 100%|████████████████████████████████████████████████████████████| 11520/11520 [02:00<00:00, 95.42batch/s]\n"
     ]
    },
    {
     "name": "stdout",
     "output_type": "stream",
     "text": [
      "Epoch [27/80], Recon: 37.0655, KL: 13.4322, ELBO: 117.6588\n"
     ]
    },
    {
     "name": "stderr",
     "output_type": "stream",
     "text": [
      "Epoch 28/80: 100%|████████████████████████████████████████████████████████████| 11520/11520 [02:03<00:00, 93.33batch/s]\n"
     ]
    },
    {
     "name": "stdout",
     "output_type": "stream",
     "text": [
      "Epoch [28/80], Recon: 37.1024, KL: 13.4366, ELBO: 117.7221\n"
     ]
    },
    {
     "name": "stderr",
     "output_type": "stream",
     "text": [
      "Epoch 29/80: 100%|████████████████████████████████████████████████████████████| 11520/11520 [02:04<00:00, 92.78batch/s]\n"
     ]
    },
    {
     "name": "stdout",
     "output_type": "stream",
     "text": [
      "Epoch [29/80], Recon: 37.0408, KL: 13.4304, ELBO: 117.6233\n"
     ]
    },
    {
     "name": "stderr",
     "output_type": "stream",
     "text": [
      "Epoch 30/80: 100%|████████████████████████████████████████████████████████████| 11520/11520 [02:00<00:00, 95.36batch/s]\n"
     ]
    },
    {
     "name": "stdout",
     "output_type": "stream",
     "text": [
      "Epoch [30/80], Recon: 37.1138, KL: 13.4278, ELBO: 117.6808\n"
     ]
    },
    {
     "name": "stderr",
     "output_type": "stream",
     "text": [
      "Epoch 31/80: 100%|████████████████████████████████████████████████████████████| 11520/11520 [02:08<00:00, 89.32batch/s]\n"
     ]
    },
    {
     "name": "stdout",
     "output_type": "stream",
     "text": [
      "Epoch [31/80], Recon: 37.0358, KL: 13.4208, ELBO: 117.5605\n"
     ]
    },
    {
     "name": "stderr",
     "output_type": "stream",
     "text": [
      "Epoch 32/80: 100%|████████████████████████████████████████████████████████████| 11520/11520 [02:00<00:00, 95.46batch/s]\n"
     ]
    },
    {
     "name": "stdout",
     "output_type": "stream",
     "text": [
      "Epoch [32/80], Recon: 36.9822, KL: 13.4198, ELBO: 117.5007\n"
     ]
    },
    {
     "name": "stderr",
     "output_type": "stream",
     "text": [
      "Epoch 33/80: 100%|████████████████████████████████████████████████████████████| 11520/11520 [02:04<00:00, 92.41batch/s]\n"
     ]
    },
    {
     "name": "stdout",
     "output_type": "stream",
     "text": [
      "Epoch [33/80], Recon: 37.0364, KL: 13.4182, ELBO: 117.5456\n"
     ]
    },
    {
     "name": "stderr",
     "output_type": "stream",
     "text": [
      "Epoch 34/80: 100%|████████████████████████████████████████████████████████████| 11520/11520 [02:01<00:00, 94.92batch/s]\n"
     ]
    },
    {
     "name": "stdout",
     "output_type": "stream",
     "text": [
      "Epoch [34/80], Recon: 37.1490, KL: 13.4068, ELBO: 117.59\n"
     ]
    },
    {
     "name": "stderr",
     "output_type": "stream",
     "text": [
      "Epoch 35/80: 100%|████████████████████████████████████████████████████████████| 11520/11520 [02:00<00:00, 95.58batch/s]\n"
     ]
    },
    {
     "name": "stdout",
     "output_type": "stream",
     "text": [
      "Epoch [35/80], Recon: 37.2556, KL: 13.4070, ELBO: 117.6978\n"
     ]
    },
    {
     "name": "stderr",
     "output_type": "stream",
     "text": [
      "Epoch 36/80: 100%|████████████████████████████████████████████████████████████| 11520/11520 [02:06<00:00, 91.40batch/s]\n"
     ]
    },
    {
     "name": "stdout",
     "output_type": "stream",
     "text": [
      "Epoch [36/80], Recon: 37.1173, KL: 13.4113, ELBO: 117.5853\n"
     ]
    },
    {
     "name": "stderr",
     "output_type": "stream",
     "text": [
      "Epoch 37/80: 100%|████████████████████████████████████████████████████████████| 11520/11520 [01:59<00:00, 96.16batch/s]\n"
     ]
    },
    {
     "name": "stdout",
     "output_type": "stream",
     "text": [
      "Epoch [37/80], Recon: 37.1188, KL: 13.4025, ELBO: 117.5337\n"
     ]
    },
    {
     "name": "stderr",
     "output_type": "stream",
     "text": [
      "Epoch 38/80: 100%|████████████████████████████████████████████████████████████| 11520/11520 [02:06<00:00, 90.76batch/s]\n"
     ]
    },
    {
     "name": "stdout",
     "output_type": "stream",
     "text": [
      "Epoch [38/80], Recon: 37.1690, KL: 13.4010, ELBO: 117.575\n"
     ]
    },
    {
     "name": "stderr",
     "output_type": "stream",
     "text": [
      "Epoch 39/80: 100%|████████████████████████████████████████████████████████████| 11520/11520 [02:04<00:00, 92.79batch/s]\n"
     ]
    },
    {
     "name": "stdout",
     "output_type": "stream",
     "text": [
      "Epoch [39/80], Recon: 37.1155, KL: 13.3971, ELBO: 117.4984\n"
     ]
    },
    {
     "name": "stderr",
     "output_type": "stream",
     "text": [
      "Epoch 40/80: 100%|████████████████████████████████████████████████████████████| 11520/11520 [02:06<00:00, 90.88batch/s]\n"
     ]
    },
    {
     "name": "stdout",
     "output_type": "stream",
     "text": [
      "Epoch [40/80], Recon: 37.2557, KL: 13.3952, ELBO: 117.6268\n"
     ]
    },
    {
     "name": "stderr",
     "output_type": "stream",
     "text": [
      "Epoch 41/80: 100%|████████████████████████████████████████████████████████████| 11520/11520 [02:02<00:00, 93.95batch/s]\n"
     ]
    },
    {
     "name": "stdout",
     "output_type": "stream",
     "text": [
      "Epoch [41/80], Recon: 37.0990, KL: 13.3989, ELBO: 117.4925\n"
     ]
    },
    {
     "name": "stderr",
     "output_type": "stream",
     "text": [
      "Epoch 42/80: 100%|████████████████████████████████████████████████████████████| 11520/11520 [01:59<00:00, 96.40batch/s]\n"
     ]
    },
    {
     "name": "stdout",
     "output_type": "stream",
     "text": [
      "Epoch [42/80], Recon: 37.0200, KL: 13.3933, ELBO: 117.3797\n"
     ]
    },
    {
     "name": "stderr",
     "output_type": "stream",
     "text": [
      "Epoch 43/80: 100%|████████████████████████████████████████████████████████████| 11520/11520 [02:05<00:00, 91.80batch/s]\n"
     ]
    },
    {
     "name": "stdout",
     "output_type": "stream",
     "text": [
      "Epoch [43/80], Recon: 37.1583, KL: 13.3964, ELBO: 117.5368\n"
     ]
    },
    {
     "name": "stderr",
     "output_type": "stream",
     "text": [
      "Epoch 44/80: 100%|████████████████████████████████████████████████████████████| 11520/11520 [02:00<00:00, 95.66batch/s]\n"
     ]
    },
    {
     "name": "stdout",
     "output_type": "stream",
     "text": [
      "Epoch [44/80], Recon: 37.0583, KL: 13.3830, ELBO: 117.3566\n"
     ]
    },
    {
     "name": "stderr",
     "output_type": "stream",
     "text": [
      "Epoch 45/80: 100%|████████████████████████████████████████████████████████████| 11520/11520 [02:02<00:00, 93.80batch/s]\n"
     ]
    },
    {
     "name": "stdout",
     "output_type": "stream",
     "text": [
      "Epoch [45/80], Recon: 37.0507, KL: 13.3795, ELBO: 117.3276\n"
     ]
    },
    {
     "name": "stderr",
     "output_type": "stream",
     "text": [
      "Epoch 46/80: 100%|████████████████████████████████████████████████████████████| 11520/11520 [02:02<00:00, 94.07batch/s]\n"
     ]
    },
    {
     "name": "stdout",
     "output_type": "stream",
     "text": [
      "Epoch [46/80], Recon: 37.1233, KL: 13.3962, ELBO: 117.5005\n"
     ]
    },
    {
     "name": "stderr",
     "output_type": "stream",
     "text": [
      "Epoch 47/80: 100%|████████████████████████████████████████████████████████████| 11520/11520 [01:59<00:00, 96.17batch/s]\n"
     ]
    },
    {
     "name": "stdout",
     "output_type": "stream",
     "text": [
      "Epoch [47/80], Recon: 37.1925, KL: 13.3863, ELBO: 117.51\n"
     ]
    },
    {
     "name": "stderr",
     "output_type": "stream",
     "text": [
      "Epoch 48/80: 100%|████████████████████████████████████████████████████████████| 11520/11520 [02:04<00:00, 92.44batch/s]\n"
     ]
    },
    {
     "name": "stdout",
     "output_type": "stream",
     "text": [
      "Epoch [48/80], Recon: 37.0999, KL: 13.3830, ELBO: 117.3981\n"
     ]
    },
    {
     "name": "stderr",
     "output_type": "stream",
     "text": [
      "Epoch 49/80: 100%|████████████████████████████████████████████████████████████| 11520/11520 [02:03<00:00, 93.53batch/s]\n"
     ]
    },
    {
     "name": "stdout",
     "output_type": "stream",
     "text": [
      "Epoch [49/80], Recon: 37.1686, KL: 13.3784, ELBO: 117.439\n"
     ]
    },
    {
     "name": "stderr",
     "output_type": "stream",
     "text": [
      "Epoch 50/80: 100%|████████████████████████████████████████████████████████████| 11520/11520 [02:04<00:00, 92.45batch/s]\n"
     ]
    },
    {
     "name": "stdout",
     "output_type": "stream",
     "text": [
      "Epoch [50/80], Recon: 37.1104, KL: 13.3915, ELBO: 117.4594\n"
     ]
    },
    {
     "name": "stderr",
     "output_type": "stream",
     "text": [
      "Epoch 51/80: 100%|████████████████████████████████████████████████████████████| 11520/11520 [02:03<00:00, 93.60batch/s]\n"
     ]
    },
    {
     "name": "stdout",
     "output_type": "stream",
     "text": [
      "Epoch [51/80], Recon: 37.1438, KL: 13.3778, ELBO: 117.4109\n"
     ]
    },
    {
     "name": "stderr",
     "output_type": "stream",
     "text": [
      "Epoch 52/80: 100%|████████████████████████████████████████████████████████████| 11520/11520 [02:00<00:00, 95.59batch/s]\n"
     ]
    },
    {
     "name": "stdout",
     "output_type": "stream",
     "text": [
      "Epoch [52/80], Recon: 37.0694, KL: 13.3741, ELBO: 117.3139\n"
     ]
    },
    {
     "name": "stderr",
     "output_type": "stream",
     "text": [
      "Epoch 53/80: 100%|████████████████████████████████████████████████████████████| 11520/11520 [02:06<00:00, 90.80batch/s]\n"
     ]
    },
    {
     "name": "stdout",
     "output_type": "stream",
     "text": [
      "Epoch [53/80], Recon: 37.0417, KL: 13.3826, ELBO: 117.3374\n"
     ]
    },
    {
     "name": "stderr",
     "output_type": "stream",
     "text": [
      "Epoch 54/80: 100%|████████████████████████████████████████████████████████████| 11520/11520 [02:03<00:00, 92.95batch/s]\n"
     ]
    },
    {
     "name": "stdout",
     "output_type": "stream",
     "text": [
      "Epoch [54/80], Recon: 37.1618, KL: 13.3648, ELBO: 117.3503\n"
     ]
    },
    {
     "name": "stderr",
     "output_type": "stream",
     "text": [
      "Epoch 55/80: 100%|████████████████████████████████████████████████████████████| 11520/11520 [02:07<00:00, 90.70batch/s]\n"
     ]
    },
    {
     "name": "stdout",
     "output_type": "stream",
     "text": [
      "Epoch [55/80], Recon: 36.9836, KL: 13.3766, ELBO: 117.2429\n"
     ]
    },
    {
     "name": "stderr",
     "output_type": "stream",
     "text": [
      "Epoch 56/80: 100%|████████████████████████████████████████████████████████████| 11520/11520 [02:02<00:00, 94.28batch/s]\n"
     ]
    },
    {
     "name": "stdout",
     "output_type": "stream",
     "text": [
      "Epoch [56/80], Recon: 37.3117, KL: 13.3693, ELBO: 117.5275\n"
     ]
    },
    {
     "name": "stderr",
     "output_type": "stream",
     "text": [
      "Epoch 57/80: 100%|████████████████████████████████████████████████████████████| 11520/11520 [02:04<00:00, 92.45batch/s]\n"
     ]
    },
    {
     "name": "stdout",
     "output_type": "stream",
     "text": [
      "Epoch [57/80], Recon: 37.0005, KL: 13.3660, ELBO: 117.1965\n"
     ]
    },
    {
     "name": "stderr",
     "output_type": "stream",
     "text": [
      "Epoch 58/80: 100%|████████████████████████████████████████████████████████████| 11520/11520 [02:06<00:00, 90.95batch/s]\n"
     ]
    },
    {
     "name": "stdout",
     "output_type": "stream",
     "text": [
      "Epoch [58/80], Recon: 37.1065, KL: 13.3644, ELBO: 117.2927\n"
     ]
    },
    {
     "name": "stderr",
     "output_type": "stream",
     "text": [
      "Epoch 59/80: 100%|████████████████████████████████████████████████████████████| 11520/11520 [02:00<00:00, 95.74batch/s]\n"
     ]
    },
    {
     "name": "stdout",
     "output_type": "stream",
     "text": [
      "Epoch [59/80], Recon: 37.0474, KL: 13.3667, ELBO: 117.2477\n"
     ]
    },
    {
     "name": "stderr",
     "output_type": "stream",
     "text": [
      "Epoch 60/80: 100%|████████████████████████████████████████████████████████████| 11520/11520 [02:06<00:00, 91.21batch/s]\n"
     ]
    },
    {
     "name": "stdout",
     "output_type": "stream",
     "text": [
      "Epoch [60/80], Recon: 37.0697, KL: 13.3715, ELBO: 117.2984\n"
     ]
    },
    {
     "name": "stderr",
     "output_type": "stream",
     "text": [
      "Epoch 61/80: 100%|████████████████████████████████████████████████████████████| 11520/11520 [02:01<00:00, 95.20batch/s]\n"
     ]
    },
    {
     "name": "stdout",
     "output_type": "stream",
     "text": [
      "Epoch [61/80], Recon: 37.0540, KL: 13.3636, ELBO: 117.2358\n"
     ]
    },
    {
     "name": "stderr",
     "output_type": "stream",
     "text": [
      "Epoch 62/80: 100%|████████████████████████████████████████████████████████████| 11520/11520 [02:03<00:00, 93.10batch/s]\n"
     ]
    },
    {
     "name": "stdout",
     "output_type": "stream",
     "text": [
      "Epoch [62/80], Recon: 37.1211, KL: 13.3735, ELBO: 117.3619\n"
     ]
    },
    {
     "name": "stderr",
     "output_type": "stream",
     "text": [
      "Epoch 63/80: 100%|████████████████████████████████████████████████████████████| 11520/11520 [02:02<00:00, 93.71batch/s]\n"
     ]
    },
    {
     "name": "stdout",
     "output_type": "stream",
     "text": [
      "Epoch [63/80], Recon: 36.9582, KL: 13.3666, ELBO: 117.1579\n"
     ]
    },
    {
     "name": "stderr",
     "output_type": "stream",
     "text": [
      "Epoch 64/80: 100%|████████████████████████████████████████████████████████████| 11520/11520 [02:00<00:00, 95.84batch/s]\n"
     ]
    },
    {
     "name": "stdout",
     "output_type": "stream",
     "text": [
      "Epoch [64/80], Recon: 37.2102, KL: 13.3599, ELBO: 117.3694\n"
     ]
    },
    {
     "name": "stderr",
     "output_type": "stream",
     "text": [
      "Epoch 65/80: 100%|████████████████████████████████████████████████████████████| 11520/11520 [02:06<00:00, 91.29batch/s]\n"
     ]
    },
    {
     "name": "stdout",
     "output_type": "stream",
     "text": [
      "Epoch [65/80], Recon: 36.9975, KL: 13.3554, ELBO: 117.1301\n"
     ]
    },
    {
     "name": "stderr",
     "output_type": "stream",
     "text": [
      "Epoch 66/80: 100%|████████████████████████████████████████████████████████████| 11520/11520 [02:00<00:00, 95.95batch/s]\n"
     ]
    },
    {
     "name": "stdout",
     "output_type": "stream",
     "text": [
      "Epoch [66/80], Recon: 37.0849, KL: 13.3621, ELBO: 117.2574\n"
     ]
    },
    {
     "name": "stderr",
     "output_type": "stream",
     "text": [
      "Epoch 67/80: 100%|████████████████████████████████████████████████████████████| 11520/11520 [02:00<00:00, 95.94batch/s]\n"
     ]
    },
    {
     "name": "stdout",
     "output_type": "stream",
     "text": [
      "Epoch [67/80], Recon: 37.0689, KL: 13.3602, ELBO: 117.2302\n"
     ]
    },
    {
     "name": "stderr",
     "output_type": "stream",
     "text": [
      "Epoch 68/80: 100%|████████████████████████████████████████████████████████████| 11520/11520 [02:06<00:00, 91.30batch/s]\n"
     ]
    },
    {
     "name": "stdout",
     "output_type": "stream",
     "text": [
      "Epoch [68/80], Recon: 37.0562, KL: 13.3597, ELBO: 117.2145\n"
     ]
    },
    {
     "name": "stderr",
     "output_type": "stream",
     "text": [
      "Epoch 69/80: 100%|████████████████████████████████████████████████████████████| 11520/11520 [01:59<00:00, 96.16batch/s]\n"
     ]
    },
    {
     "name": "stdout",
     "output_type": "stream",
     "text": [
      "Epoch [69/80], Recon: 37.0709, KL: 13.3537, ELBO: 117.1931\n"
     ]
    },
    {
     "name": "stderr",
     "output_type": "stream",
     "text": [
      "Epoch 70/80: 100%|████████████████████████████████████████████████████████████| 11520/11520 [02:07<00:00, 90.25batch/s]\n"
     ]
    },
    {
     "name": "stdout",
     "output_type": "stream",
     "text": [
      "Epoch [70/80], Recon: 36.9825, KL: 13.3582, ELBO: 117.1319\n"
     ]
    },
    {
     "name": "stderr",
     "output_type": "stream",
     "text": [
      "Epoch 71/80: 100%|████████████████████████████████████████████████████████████| 11520/11520 [02:00<00:00, 95.67batch/s]\n"
     ]
    },
    {
     "name": "stdout",
     "output_type": "stream",
     "text": [
      "Epoch [71/80], Recon: 36.9839, KL: 13.3544, ELBO: 117.1105\n"
     ]
    },
    {
     "name": "stderr",
     "output_type": "stream",
     "text": [
      "Epoch 72/80: 100%|████████████████████████████████████████████████████████████| 11520/11520 [02:04<00:00, 92.18batch/s]\n"
     ]
    },
    {
     "name": "stdout",
     "output_type": "stream",
     "text": [
      "Epoch [72/80], Recon: 36.9781, KL: 13.3616, ELBO: 117.1474\n"
     ]
    },
    {
     "name": "stderr",
     "output_type": "stream",
     "text": [
      "Epoch 73/80: 100%|████████████████████████████████████████████████████████████| 11520/11520 [02:01<00:00, 95.10batch/s]\n"
     ]
    },
    {
     "name": "stdout",
     "output_type": "stream",
     "text": [
      "Epoch [73/80], Recon: 37.0894, KL: 13.3563, ELBO: 117.2274\n"
     ]
    },
    {
     "name": "stderr",
     "output_type": "stream",
     "text": [
      "Epoch 74/80: 100%|████████████████████████████████████████████████████████████| 11520/11520 [02:00<00:00, 95.57batch/s]\n"
     ]
    },
    {
     "name": "stdout",
     "output_type": "stream",
     "text": [
      "Epoch [74/80], Recon: 37.0360, KL: 13.3535, ELBO: 117.1572\n"
     ]
    },
    {
     "name": "stderr",
     "output_type": "stream",
     "text": [
      "Epoch 75/80: 100%|████████████████████████████████████████████████████████████| 11520/11520 [02:04<00:00, 92.41batch/s]\n"
     ]
    },
    {
     "name": "stdout",
     "output_type": "stream",
     "text": [
      "Epoch [75/80], Recon: 37.0085, KL: 13.3576, ELBO: 117.1543\n"
     ]
    },
    {
     "name": "stderr",
     "output_type": "stream",
     "text": [
      "Epoch 76/80: 100%|████████████████████████████████████████████████████████████| 11520/11520 [01:59<00:00, 96.63batch/s]\n"
     ]
    },
    {
     "name": "stdout",
     "output_type": "stream",
     "text": [
      "Epoch [76/80], Recon: 37.0127, KL: 13.3577, ELBO: 117.1586\n"
     ]
    },
    {
     "name": "stderr",
     "output_type": "stream",
     "text": [
      "Epoch 77/80: 100%|████████████████████████████████████████████████████████████| 11520/11520 [02:03<00:00, 93.59batch/s]\n"
     ]
    },
    {
     "name": "stdout",
     "output_type": "stream",
     "text": [
      "Epoch [77/80], Recon: 37.0184, KL: 13.3553, ELBO: 117.1502\n"
     ]
    },
    {
     "name": "stderr",
     "output_type": "stream",
     "text": [
      "Epoch 78/80: 100%|████████████████████████████████████████████████████████████| 11520/11520 [02:01<00:00, 94.77batch/s]\n"
     ]
    },
    {
     "name": "stdout",
     "output_type": "stream",
     "text": [
      "Epoch [78/80], Recon: 37.0145, KL: 13.3571, ELBO: 117.1571\n"
     ]
    },
    {
     "name": "stderr",
     "output_type": "stream",
     "text": [
      "Epoch 79/80: 100%|████████████████████████████████████████████████████████████| 11520/11520 [02:01<00:00, 94.83batch/s]\n"
     ]
    },
    {
     "name": "stdout",
     "output_type": "stream",
     "text": [
      "Epoch [79/80], Recon: 37.0181, KL: 13.3478, ELBO: 117.1047\n"
     ]
    },
    {
     "name": "stderr",
     "output_type": "stream",
     "text": [
      "Epoch 80/80: 100%|████████████████████████████████████████████████████████████| 11520/11520 [02:03<00:00, 93.39batch/s]\n"
     ]
    },
    {
     "name": "stdout",
     "output_type": "stream",
     "text": [
      "Epoch [80/80], Recon: 36.9344, KL: 13.3475, ELBO: 117.0191\n",
      "\u001b[1m\u001b[34m\n",
      "Visualizing reconstructions for beta = 6:\u001b[0m\n"
     ]
    },
    {
     "data": {
      "image/png": "[encoded data removed]",
      "text/plain": [
       "<Figure size 1500x600 with 10 Axes>"
      ]
     },
     "metadata": {},
     "output_type": "display_data"
    },
    {
     "name": "stderr",
     "output_type": "stream",
     "text": [
      "Extracting Factors and Latents: 100%|███████████████████████████████████████████| 11520/11520 [00:57<00:00, 199.72it/s]\n"
     ]
    },
    {
     "name": "stdout",
     "output_type": "stream",
     "text": [
      "\u001b[1m\u001b[34m\n",
      "Computing disentangelement scores for beta = 6:\u001b[0m\n",
      "\u001b[1mIteration 1:\u001b[0m\n",
      "MIG score: 0.2108\n",
      "SAP score: 0.0976\n",
      "\n",
      "\u001b[1mIteration 2:\u001b[0m\n",
      "MIG score: 0.21\n",
      "SAP score: 0.0952\n",
      "\n",
      "\u001b[1mIteration 3:\u001b[0m\n",
      "MIG score: 0.2166\n",
      "SAP score: 0.0968\n",
      "\n",
      "\u001b[1mIteration 4:\u001b[0m\n",
      "MIG score: 0.1975\n",
      "SAP score: 0.0957\n",
      "\n",
      "\u001b[1mIteration 5:\u001b[0m\n",
      "MIG score: 0.2087\n",
      "SAP score: 0.0954\n",
      "\n",
      "\u001b[1mIteration 6:\u001b[0m\n",
      "MIG score: 0.2166\n",
      "SAP score: 0.0968\n",
      "\n",
      "\u001b[1mIteration 7:\u001b[0m\n",
      "MIG score: 0.2177\n",
      "SAP score: 0.0995\n",
      "\n",
      "\u001b[1mIteration 8:\u001b[0m\n",
      "MIG score: 0.203\n",
      "SAP score: 0.0961\n",
      "\n",
      "\u001b[1mIteration 9:\u001b[0m\n",
      "MIG score: 0.2103\n",
      "SAP score: 0.096\n",
      "\n",
      "\u001b[1mIteration 10:\u001b[0m\n",
      "MIG score: 0.2099\n",
      "SAP score: 0.0965\n",
      "\n",
      "Max MIG score is 0.2177 at iteration 7\n",
      "Max MI matrix:\n",
      "[[0.     0.     0.     0.     0.     0.     0.     0.     0.     0.    ]\n",
      " [0.0378 0.0798 0.0435 0.1268 0.0285 0.3606 0.4415 0.0259 0.0236 0.1854]\n",
      " [0.0061 0.0113 0.0483 0.0166 0.0035 0.0541 1.1455 0.0036 0.1537 0.053 ]\n",
      " [0.0544 0.0104 0.0107 0.0126 0.0426 0.0978 0.0118 0.0281 0.0068 0.0215]\n",
      " [0.285  0.0312 0.0454 0.0635 0.2417 0.0085 0.0136 0.4634 0.0146 0.0107]\n",
      " [0.3882 0.032  0.0174 0.0119 0.4002 0.0095 0.0186 0.2632 0.0383 0.0113]]\n",
      "\n",
      "Min MIG score is 0.1975 at iteration 4\n",
      "Min MI matrix:\n",
      "[[0.     0.     0.     0.     0.     0.     0.     0.     0.     0.    ]\n",
      " [0.0391 0.0703 0.0429 0.131  0.0284 0.362  0.3776 0.0255 0.0262 0.188 ]\n",
      " [0.006  0.0108 0.0475 0.0163 0.0034 0.0521 1.0958 0.0039 0.1624 0.0552]\n",
      " [0.0567 0.0105 0.01   0.0129 0.0424 0.0988 0.012  0.0268 0.0082 0.0212]\n",
      " [0.2785 0.0251 0.0434 0.0665 0.2427 0.0083 0.0112 0.4632 0.017  0.0108]\n",
      " [0.3896 0.0267 0.017  0.0119 0.3992 0.009  0.0143 0.2616 0.0433 0.0121]]\n",
      "\u001b[1m\u001b[31m\n",
      "Training with beta = 8:\u001b[0m\n"
     ]
    },
    {
     "name": "stderr",
     "output_type": "stream",
     "text": [
      "Epoch 1/80: 100%|█████████████████████████████████████████████████████████████| 11520/11520 [02:04<00:00, 92.36batch/s]\n"
     ]
    },
    {
     "name": "stdout",
     "output_type": "stream",
     "text": [
      "Epoch [1/80], Recon: 44.6959, KL: 12.3233, ELBO: 143.2827\n"
     ]
    },
    {
     "name": "stderr",
     "output_type": "stream",
     "text": [
      "Epoch 2/80: 100%|█████████████████████████████████████████████████████████████| 11520/11520 [02:05<00:00, 91.85batch/s]\n"
     ]
    },
    {
     "name": "stdout",
     "output_type": "stream",
     "text": [
      "Epoch [2/80], Recon: 45.8061, KL: 12.1701, ELBO: 143.1671\n"
     ]
    },
    {
     "name": "stderr",
     "output_type": "stream",
     "text": [
      "Epoch 3/80: 100%|█████████████████████████████████████████████████████████████| 11520/11520 [02:00<00:00, 95.55batch/s]\n"
     ]
    },
    {
     "name": "stdout",
     "output_type": "stream",
     "text": [
      "Epoch [3/80], Recon: 46.2151, KL: 12.1130, ELBO: 143.1194\n"
     ]
    },
    {
     "name": "stderr",
     "output_type": "stream",
     "text": [
      "Epoch 4/80: 100%|█████████████████████████████████████████████████████████████| 11520/11520 [02:04<00:00, 92.34batch/s]\n"
     ]
    },
    {
     "name": "stdout",
     "output_type": "stream",
     "text": [
      "Epoch [4/80], Recon: 46.5723, KL: 12.0553, ELBO: 143.0149\n"
     ]
    },
    {
     "name": "stderr",
     "output_type": "stream",
     "text": [
      "Epoch 5/80: 100%|█████████████████████████████████████████████████████████████| 11520/11520 [02:00<00:00, 95.37batch/s]\n"
     ]
    },
    {
     "name": "stdout",
     "output_type": "stream",
     "text": [
      "Epoch [5/80], Recon: 46.8135, KL: 12.0245, ELBO: 143.0097\n"
     ]
    },
    {
     "name": "stderr",
     "output_type": "stream",
     "text": [
      "Epoch 6/80: 100%|█████████████████████████████████████████████████████████████| 11520/11520 [02:02<00:00, 94.33batch/s]\n"
     ]
    },
    {
     "name": "stdout",
     "output_type": "stream",
     "text": [
      "Epoch [6/80], Recon: 47.1159, KL: 11.9968, ELBO: 143.0904\n"
     ]
    },
    {
     "name": "stderr",
     "output_type": "stream",
     "text": [
      "Epoch 7/80: 100%|█████████████████████████████████████████████████████████████| 11520/11520 [02:03<00:00, 93.41batch/s]\n"
     ]
    },
    {
     "name": "stdout",
     "output_type": "stream",
     "text": [
      "Epoch [7/80], Recon: 47.2210, KL: 11.9707, ELBO: 142.9864\n"
     ]
    },
    {
     "name": "stderr",
     "output_type": "stream",
     "text": [
      "Epoch 8/80: 100%|█████████████████████████████████████████████████████████████| 11520/11520 [01:59<00:00, 96.10batch/s]\n"
     ]
    },
    {
     "name": "stdout",
     "output_type": "stream",
     "text": [
      "Epoch [8/80], Recon: 47.3867, KL: 11.9564, ELBO: 143.0377\n"
     ]
    },
    {
     "name": "stderr",
     "output_type": "stream",
     "text": [
      "Epoch 9/80: 100%|█████████████████████████████████████████████████████████████| 11520/11520 [02:05<00:00, 92.01batch/s]\n"
     ]
    },
    {
     "name": "stdout",
     "output_type": "stream",
     "text": [
      "Epoch [9/80], Recon: 47.5164, KL: 11.9347, ELBO: 142.9937\n"
     ]
    },
    {
     "name": "stderr",
     "output_type": "stream",
     "text": [
      "Epoch 10/80: 100%|████████████████████████████████████████████████████████████| 11520/11520 [02:00<00:00, 95.49batch/s]\n"
     ]
    },
    {
     "name": "stdout",
     "output_type": "stream",
     "text": [
      "Epoch [10/80], Recon: 47.5317, KL: 11.9260, ELBO: 142.9397\n"
     ]
    },
    {
     "name": "stderr",
     "output_type": "stream",
     "text": [
      "Epoch 11/80: 100%|████████████████████████████████████████████████████████████| 11520/11520 [02:02<00:00, 93.81batch/s]\n"
     ]
    },
    {
     "name": "stdout",
     "output_type": "stream",
     "text": [
      "Epoch [11/80], Recon: 47.7273, KL: 11.9139, ELBO: 143.0384\n"
     ]
    },
    {
     "name": "stderr",
     "output_type": "stream",
     "text": [
      "Epoch 12/80: 100%|████████████████████████████████████████████████████████████| 11520/11520 [02:06<00:00, 90.73batch/s]\n"
     ]
    },
    {
     "name": "stdout",
     "output_type": "stream",
     "text": [
      "Epoch [12/80], Recon: 47.7293, KL: 11.9041, ELBO: 142.9619\n"
     ]
    },
    {
     "name": "stderr",
     "output_type": "stream",
     "text": [
      "Epoch 13/80: 100%|████████████████████████████████████████████████████████████| 11520/11520 [02:01<00:00, 94.80batch/s]\n"
     ]
    },
    {
     "name": "stdout",
     "output_type": "stream",
     "text": [
      "Epoch [13/80], Recon: 47.7393, KL: 11.8964, ELBO: 142.9108\n"
     ]
    },
    {
     "name": "stderr",
     "output_type": "stream",
     "text": [
      "Epoch 14/80: 100%|████████████████████████████████████████████████████████████| 11520/11520 [02:09<00:00, 88.91batch/s]\n"
     ]
    },
    {
     "name": "stdout",
     "output_type": "stream",
     "text": [
      "Epoch [14/80], Recon: 47.9282, KL: 11.8759, ELBO: 142.9353\n"
     ]
    },
    {
     "name": "stderr",
     "output_type": "stream",
     "text": [
      "Epoch 15/80: 100%|████████████████████████████████████████████████████████████| 11520/11520 [02:03<00:00, 93.34batch/s]\n"
     ]
    },
    {
     "name": "stdout",
     "output_type": "stream",
     "text": [
      "Epoch [15/80], Recon: 47.8261, KL: 11.8643, ELBO: 142.7405\n"
     ]
    },
    {
     "name": "stderr",
     "output_type": "stream",
     "text": [
      "Epoch 16/80: 100%|████████████████████████████████████████████████████████████| 11520/11520 [02:05<00:00, 91.70batch/s]\n"
     ]
    },
    {
     "name": "stdout",
     "output_type": "stream",
     "text": [
      "Epoch [16/80], Recon: 47.9673, KL: 11.8534, ELBO: 142.7948\n"
     ]
    },
    {
     "name": "stderr",
     "output_type": "stream",
     "text": [
      "Epoch 17/80: 100%|████████████████████████████████████████████████████████████| 11520/11520 [02:02<00:00, 93.71batch/s]\n"
     ]
    },
    {
     "name": "stdout",
     "output_type": "stream",
     "text": [
      "Epoch [17/80], Recon: 48.0289, KL: 11.8477, ELBO: 142.8104\n"
     ]
    },
    {
     "name": "stderr",
     "output_type": "stream",
     "text": [
      "Epoch 18/80: 100%|████████████████████████████████████████████████████████████| 11520/11520 [02:00<00:00, 95.27batch/s]\n"
     ]
    },
    {
     "name": "stdout",
     "output_type": "stream",
     "text": [
      "Epoch [18/80], Recon: 48.0939, KL: 11.8471, ELBO: 142.8709\n"
     ]
    },
    {
     "name": "stderr",
     "output_type": "stream",
     "text": [
      "Epoch 19/80: 100%|████████████████████████████████████████████████████████████| 11520/11520 [02:06<00:00, 91.34batch/s]\n"
     ]
    },
    {
     "name": "stdout",
     "output_type": "stream",
     "text": [
      "Epoch [19/80], Recon: 48.0121, KL: 11.8472, ELBO: 142.7894\n"
     ]
    },
    {
     "name": "stderr",
     "output_type": "stream",
     "text": [
      "Epoch 20/80: 100%|████████████████████████████████████████████████████████████| 11520/11520 [02:00<00:00, 95.70batch/s]\n"
     ]
    },
    {
     "name": "stdout",
     "output_type": "stream",
     "text": [
      "Epoch [20/80], Recon: 48.1619, KL: 11.8393, ELBO: 142.8765\n"
     ]
    },
    {
     "name": "stderr",
     "output_type": "stream",
     "text": [
      "Epoch 21/80: 100%|████████████████████████████████████████████████████████████| 11520/11520 [02:03<00:00, 93.37batch/s]\n"
     ]
    },
    {
     "name": "stdout",
     "output_type": "stream",
     "text": [
      "Epoch [21/80], Recon: 48.2593, KL: 11.8317, ELBO: 142.9129\n"
     ]
    },
    {
     "name": "stderr",
     "output_type": "stream",
     "text": [
      "Epoch 22/80: 100%|████████████████████████████████████████████████████████████| 11520/11520 [02:03<00:00, 93.23batch/s]\n"
     ]
    },
    {
     "name": "stdout",
     "output_type": "stream",
     "text": [
      "Epoch [22/80], Recon: 48.1225, KL: 11.8264, ELBO: 142.7338\n"
     ]
    },
    {
     "name": "stderr",
     "output_type": "stream",
     "text": [
      "Epoch 23/80: 100%|████████████████████████████████████████████████████████████| 11520/11520 [02:02<00:00, 93.72batch/s]\n"
     ]
    },
    {
     "name": "stdout",
     "output_type": "stream",
     "text": [
      "Epoch [23/80], Recon: 48.4140, KL: 11.8140, ELBO: 142.926\n"
     ]
    },
    {
     "name": "stderr",
     "output_type": "stream",
     "text": [
      "Epoch 24/80: 100%|████████████████████████████████████████████████████████████| 11520/11520 [02:05<00:00, 91.87batch/s]\n"
     ]
    },
    {
     "name": "stdout",
     "output_type": "stream",
     "text": [
      "Epoch [24/80], Recon: 48.3136, KL: 11.8109, ELBO: 142.8005\n"
     ]
    },
    {
     "name": "stderr",
     "output_type": "stream",
     "text": [
      "Epoch 25/80: 100%|████████████████████████████████████████████████████████████| 11520/11520 [02:00<00:00, 95.57batch/s]\n"
     ]
    },
    {
     "name": "stdout",
     "output_type": "stream",
     "text": [
      "Epoch [25/80], Recon: 48.2574, KL: 11.8053, ELBO: 142.6995\n"
     ]
    },
    {
     "name": "stderr",
     "output_type": "stream",
     "text": [
      "Epoch 26/80: 100%|████████████████████████████████████████████████████████████| 11520/11520 [02:06<00:00, 90.76batch/s]\n"
     ]
    },
    {
     "name": "stdout",
     "output_type": "stream",
     "text": [
      "Epoch [26/80], Recon: 48.4720, KL: 11.8033, ELBO: 142.8988\n"
     ]
    },
    {
     "name": "stderr",
     "output_type": "stream",
     "text": [
      "Epoch 27/80: 100%|████████████████████████████████████████████████████████████| 11520/11520 [02:00<00:00, 95.44batch/s]\n"
     ]
    },
    {
     "name": "stdout",
     "output_type": "stream",
     "text": [
      "Epoch [27/80], Recon: 48.2638, KL: 11.7994, ELBO: 142.6591\n"
     ]
    },
    {
     "name": "stderr",
     "output_type": "stream",
     "text": [
      "Epoch 28/80: 100%|████████████████████████████████████████████████████████████| 11520/11520 [02:03<00:00, 93.33batch/s]\n"
     ]
    },
    {
     "name": "stdout",
     "output_type": "stream",
     "text": [
      "Epoch [28/80], Recon: 48.3283, KL: 11.8007, ELBO: 142.7341\n"
     ]
    },
    {
     "name": "stderr",
     "output_type": "stream",
     "text": [
      "Epoch 29/80: 100%|████████████████████████████████████████████████████████████| 11520/11520 [02:07<00:00, 90.33batch/s]\n"
     ]
    },
    {
     "name": "stdout",
     "output_type": "stream",
     "text": [
      "Epoch [29/80], Recon: 48.3544, KL: 11.8004, ELBO: 142.7575\n"
     ]
    },
    {
     "name": "stderr",
     "output_type": "stream",
     "text": [
      "Epoch 30/80: 100%|████████████████████████████████████████████████████████████| 11520/11520 [02:01<00:00, 95.16batch/s]\n"
     ]
    },
    {
     "name": "stdout",
     "output_type": "stream",
     "text": [
      "Epoch [30/80], Recon: 48.4174, KL: 11.7879, ELBO: 142.7206\n"
     ]
    },
    {
     "name": "stderr",
     "output_type": "stream",
     "text": [
      "Epoch 31/80: 100%|████████████████████████████████████████████████████████████| 11520/11520 [02:05<00:00, 91.95batch/s]\n"
     ]
    },
    {
     "name": "stdout",
     "output_type": "stream",
     "text": [
      "Epoch [31/80], Recon: 48.3328, KL: 11.7850, ELBO: 142.6126\n"
     ]
    },
    {
     "name": "stderr",
     "output_type": "stream",
     "text": [
      "Epoch 32/80: 100%|████████████████████████████████████████████████████████████| 11520/11520 [02:05<00:00, 92.01batch/s]\n"
     ]
    },
    {
     "name": "stdout",
     "output_type": "stream",
     "text": [
      "Epoch [32/80], Recon: 48.2514, KL: 11.7900, ELBO: 142.5717\n"
     ]
    },
    {
     "name": "stderr",
     "output_type": "stream",
     "text": [
      "Epoch 33/80: 100%|████████████████████████████████████████████████████████████| 11520/11520 [02:06<00:00, 90.95batch/s]\n"
     ]
    },
    {
     "name": "stdout",
     "output_type": "stream",
     "text": [
      "Epoch [33/80], Recon: 48.4063, KL: 11.7886, ELBO: 142.7151\n"
     ]
    },
    {
     "name": "stderr",
     "output_type": "stream",
     "text": [
      "Epoch 34/80: 100%|████████████████████████████████████████████████████████████| 11520/11520 [02:02<00:00, 94.26batch/s]\n"
     ]
    },
    {
     "name": "stdout",
     "output_type": "stream",
     "text": [
      "Epoch [34/80], Recon: 48.5059, KL: 11.7789, ELBO: 142.7373\n"
     ]
    },
    {
     "name": "stderr",
     "output_type": "stream",
     "text": [
      "Epoch 35/80: 100%|████████████████████████████████████████████████████████████| 11520/11520 [02:00<00:00, 95.23batch/s]\n"
     ]
    },
    {
     "name": "stdout",
     "output_type": "stream",
     "text": [
      "Epoch [35/80], Recon: 48.4156, KL: 11.7814, ELBO: 142.6664\n"
     ]
    },
    {
     "name": "stderr",
     "output_type": "stream",
     "text": [
      "Epoch 36/80: 100%|████████████████████████████████████████████████████████████| 11520/11520 [02:05<00:00, 91.53batch/s]\n"
     ]
    },
    {
     "name": "stdout",
     "output_type": "stream",
     "text": [
      "Epoch [36/80], Recon: 48.4043, KL: 11.7752, ELBO: 142.6061\n"
     ]
    },
    {
     "name": "stderr",
     "output_type": "stream",
     "text": [
      "Epoch 37/80: 100%|████████████████████████████████████████████████████████████| 11520/11520 [02:00<00:00, 95.65batch/s]\n"
     ]
    },
    {
     "name": "stdout",
     "output_type": "stream",
     "text": [
      "Epoch [37/80], Recon: 48.5937, KL: 11.7769, ELBO: 142.8086\n"
     ]
    },
    {
     "name": "stderr",
     "output_type": "stream",
     "text": [
      "Epoch 38/80: 100%|████████████████████████████████████████████████████████████| 11520/11520 [02:05<00:00, 91.77batch/s]\n"
     ]
    },
    {
     "name": "stdout",
     "output_type": "stream",
     "text": [
      "Epoch [38/80], Recon: 48.5395, KL: 11.7714, ELBO: 142.7105\n"
     ]
    },
    {
     "name": "stderr",
     "output_type": "stream",
     "text": [
      "Epoch 39/80: 100%|████████████████████████████████████████████████████████████| 11520/11520 [02:01<00:00, 94.61batch/s]\n"
     ]
    },
    {
     "name": "stdout",
     "output_type": "stream",
     "text": [
      "Epoch [39/80], Recon: 48.4398, KL: 11.7714, ELBO: 142.6114\n"
     ]
    },
    {
     "name": "stderr",
     "output_type": "stream",
     "text": [
      "Epoch 40/80: 100%|████████████████████████████████████████████████████████████| 11520/11520 [02:01<00:00, 94.98batch/s]\n"
     ]
    },
    {
     "name": "stdout",
     "output_type": "stream",
     "text": [
      "Epoch [40/80], Recon: 48.5667, KL: 11.7663, ELBO: 142.6975\n"
     ]
    },
    {
     "name": "stderr",
     "output_type": "stream",
     "text": [
      "Epoch 41/80: 100%|████████████████████████████████████████████████████████████| 11520/11520 [02:06<00:00, 91.09batch/s]\n"
     ]
    },
    {
     "name": "stdout",
     "output_type": "stream",
     "text": [
      "Epoch [41/80], Recon: 48.4533, KL: 11.7597, ELBO: 142.5307\n"
     ]
    },
    {
     "name": "stderr",
     "output_type": "stream",
     "text": [
      "Epoch 42/80: 100%|████████████████████████████████████████████████████████████| 11520/11520 [02:01<00:00, 95.13batch/s]\n"
     ]
    },
    {
     "name": "stdout",
     "output_type": "stream",
     "text": [
      "Epoch [42/80], Recon: 48.4705, KL: 11.7642, ELBO: 142.5845\n"
     ]
    },
    {
     "name": "stderr",
     "output_type": "stream",
     "text": [
      "Epoch 43/80: 100%|████████████████████████████████████████████████████████████| 11520/11520 [02:08<00:00, 89.56batch/s]\n"
     ]
    },
    {
     "name": "stdout",
     "output_type": "stream",
     "text": [
      "Epoch [43/80], Recon: 48.4611, KL: 11.7713, ELBO: 142.6314\n"
     ]
    },
    {
     "name": "stderr",
     "output_type": "stream",
     "text": [
      "Epoch 44/80: 100%|████████████████████████████████████████████████████████████| 11520/11520 [02:04<00:00, 92.34batch/s]\n"
     ]
    },
    {
     "name": "stdout",
     "output_type": "stream",
     "text": [
      "Epoch [44/80], Recon: 48.4052, KL: 11.7583, ELBO: 142.4716\n"
     ]
    },
    {
     "name": "stderr",
     "output_type": "stream",
     "text": [
      "Epoch 45/80: 100%|████████████████████████████████████████████████████████████| 11520/11520 [02:03<00:00, 93.05batch/s]\n"
     ]
    },
    {
     "name": "stdout",
     "output_type": "stream",
     "text": [
      "Epoch [45/80], Recon: 48.5870, KL: 11.7584, ELBO: 142.6545\n"
     ]
    },
    {
     "name": "stderr",
     "output_type": "stream",
     "text": [
      "Epoch 46/80: 100%|████████████████████████████████████████████████████████████| 11520/11520 [02:03<00:00, 93.65batch/s]\n"
     ]
    },
    {
     "name": "stdout",
     "output_type": "stream",
     "text": [
      "Epoch [46/80], Recon: 48.5519, KL: 11.7585, ELBO: 142.62\n"
     ]
    },
    {
     "name": "stderr",
     "output_type": "stream",
     "text": [
      "Epoch 47/80: 100%|████████████████████████████████████████████████████████████| 11520/11520 [02:00<00:00, 95.78batch/s]\n"
     ]
    },
    {
     "name": "stdout",
     "output_type": "stream",
     "text": [
      "Epoch [47/80], Recon: 48.4331, KL: 11.7535, ELBO: 142.4614\n"
     ]
    },
    {
     "name": "stderr",
     "output_type": "stream",
     "text": [
      "Epoch 48/80: 100%|████████████████████████████████████████████████████████████| 11520/11520 [02:06<00:00, 90.71batch/s]\n"
     ]
    },
    {
     "name": "stdout",
     "output_type": "stream",
     "text": [
      "Epoch [48/80], Recon: 48.5456, KL: 11.7541, ELBO: 142.5783\n"
     ]
    },
    {
     "name": "stderr",
     "output_type": "stream",
     "text": [
      "Epoch 49/80: 100%|████████████████████████████████████████████████████████████| 11520/11520 [02:00<00:00, 95.82batch/s]\n"
     ]
    },
    {
     "name": "stdout",
     "output_type": "stream",
     "text": [
      "Epoch [49/80], Recon: 48.5968, KL: 11.7568, ELBO: 142.651\n"
     ]
    },
    {
     "name": "stderr",
     "output_type": "stream",
     "text": [
      "Epoch 50/80: 100%|████████████████████████████████████████████████████████████| 11520/11520 [02:03<00:00, 93.33batch/s]\n"
     ]
    },
    {
     "name": "stdout",
     "output_type": "stream",
     "text": [
      "Epoch [50/80], Recon: 48.3717, KL: 11.7597, ELBO: 142.4497\n"
     ]
    },
    {
     "name": "stderr",
     "output_type": "stream",
     "text": [
      "Epoch 51/80: 100%|████████████████████████████████████████████████████████████| 11520/11520 [02:05<00:00, 91.66batch/s]\n"
     ]
    },
    {
     "name": "stdout",
     "output_type": "stream",
     "text": [
      "Epoch [51/80], Recon: 48.6428, KL: 11.7416, ELBO: 142.5752\n"
     ]
    },
    {
     "name": "stderr",
     "output_type": "stream",
     "text": [
      "Epoch 52/80: 100%|████████████████████████████████████████████████████████████| 11520/11520 [02:02<00:00, 93.90batch/s]\n"
     ]
    },
    {
     "name": "stdout",
     "output_type": "stream",
     "text": [
      "Epoch [52/80], Recon: 48.5392, KL: 11.7481, ELBO: 142.5239\n"
     ]
    },
    {
     "name": "stderr",
     "output_type": "stream",
     "text": [
      "Epoch 53/80: 100%|████████████████████████████████████████████████████████████| 11520/11520 [02:06<00:00, 90.71batch/s]\n"
     ]
    },
    {
     "name": "stdout",
     "output_type": "stream",
     "text": [
      "Epoch [53/80], Recon: 48.5742, KL: 11.7495, ELBO: 142.5701\n"
     ]
    },
    {
     "name": "stderr",
     "output_type": "stream",
     "text": [
      "Epoch 54/80: 100%|████████████████████████████████████████████████████████████| 11520/11520 [02:05<00:00, 91.81batch/s]\n"
     ]
    },
    {
     "name": "stdout",
     "output_type": "stream",
     "text": [
      "Epoch [54/80], Recon: 48.5355, KL: 11.7436, ELBO: 142.4846\n"
     ]
    },
    {
     "name": "stderr",
     "output_type": "stream",
     "text": [
      "Epoch 55/80: 100%|████████████████████████████████████████████████████████████| 11520/11520 [02:07<00:00, 90.40batch/s]\n"
     ]
    },
    {
     "name": "stdout",
     "output_type": "stream",
     "text": [
      "Epoch [55/80], Recon: 48.5437, KL: 11.7486, ELBO: 142.5329\n"
     ]
    },
    {
     "name": "stderr",
     "output_type": "stream",
     "text": [
      "Epoch 56/80: 100%|████████████████████████████████████████████████████████████| 11520/11520 [02:02<00:00, 93.95batch/s]\n"
     ]
    },
    {
     "name": "stdout",
     "output_type": "stream",
     "text": [
      "Epoch [56/80], Recon: 48.5606, KL: 11.7514, ELBO: 142.5718\n"
     ]
    },
    {
     "name": "stderr",
     "output_type": "stream",
     "text": [
      "Epoch 57/80: 100%|████████████████████████████████████████████████████████████| 11520/11520 [02:04<00:00, 92.23batch/s]\n"
     ]
    },
    {
     "name": "stdout",
     "output_type": "stream",
     "text": [
      "Epoch [57/80], Recon: 48.7357, KL: 11.7376, ELBO: 142.6368\n"
     ]
    },
    {
     "name": "stderr",
     "output_type": "stream",
     "text": [
      "Epoch 58/80: 100%|████████████████████████████████████████████████████████████| 11520/11520 [02:08<00:00, 89.49batch/s]\n"
     ]
    },
    {
     "name": "stdout",
     "output_type": "stream",
     "text": [
      "Epoch [58/80], Recon: 48.4430, KL: 11.7472, ELBO: 142.421\n"
     ]
    },
    {
     "name": "stderr",
     "output_type": "stream",
     "text": [
      "Epoch 59/80: 100%|████████████████████████████████████████████████████████████| 11520/11520 [02:02<00:00, 93.86batch/s]\n"
     ]
    },
    {
     "name": "stdout",
     "output_type": "stream",
     "text": [
      "Epoch [59/80], Recon: 48.4444, KL: 11.7447, ELBO: 142.4023\n"
     ]
    },
    {
     "name": "stderr",
     "output_type": "stream",
     "text": [
      "Epoch 60/80: 100%|████████████████████████████████████████████████████████████| 11520/11520 [02:07<00:00, 90.08batch/s]\n"
     ]
    },
    {
     "name": "stdout",
     "output_type": "stream",
     "text": [
      "Epoch [60/80], Recon: 48.4589, KL: 11.7403, ELBO: 142.3816\n"
     ]
    },
    {
     "name": "stderr",
     "output_type": "stream",
     "text": [
      "Epoch 61/80: 100%|████████████████████████████████████████████████████████████| 11520/11520 [02:03<00:00, 93.19batch/s]\n"
     ]
    },
    {
     "name": "stdout",
     "output_type": "stream",
     "text": [
      "Epoch [61/80], Recon: 48.4496, KL: 11.7387, ELBO: 142.3591\n"
     ]
    },
    {
     "name": "stderr",
     "output_type": "stream",
     "text": [
      "Epoch 62/80: 100%|████████████████████████████████████████████████████████████| 11520/11520 [02:05<00:00, 92.14batch/s]\n"
     ]
    },
    {
     "name": "stdout",
     "output_type": "stream",
     "text": [
      "Epoch [62/80], Recon: 48.6745, KL: 11.7352, ELBO: 142.5565\n"
     ]
    },
    {
     "name": "stderr",
     "output_type": "stream",
     "text": [
      "Epoch 63/80: 100%|████████████████████████████████████████████████████████████| 11520/11520 [02:02<00:00, 94.02batch/s]\n"
     ]
    },
    {
     "name": "stdout",
     "output_type": "stream",
     "text": [
      "Epoch [63/80], Recon: 48.4650, KL: 11.7360, ELBO: 142.3532\n"
     ]
    },
    {
     "name": "stderr",
     "output_type": "stream",
     "text": [
      "Epoch 64/80: 100%|████████████████████████████████████████████████████████████| 11520/11520 [02:01<00:00, 94.52batch/s]\n"
     ]
    },
    {
     "name": "stdout",
     "output_type": "stream",
     "text": [
      "Epoch [64/80], Recon: 48.4995, KL: 11.7408, ELBO: 142.4261\n"
     ]
    },
    {
     "name": "stderr",
     "output_type": "stream",
     "text": [
      "Epoch 65/80: 100%|████████████████████████████████████████████████████████████| 11520/11520 [02:06<00:00, 91.32batch/s]\n"
     ]
    },
    {
     "name": "stdout",
     "output_type": "stream",
     "text": [
      "Epoch [65/80], Recon: 48.4068, KL: 11.7410, ELBO: 142.3349\n"
     ]
    },
    {
     "name": "stderr",
     "output_type": "stream",
     "text": [
      "Epoch 66/80: 100%|████████████████████████████████████████████████████████████| 11520/11520 [02:00<00:00, 95.32batch/s]\n"
     ]
    },
    {
     "name": "stdout",
     "output_type": "stream",
     "text": [
      "Epoch [66/80], Recon: 48.4144, KL: 11.7438, ELBO: 142.3651\n"
     ]
    },
    {
     "name": "stderr",
     "output_type": "stream",
     "text": [
      "Epoch 67/80: 100%|████████████████████████████████████████████████████████████| 11520/11520 [02:06<00:00, 91.23batch/s]\n"
     ]
    },
    {
     "name": "stdout",
     "output_type": "stream",
     "text": [
      "Epoch [67/80], Recon: 48.4801, KL: 11.7343, ELBO: 142.3546\n"
     ]
    },
    {
     "name": "stderr",
     "output_type": "stream",
     "text": [
      "Epoch 68/80: 100%|████████████████████████████████████████████████████████████| 11520/11520 [02:04<00:00, 92.80batch/s]\n"
     ]
    },
    {
     "name": "stdout",
     "output_type": "stream",
     "text": [
      "Epoch [68/80], Recon: 48.4717, KL: 11.7368, ELBO: 142.3665\n"
     ]
    },
    {
     "name": "stderr",
     "output_type": "stream",
     "text": [
      "Epoch 69/80: 100%|████████████████████████████████████████████████████████████| 11520/11520 [02:05<00:00, 91.70batch/s]\n"
     ]
    },
    {
     "name": "stdout",
     "output_type": "stream",
     "text": [
      "Epoch [69/80], Recon: 48.6124, KL: 11.7304, ELBO: 142.4553\n"
     ]
    },
    {
     "name": "stderr",
     "output_type": "stream",
     "text": [
      "Epoch 70/80: 100%|████████████████████████████████████████████████████████████| 11520/11520 [02:06<00:00, 90.96batch/s]\n"
     ]
    },
    {
     "name": "stdout",
     "output_type": "stream",
     "text": [
      "Epoch [70/80], Recon: 48.6439, KL: 11.7292, ELBO: 142.4777\n"
     ]
    },
    {
     "name": "stderr",
     "output_type": "stream",
     "text": [
      "Epoch 71/80: 100%|████████████████████████████████████████████████████████████| 11520/11520 [02:06<00:00, 91.22batch/s]\n"
     ]
    },
    {
     "name": "stdout",
     "output_type": "stream",
     "text": [
      "Epoch [71/80], Recon: 48.5888, KL: 11.7266, ELBO: 142.4014\n"
     ]
    },
    {
     "name": "stderr",
     "output_type": "stream",
     "text": [
      "Epoch 72/80: 100%|████████████████████████████████████████████████████████████| 11520/11520 [02:09<00:00, 89.03batch/s]\n"
     ]
    },
    {
     "name": "stdout",
     "output_type": "stream",
     "text": [
      "Epoch [72/80], Recon: 48.4793, KL: 11.7385, ELBO: 142.3875\n"
     ]
    },
    {
     "name": "stderr",
     "output_type": "stream",
     "text": [
      "Epoch 73/80: 100%|████████████████████████████████████████████████████████████| 11520/11520 [02:05<00:00, 91.81batch/s]\n"
     ]
    },
    {
     "name": "stdout",
     "output_type": "stream",
     "text": [
      "Epoch [73/80], Recon: 48.5243, KL: 11.7351, ELBO: 142.405\n"
     ]
    },
    {
     "name": "stderr",
     "output_type": "stream",
     "text": [
      "Epoch 74/80: 100%|████████████████████████████████████████████████████████████| 11520/11520 [02:06<00:00, 91.11batch/s]\n"
     ]
    },
    {
     "name": "stdout",
     "output_type": "stream",
     "text": [
      "Epoch [74/80], Recon: 48.5766, KL: 11.7293, ELBO: 142.4108\n"
     ]
    },
    {
     "name": "stderr",
     "output_type": "stream",
     "text": [
      "Epoch 75/80: 100%|████████████████████████████████████████████████████████████| 11520/11520 [02:02<00:00, 93.72batch/s]\n"
     ]
    },
    {
     "name": "stdout",
     "output_type": "stream",
     "text": [
      "Epoch [75/80], Recon: 48.5621, KL: 11.7243, ELBO: 142.3568\n"
     ]
    },
    {
     "name": "stderr",
     "output_type": "stream",
     "text": [
      "Epoch 76/80: 100%|████████████████████████████████████████████████████████████| 11520/11520 [02:02<00:00, 94.16batch/s]\n"
     ]
    },
    {
     "name": "stdout",
     "output_type": "stream",
     "text": [
      "Epoch [76/80], Recon: 48.4893, KL: 11.7349, ELBO: 142.3685\n"
     ]
    },
    {
     "name": "stderr",
     "output_type": "stream",
     "text": [
      "Epoch 77/80: 100%|████████████████████████████████████████████████████████████| 11520/11520 [02:05<00:00, 91.48batch/s]\n"
     ]
    },
    {
     "name": "stdout",
     "output_type": "stream",
     "text": [
      "Epoch [77/80], Recon: 48.4570, KL: 11.7322, ELBO: 142.3148\n"
     ]
    },
    {
     "name": "stderr",
     "output_type": "stream",
     "text": [
      "Epoch 78/80: 100%|████████████████████████████████████████████████████████████| 11520/11520 [02:00<00:00, 95.43batch/s]\n"
     ]
    },
    {
     "name": "stdout",
     "output_type": "stream",
     "text": [
      "Epoch [78/80], Recon: 48.5634, KL: 11.7233, ELBO: 142.3501\n"
     ]
    },
    {
     "name": "stderr",
     "output_type": "stream",
     "text": [
      "Epoch 79/80: 100%|████████████████████████████████████████████████████████████| 11520/11520 [02:04<00:00, 92.50batch/s]\n"
     ]
    },
    {
     "name": "stdout",
     "output_type": "stream",
     "text": [
      "Epoch [79/80], Recon: 48.4607, KL: 11.7264, ELBO: 142.2719\n"
     ]
    },
    {
     "name": "stderr",
     "output_type": "stream",
     "text": [
      "Epoch 80/80: 100%|████████████████████████████████████████████████████████████| 11520/11520 [02:04<00:00, 92.52batch/s]\n"
     ]
    },
    {
     "name": "stdout",
     "output_type": "stream",
     "text": [
      "Epoch [80/80], Recon: 48.5391, KL: 11.7252, ELBO: 142.3411\n",
      "\u001b[1m\u001b[34m\n",
      "Visualizing reconstructions for beta = 8:\u001b[0m\n"
     ]
    },
    {
     "data": {
      "image/png": "[encoded data removed]",
      "text/plain": [
       "<Figure size 1500x600 with 10 Axes>"
      ]
     },
     "metadata": {},
     "output_type": "display_data"
    },
    {
     "name": "stderr",
     "output_type": "stream",
     "text": [
      "Extracting Factors and Latents: 100%|███████████████████████████████████████████| 11520/11520 [00:57<00:00, 200.33it/s]\n"
     ]
    },
    {
     "name": "stdout",
     "output_type": "stream",
     "text": [
      "\u001b[1m\u001b[34m\n",
      "Computing disentangelement scores for beta = 8:\u001b[0m\n",
      "\u001b[1mIteration 1:\u001b[0m\n",
      "MIG score: 0.2174\n",
      "SAP score: 0.0982\n",
      "\n",
      "\u001b[1mIteration 2:\u001b[0m\n",
      "MIG score: 0.2172\n",
      "SAP score: 0.097\n",
      "\n",
      "\u001b[1mIteration 3:\u001b[0m\n",
      "MIG score: 0.2141\n",
      "SAP score: 0.0982\n",
      "\n",
      "\u001b[1mIteration 4:\u001b[0m\n",
      "MIG score: 0.2101\n",
      "SAP score: 0.0977\n",
      "\n",
      "\u001b[1mIteration 5:\u001b[0m\n",
      "MIG score: 0.2128\n",
      "SAP score: 0.0989\n",
      "\n",
      "\u001b[1mIteration 6:\u001b[0m\n",
      "MIG score: 0.2167\n",
      "SAP score: 0.097\n",
      "\n",
      "\u001b[1mIteration 7:\u001b[0m\n",
      "MIG score: 0.2122\n",
      "SAP score: 0.0998\n",
      "\n",
      "\u001b[1mIteration 8:\u001b[0m\n",
      "MIG score: 0.2177\n",
      "SAP score: 0.0993\n",
      "\n",
      "\u001b[1mIteration 9:\u001b[0m\n",
      "MIG score: 0.2113\n",
      "SAP score: 0.0976\n",
      "\n",
      "\u001b[1mIteration 10:\u001b[0m\n",
      "MIG score: 0.2203\n",
      "SAP score: 0.0986\n",
      "\n",
      "Max MIG score is 0.2203 at iteration 10\n",
      "Max MI matrix:\n",
      "[[0.     0.     0.     0.     0.     0.     0.     0.     0.     0.    ]\n",
      " [0.0391 0.022  0.0601 0.0446 0.0282 0.3182 0.3998 0.0259 0.0373 0.135 ]\n",
      " [0.0094 0.0322 0.0165 0.0291 0.0071 0.1162 1.1056 0.0045 0.0246 0.1137]\n",
      " [0.0522 0.0159 0.0222 0.0128 0.0364 0.0918 0.011  0.0246 0.0116 0.0189]\n",
      " [0.2715 0.0636 0.0954 0.0287 0.2486 0.0064 0.0137 0.4753 0.0525 0.013 ]\n",
      " [0.4008 0.0758 0.0576 0.0596 0.3935 0.0072 0.0244 0.2746 0.0329 0.0106]]\n",
      "\n",
      "Min MIG score is 0.2101 at iteration 4\n",
      "Min MI matrix:\n",
      "[[0.     0.     0.     0.     0.     0.     0.     0.     0.     0.    ]\n",
      " [0.039  0.0223 0.0607 0.0447 0.0302 0.3217 0.3779 0.0268 0.038  0.133 ]\n",
      " [0.0088 0.0325 0.016  0.0291 0.0065 0.12   1.0812 0.0043 0.0253 0.1143]\n",
      " [0.0524 0.0163 0.0226 0.0121 0.0372 0.0924 0.0104 0.025  0.0136 0.0182]\n",
      " [0.272  0.063  0.0926 0.0277 0.2492 0.0066 0.012  0.4738 0.0526 0.0124]\n",
      " [0.399  0.0729 0.0542 0.0596 0.3974 0.0067 0.0198 0.2755 0.0345 0.0112]]\n"
     ]
    }
   ],
   "source": [
    "# Train the beta-VAE\n",
    "all_losses = []\n",
    "recon_losses = []\n",
    "kl_losses = []\n",
    "all_mig_scores = []\n",
    "all_sap_scores = []\n",
    "\n",
    "for beta in beta_values:\n",
    "    print(colored('\\nTraining with beta = {}:'.format(beta), 'red', attrs=['bold']))\n",
    "    recon, kl, elbo = train_vae(model, data_loader, optimizer, criterion, beta)\n",
    "    all_losses.append(elbo)\n",
    "    recon_losses.append(recon)\n",
    "    kl_losses.append(kl)\n",
    "\n",
    "    # Visualize reconstructions\n",
    "    print(colored('\\nVisualizing reconstructions for beta = {}:'.format(beta), 'blue', attrs=['bold']))\n",
    "    visualize_reconstructions(model, data_loader, 5)\n",
    "\n",
    "    # Extract all factors and latent representations\n",
    "    all_factor_values, all_factor_classes, all_mu = get_factors_latents(model, data_loader)\n",
    "\n",
    "    # Compute MIG and SAP scores\n",
    "    print(colored('\\nComputing disentangelement scores for beta = {}:'.format(beta), 'blue', attrs=['bold']))\n",
    "\n",
    "    mig_scores_beta = []\n",
    "    sap_scores_beta = []\n",
    "    mi_matrices_beta = []\n",
    "    min_mig_score = 1\n",
    "    max_mig_score = 0\n",
    "    min_idx = 0\n",
    "    max_idx = 0\n",
    "    for iter in range(NUM_ITERS):\n",
    "        print(colored('Iteration {}:'.format(iter+1), attrs=['bold']))\n",
    "        mig_score, sap_score, mi_matrix = compute_disentangelement_scores(all_factor_classes, all_mu)\n",
    "        mig_scores_beta.append(mig_score)\n",
    "        sap_scores_beta.append(sap_score)\n",
    "        mi_matrices_beta.append(mi_matrix)\n",
    "\n",
    "        if mig_score < min_mig_score:\n",
    "            min_mig_score = mig_score\n",
    "            min_idx = iter\n",
    "        if mig_score > max_mig_score:\n",
    "            max_mig_score = mig_score\n",
    "            max_idx = iter\n",
    "\n",
    "    print('Max MIG score is {} at iteration {}'.format(max_mig_score, max_idx+1))\n",
    "    print('Max MI matrix:\\n{}'.format(mi_matrices_beta[max_idx]))\n",
    "    print('\\nMin MIG score is {} at iteration {}'.format(min_mig_score, min_idx+1))\n",
    "    print('Min MI matrix:\\n{}'.format(mi_matrices_beta[min_idx]))\n",
    "        \n",
    "    all_mig_scores.append(mig_scores_beta)\n",
    "    all_sap_scores.append(sap_scores_beta)"
   ]
  },
  {
   "cell_type": "code",
   "execution_count": 9,
   "id": "88be3972-a4b2-42a3-a5fb-4579b386b68b",
   "metadata": {},
   "outputs": [
    {
     "data": {
      "image/png": "[encoded data removed]",
      "text/plain": [
       "<Figure size 1000x600 with 1 Axes>"
      ]
     },
     "metadata": {},
     "output_type": "display_data"
    }
   ],
   "source": [
    "# Plot of losses vs beta values\n",
    "plt.figure(figsize=(10, 6))\n",
    "plt.plot(beta_values, all_losses, label='Total Loss', marker='o')\n",
    "plt.plot(beta_values, recon_losses, label='Reconstruction Loss', marker='o')\n",
    "plt.plot(beta_values, kl_losses, label='KL Divergence Loss', marker='o')\n",
    "plt.xlabel(r'$\\beta$')\n",
    "plt.ylabel('Loss')\n",
    "plt.legend(loc='best')\n",
    "plt.show()"
   ]
  },
  {
   "cell_type": "code",
   "execution_count": 10,
   "id": "af5cc35a-928b-4753-8556-35be5e068251",
   "metadata": {},
   "outputs": [
    {
     "data": {
      "image/png": "[encoded data removed]",
      "text/plain": [
       "<Figure size 1000x600 with 1 Axes>"
      ]
     },
     "metadata": {},
     "output_type": "display_data"
    }
   ],
   "source": [
    "# Distribution of MIG and SAP scores for each beta value\n",
    "# Compute median, min, and max values for each beta\n",
    "mig_medians = np.median(all_mig_scores, axis=1)\n",
    "mig_min = np.min(all_mig_scores, axis=1)\n",
    "mig_max = np.max(all_mig_scores, axis=1)\n",
    "\n",
    "sap_medians = np.median(all_sap_scores, axis=1)\n",
    "sap_min = np.min(all_sap_scores, axis=1)\n",
    "sap_max = np.max(all_sap_scores, axis=1)\n",
    "\n",
    "# Create line plots with shaded regions for MIG and SAP scores\n",
    "plt.figure(figsize=(10, 6))\n",
    "\n",
    "plt.plot(beta_values, mig_medians, color='#1f77b4', label='MIG Median')  # Blue\n",
    "plt.fill_between(beta_values, mig_min, mig_max, color='#1f77b4', alpha=0.3)\n",
    "\n",
    "plt.plot(beta_values, sap_medians, color='#ff7f0e', label='SAP Median')  # Orange\n",
    "plt.fill_between(beta_values, sap_min, sap_max, color='#ff7f0e', alpha=0.3)\n",
    "\n",
    "plt.xlabel(r'$\\beta$')\n",
    "plt.ylabel('Scores')\n",
    "plt.legend(loc='best')\n",
    "plt.show()\n"
   ]
  },
  {
   "cell_type": "code",
   "execution_count": null,
   "id": "ad85a824-5b02-4685-8652-f878196d0ad7",
   "metadata": {},
   "outputs": [],
   "source": []
  }
 ],
 "metadata": {
  "kernelspec": {
   "display_name": "Python 3 (ipykernel)",
   "language": "python",
   "name": "python3"
  },
  "language_info": {
   "codemirror_mode": {
    "name": "ipython",
    "version": 3
   },
   "file_extension": ".py",
   "mimetype": "text/x-python",
   "name": "python",
   "nbconvert_exporter": "python",
   "pygments_lexer": "ipython3",
   "version": "3.11.5"
  }
 },
 "nbformat": 4,
 "nbformat_minor": 5
}
